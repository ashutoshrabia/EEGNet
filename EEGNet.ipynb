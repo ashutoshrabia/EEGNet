{
  "nbformat": 4,
  "nbformat_minor": 0,
  "metadata": {
    "colab": {
      "provenance": [],
      "mount_file_id": "1OcRhOpYen3smIkllJWbZtqyGnN1sV0hX",
      "authorship_tag": "ABX9TyOtfPqwgN14m8aQ1n/nIs2C",
      "include_colab_link": true
    },
    "kernelspec": {
      "name": "python3",
      "display_name": "Python 3"
    },
    "language_info": {
      "name": "python"
    }
  },
  "cells": [
    {
      "cell_type": "markdown",
      "metadata": {
        "id": "view-in-github",
        "colab_type": "text"
      },
      "source": [
        "<a href=\"https://colab.research.google.com/github/ashutoshrabia/EEGNet/blob/main/EEGNet.ipynb\" target=\"_parent\"><img src=\"https://colab.research.google.com/assets/colab-badge.svg\" alt=\"Open In Colab\"/></a>"
      ]
    },
    {
      "cell_type": "markdown",
      "source": [
        "# Data Visualization"
      ],
      "metadata": {
        "id": "-O7WylZcpYfS"
      }
    },
    {
      "cell_type": "code",
      "execution_count": null,
      "metadata": {
        "id": "MwOVQ3QM1e6J"
      },
      "outputs": [],
      "source": [
        "import numpy as np                                      # for dealing with data\n",
        "from scipy.signal import butter, sosfiltfilt, sosfreqz  # for filtering\n",
        "import matplotlib.pyplot as plt                         # for plotting\n",
        "import pandas\n",
        "from sklearn.discriminant_analysis import LinearDiscriminantAnalysis\n",
        "from sklearn.model_selection import cross_val_score\n",
        "from sklearn.metrics import roc_curve, auc\n",
        "from sklearn.model_selection import StratifiedKFold\n",
        "import os\n",
        "from os import listdir\n",
        "from os.path import isfile, join, isdir\n",
        "import pickle\n",
        "from tensorflow.keras.models import load_model\n",
        "from sklearn.model_selection import StratifiedKFold\n",
        "from tensorflow.keras.callbacks import ModelCheckpoint\n",
        "from tensorflow.keras.utils import to_categorical\n",
        "from tensorflow.keras.optimizers import Adam\n"
      ]
    },
    {
      "cell_type": "code",
      "source": [
        "# Create filtering variables\n",
        "fs = 200.0     # 200 Hz sampling rate\n",
        "lowcut = 1.0   # 0.1 Hz is the lowest frequency we will pass\n",
        "highcut = 40.0 # 30  Hz is the highest frequency we will pass."
      ],
      "metadata": {
        "id": "owX1OJjt1pZl"
      },
      "execution_count": null,
      "outputs": []
    },
    {
      "cell_type": "code",
      "source": [
        "def butter_bandpass_filter(raw_data, fs, lowcut = 1.0, highcut =40.0, order = 5):\n",
        "    '''\n",
        "    The filter I want to apply to my raw eeg data.\n",
        "    :raw_data (nparray): data you want to process\n",
        "    :fs (float): sampling rate\n",
        "    :lowcut (float, optional): lowest frequency we will pass\n",
        "    :highcut (float, optional): highest frequency we will pass\n",
        "    :order (int, optional): order of filter\n",
        "    '''\n",
        "    nyq = 0.5 * fs\n",
        "    low = lowcut / nyq\n",
        "    high = highcut / nyq\n",
        "    sos = butter(order, [low, high], analog = False, btype = 'band', output = 'sos')\n",
        "    filted_data = sosfiltfilt(sos, raw_data)\n",
        "    return filted_data"
      ],
      "metadata": {
        "id": "i7GIiAlY1s3p"
      },
      "execution_count": null,
      "outputs": []
    },
    {
      "cell_type": "code",
      "source": [
        "epoch_s = 0      # epoch starting time relative to stmulus in miliseconds\n",
        "epoch_e = 700    # epoch ending time relative to stmulus in miliseconds\n",
        "bl_s = 0         # baseline starting time relative to stmulus in miliseconds\n",
        "bl_e = 100       # baseline ending time relative to stmulus in miliseconds\n",
        "\n",
        "\n",
        "# number of mark per epoch\n",
        "epoch_len = int((abs(epoch_s) + abs(epoch_e)) * (fs / 1000))"
      ],
      "metadata": {
        "id": "QJQBHZaL1ulg"
      },
      "execution_count": null,
      "outputs": []
    },
    {
      "cell_type": "code",
      "source": [
        "train_subj_num = 16\n",
        "test_subj_num = 10\n",
        "stimulus_per_subj = 340\n",
        "trial_per_subj = 5\n",
        "\n",
        "channels = ['Fp1', 'Fp2', 'AF7', 'AF3', 'AF4', 'AF8', 'F7', 'F5', 'F3', 'F1',\n",
        "    'Fz', 'F2', 'F4', 'F6', 'F8', 'FT7', 'FC5', 'FC3', 'FC1', 'FCz',\n",
        "    'FC2', 'FC4', 'FC6', 'FT8', 'T7', 'C5', 'C3', 'C1', 'Cz', 'C2',\n",
        "    'C4', 'C6', 'T8', 'TP7', 'CP5', 'CP3', 'CP1', 'CPz', 'CP2', 'CP4',\n",
        "    'CP6', 'TP8', 'P7', 'P5', 'P3', 'P1', 'Pz', 'P2', 'P4', 'P6', 'P8',\n",
        "    'PO7', 'POz', 'P08', 'O1', 'O2']"
      ],
      "metadata": {
        "id": "-1TvNmkx1wvp"
      },
      "execution_count": null,
      "outputs": []
    },
    {
      "cell_type": "code",
      "source": [],
      "metadata": {
        "id": "G0xKTKi5FWvF"
      },
      "execution_count": null,
      "outputs": []
    },
    {
      "cell_type": "code",
      "source": [
        "import pandas as pd\n",
        "train_labels = pd.read_csv('/content/drive/MyDrive/TrainLabels.csv')\n",
        "sample_train_data = pd.read_csv('/content/drive/MyDrive/Data_S02_Sess01.csv')"
      ],
      "metadata": {
        "id": "EuNxwZn41zwe"
      },
      "execution_count": null,
      "outputs": []
    },
    {
      "cell_type": "code",
      "source": [
        "train_labels"
      ],
      "metadata": {
        "colab": {
          "base_uri": "https://localhost:8080/",
          "height": 423
        },
        "id": "M9d017CN2PPs",
        "outputId": "d19cb6bf-aa5c-45c3-8dd7-9b1f4aa5bd96"
      },
      "execution_count": null,
      "outputs": [
        {
          "output_type": "execute_result",
          "data": {
            "text/plain": [
              "            IdFeedBack  Prediction\n",
              "0     S02_Sess01_FB001           1\n",
              "1     S02_Sess01_FB002           1\n",
              "2     S02_Sess01_FB003           0\n",
              "3     S02_Sess01_FB004           0\n",
              "4     S02_Sess01_FB005           1\n",
              "...                ...         ...\n",
              "5435  S26_Sess05_FB096           1\n",
              "5436  S26_Sess05_FB097           0\n",
              "5437  S26_Sess05_FB098           0\n",
              "5438  S26_Sess05_FB099           0\n",
              "5439  S26_Sess05_FB100           1\n",
              "\n",
              "[5440 rows x 2 columns]"
            ],
            "text/html": [
              "\n",
              "  <div id=\"df-957512a5-6e0d-4406-b61e-f185d72932ef\" class=\"colab-df-container\">\n",
              "    <div>\n",
              "<style scoped>\n",
              "    .dataframe tbody tr th:only-of-type {\n",
              "        vertical-align: middle;\n",
              "    }\n",
              "\n",
              "    .dataframe tbody tr th {\n",
              "        vertical-align: top;\n",
              "    }\n",
              "\n",
              "    .dataframe thead th {\n",
              "        text-align: right;\n",
              "    }\n",
              "</style>\n",
              "<table border=\"1\" class=\"dataframe\">\n",
              "  <thead>\n",
              "    <tr style=\"text-align: right;\">\n",
              "      <th></th>\n",
              "      <th>IdFeedBack</th>\n",
              "      <th>Prediction</th>\n",
              "    </tr>\n",
              "  </thead>\n",
              "  <tbody>\n",
              "    <tr>\n",
              "      <th>0</th>\n",
              "      <td>S02_Sess01_FB001</td>\n",
              "      <td>1</td>\n",
              "    </tr>\n",
              "    <tr>\n",
              "      <th>1</th>\n",
              "      <td>S02_Sess01_FB002</td>\n",
              "      <td>1</td>\n",
              "    </tr>\n",
              "    <tr>\n",
              "      <th>2</th>\n",
              "      <td>S02_Sess01_FB003</td>\n",
              "      <td>0</td>\n",
              "    </tr>\n",
              "    <tr>\n",
              "      <th>3</th>\n",
              "      <td>S02_Sess01_FB004</td>\n",
              "      <td>0</td>\n",
              "    </tr>\n",
              "    <tr>\n",
              "      <th>4</th>\n",
              "      <td>S02_Sess01_FB005</td>\n",
              "      <td>1</td>\n",
              "    </tr>\n",
              "    <tr>\n",
              "      <th>...</th>\n",
              "      <td>...</td>\n",
              "      <td>...</td>\n",
              "    </tr>\n",
              "    <tr>\n",
              "      <th>5435</th>\n",
              "      <td>S26_Sess05_FB096</td>\n",
              "      <td>1</td>\n",
              "    </tr>\n",
              "    <tr>\n",
              "      <th>5436</th>\n",
              "      <td>S26_Sess05_FB097</td>\n",
              "      <td>0</td>\n",
              "    </tr>\n",
              "    <tr>\n",
              "      <th>5437</th>\n",
              "      <td>S26_Sess05_FB098</td>\n",
              "      <td>0</td>\n",
              "    </tr>\n",
              "    <tr>\n",
              "      <th>5438</th>\n",
              "      <td>S26_Sess05_FB099</td>\n",
              "      <td>0</td>\n",
              "    </tr>\n",
              "    <tr>\n",
              "      <th>5439</th>\n",
              "      <td>S26_Sess05_FB100</td>\n",
              "      <td>1</td>\n",
              "    </tr>\n",
              "  </tbody>\n",
              "</table>\n",
              "<p>5440 rows × 2 columns</p>\n",
              "</div>\n",
              "    <div class=\"colab-df-buttons\">\n",
              "\n",
              "  <div class=\"colab-df-container\">\n",
              "    <button class=\"colab-df-convert\" onclick=\"convertToInteractive('df-957512a5-6e0d-4406-b61e-f185d72932ef')\"\n",
              "            title=\"Convert this dataframe to an interactive table.\"\n",
              "            style=\"display:none;\">\n",
              "\n",
              "  <svg xmlns=\"http://www.w3.org/2000/svg\" height=\"24px\" viewBox=\"0 -960 960 960\">\n",
              "    <path d=\"M120-120v-720h720v720H120Zm60-500h600v-160H180v160Zm220 220h160v-160H400v160Zm0 220h160v-160H400v160ZM180-400h160v-160H180v160Zm440 0h160v-160H620v160ZM180-180h160v-160H180v160Zm440 0h160v-160H620v160Z\"/>\n",
              "  </svg>\n",
              "    </button>\n",
              "\n",
              "  <style>\n",
              "    .colab-df-container {\n",
              "      display:flex;\n",
              "      gap: 12px;\n",
              "    }\n",
              "\n",
              "    .colab-df-convert {\n",
              "      background-color: #E8F0FE;\n",
              "      border: none;\n",
              "      border-radius: 50%;\n",
              "      cursor: pointer;\n",
              "      display: none;\n",
              "      fill: #1967D2;\n",
              "      height: 32px;\n",
              "      padding: 0 0 0 0;\n",
              "      width: 32px;\n",
              "    }\n",
              "\n",
              "    .colab-df-convert:hover {\n",
              "      background-color: #E2EBFA;\n",
              "      box-shadow: 0px 1px 2px rgba(60, 64, 67, 0.3), 0px 1px 3px 1px rgba(60, 64, 67, 0.15);\n",
              "      fill: #174EA6;\n",
              "    }\n",
              "\n",
              "    .colab-df-buttons div {\n",
              "      margin-bottom: 4px;\n",
              "    }\n",
              "\n",
              "    [theme=dark] .colab-df-convert {\n",
              "      background-color: #3B4455;\n",
              "      fill: #D2E3FC;\n",
              "    }\n",
              "\n",
              "    [theme=dark] .colab-df-convert:hover {\n",
              "      background-color: #434B5C;\n",
              "      box-shadow: 0px 1px 3px 1px rgba(0, 0, 0, 0.15);\n",
              "      filter: drop-shadow(0px 1px 2px rgba(0, 0, 0, 0.3));\n",
              "      fill: #FFFFFF;\n",
              "    }\n",
              "  </style>\n",
              "\n",
              "    <script>\n",
              "      const buttonEl =\n",
              "        document.querySelector('#df-957512a5-6e0d-4406-b61e-f185d72932ef button.colab-df-convert');\n",
              "      buttonEl.style.display =\n",
              "        google.colab.kernel.accessAllowed ? 'block' : 'none';\n",
              "\n",
              "      async function convertToInteractive(key) {\n",
              "        const element = document.querySelector('#df-957512a5-6e0d-4406-b61e-f185d72932ef');\n",
              "        const dataTable =\n",
              "          await google.colab.kernel.invokeFunction('convertToInteractive',\n",
              "                                                    [key], {});\n",
              "        if (!dataTable) return;\n",
              "\n",
              "        const docLinkHtml = 'Like what you see? Visit the ' +\n",
              "          '<a target=\"_blank\" href=https://colab.research.google.com/notebooks/data_table.ipynb>data table notebook</a>'\n",
              "          + ' to learn more about interactive tables.';\n",
              "        element.innerHTML = '';\n",
              "        dataTable['output_type'] = 'display_data';\n",
              "        await google.colab.output.renderOutput(dataTable, element);\n",
              "        const docLink = document.createElement('div');\n",
              "        docLink.innerHTML = docLinkHtml;\n",
              "        element.appendChild(docLink);\n",
              "      }\n",
              "    </script>\n",
              "  </div>\n",
              "\n",
              "\n",
              "<div id=\"df-f9e4ecd7-c540-4d0f-922e-b2804b81584b\">\n",
              "  <button class=\"colab-df-quickchart\" onclick=\"quickchart('df-f9e4ecd7-c540-4d0f-922e-b2804b81584b')\"\n",
              "            title=\"Suggest charts\"\n",
              "            style=\"display:none;\">\n",
              "\n",
              "<svg xmlns=\"http://www.w3.org/2000/svg\" height=\"24px\"viewBox=\"0 0 24 24\"\n",
              "     width=\"24px\">\n",
              "    <g>\n",
              "        <path d=\"M19 3H5c-1.1 0-2 .9-2 2v14c0 1.1.9 2 2 2h14c1.1 0 2-.9 2-2V5c0-1.1-.9-2-2-2zM9 17H7v-7h2v7zm4 0h-2V7h2v10zm4 0h-2v-4h2v4z\"/>\n",
              "    </g>\n",
              "</svg>\n",
              "  </button>\n",
              "\n",
              "<style>\n",
              "  .colab-df-quickchart {\n",
              "      --bg-color: #E8F0FE;\n",
              "      --fill-color: #1967D2;\n",
              "      --hover-bg-color: #E2EBFA;\n",
              "      --hover-fill-color: #174EA6;\n",
              "      --disabled-fill-color: #AAA;\n",
              "      --disabled-bg-color: #DDD;\n",
              "  }\n",
              "\n",
              "  [theme=dark] .colab-df-quickchart {\n",
              "      --bg-color: #3B4455;\n",
              "      --fill-color: #D2E3FC;\n",
              "      --hover-bg-color: #434B5C;\n",
              "      --hover-fill-color: #FFFFFF;\n",
              "      --disabled-bg-color: #3B4455;\n",
              "      --disabled-fill-color: #666;\n",
              "  }\n",
              "\n",
              "  .colab-df-quickchart {\n",
              "    background-color: var(--bg-color);\n",
              "    border: none;\n",
              "    border-radius: 50%;\n",
              "    cursor: pointer;\n",
              "    display: none;\n",
              "    fill: var(--fill-color);\n",
              "    height: 32px;\n",
              "    padding: 0;\n",
              "    width: 32px;\n",
              "  }\n",
              "\n",
              "  .colab-df-quickchart:hover {\n",
              "    background-color: var(--hover-bg-color);\n",
              "    box-shadow: 0 1px 2px rgba(60, 64, 67, 0.3), 0 1px 3px 1px rgba(60, 64, 67, 0.15);\n",
              "    fill: var(--button-hover-fill-color);\n",
              "  }\n",
              "\n",
              "  .colab-df-quickchart-complete:disabled,\n",
              "  .colab-df-quickchart-complete:disabled:hover {\n",
              "    background-color: var(--disabled-bg-color);\n",
              "    fill: var(--disabled-fill-color);\n",
              "    box-shadow: none;\n",
              "  }\n",
              "\n",
              "  .colab-df-spinner {\n",
              "    border: 2px solid var(--fill-color);\n",
              "    border-color: transparent;\n",
              "    border-bottom-color: var(--fill-color);\n",
              "    animation:\n",
              "      spin 1s steps(1) infinite;\n",
              "  }\n",
              "\n",
              "  @keyframes spin {\n",
              "    0% {\n",
              "      border-color: transparent;\n",
              "      border-bottom-color: var(--fill-color);\n",
              "      border-left-color: var(--fill-color);\n",
              "    }\n",
              "    20% {\n",
              "      border-color: transparent;\n",
              "      border-left-color: var(--fill-color);\n",
              "      border-top-color: var(--fill-color);\n",
              "    }\n",
              "    30% {\n",
              "      border-color: transparent;\n",
              "      border-left-color: var(--fill-color);\n",
              "      border-top-color: var(--fill-color);\n",
              "      border-right-color: var(--fill-color);\n",
              "    }\n",
              "    40% {\n",
              "      border-color: transparent;\n",
              "      border-right-color: var(--fill-color);\n",
              "      border-top-color: var(--fill-color);\n",
              "    }\n",
              "    60% {\n",
              "      border-color: transparent;\n",
              "      border-right-color: var(--fill-color);\n",
              "    }\n",
              "    80% {\n",
              "      border-color: transparent;\n",
              "      border-right-color: var(--fill-color);\n",
              "      border-bottom-color: var(--fill-color);\n",
              "    }\n",
              "    90% {\n",
              "      border-color: transparent;\n",
              "      border-bottom-color: var(--fill-color);\n",
              "    }\n",
              "  }\n",
              "</style>\n",
              "\n",
              "  <script>\n",
              "    async function quickchart(key) {\n",
              "      const quickchartButtonEl =\n",
              "        document.querySelector('#' + key + ' button');\n",
              "      quickchartButtonEl.disabled = true;  // To prevent multiple clicks.\n",
              "      quickchartButtonEl.classList.add('colab-df-spinner');\n",
              "      try {\n",
              "        const charts = await google.colab.kernel.invokeFunction(\n",
              "            'suggestCharts', [key], {});\n",
              "      } catch (error) {\n",
              "        console.error('Error during call to suggestCharts:', error);\n",
              "      }\n",
              "      quickchartButtonEl.classList.remove('colab-df-spinner');\n",
              "      quickchartButtonEl.classList.add('colab-df-quickchart-complete');\n",
              "    }\n",
              "    (() => {\n",
              "      let quickchartButtonEl =\n",
              "        document.querySelector('#df-f9e4ecd7-c540-4d0f-922e-b2804b81584b button');\n",
              "      quickchartButtonEl.style.display =\n",
              "        google.colab.kernel.accessAllowed ? 'block' : 'none';\n",
              "    })();\n",
              "  </script>\n",
              "</div>\n",
              "\n",
              "  <div id=\"id_c46ccd33-ae26-49ea-a7b9-1cfde7623f1b\">\n",
              "    <style>\n",
              "      .colab-df-generate {\n",
              "        background-color: #E8F0FE;\n",
              "        border: none;\n",
              "        border-radius: 50%;\n",
              "        cursor: pointer;\n",
              "        display: none;\n",
              "        fill: #1967D2;\n",
              "        height: 32px;\n",
              "        padding: 0 0 0 0;\n",
              "        width: 32px;\n",
              "      }\n",
              "\n",
              "      .colab-df-generate:hover {\n",
              "        background-color: #E2EBFA;\n",
              "        box-shadow: 0px 1px 2px rgba(60, 64, 67, 0.3), 0px 1px 3px 1px rgba(60, 64, 67, 0.15);\n",
              "        fill: #174EA6;\n",
              "      }\n",
              "\n",
              "      [theme=dark] .colab-df-generate {\n",
              "        background-color: #3B4455;\n",
              "        fill: #D2E3FC;\n",
              "      }\n",
              "\n",
              "      [theme=dark] .colab-df-generate:hover {\n",
              "        background-color: #434B5C;\n",
              "        box-shadow: 0px 1px 3px 1px rgba(0, 0, 0, 0.15);\n",
              "        filter: drop-shadow(0px 1px 2px rgba(0, 0, 0, 0.3));\n",
              "        fill: #FFFFFF;\n",
              "      }\n",
              "    </style>\n",
              "    <button class=\"colab-df-generate\" onclick=\"generateWithVariable('train_labels')\"\n",
              "            title=\"Generate code using this dataframe.\"\n",
              "            style=\"display:none;\">\n",
              "\n",
              "  <svg xmlns=\"http://www.w3.org/2000/svg\" height=\"24px\"viewBox=\"0 0 24 24\"\n",
              "       width=\"24px\">\n",
              "    <path d=\"M7,19H8.4L18.45,9,17,7.55,7,17.6ZM5,21V16.75L18.45,3.32a2,2,0,0,1,2.83,0l1.4,1.43a1.91,1.91,0,0,1,.58,1.4,1.91,1.91,0,0,1-.58,1.4L9.25,21ZM18.45,9,17,7.55Zm-12,3A5.31,5.31,0,0,0,4.9,8.1,5.31,5.31,0,0,0,1,6.5,5.31,5.31,0,0,0,4.9,4.9,5.31,5.31,0,0,0,6.5,1,5.31,5.31,0,0,0,8.1,4.9,5.31,5.31,0,0,0,12,6.5,5.46,5.46,0,0,0,6.5,12Z\"/>\n",
              "  </svg>\n",
              "    </button>\n",
              "    <script>\n",
              "      (() => {\n",
              "      const buttonEl =\n",
              "        document.querySelector('#id_c46ccd33-ae26-49ea-a7b9-1cfde7623f1b button.colab-df-generate');\n",
              "      buttonEl.style.display =\n",
              "        google.colab.kernel.accessAllowed ? 'block' : 'none';\n",
              "\n",
              "      buttonEl.onclick = () => {\n",
              "        google.colab.notebook.generateWithVariable('train_labels');\n",
              "      }\n",
              "      })();\n",
              "    </script>\n",
              "  </div>\n",
              "\n",
              "    </div>\n",
              "  </div>\n"
            ],
            "application/vnd.google.colaboratory.intrinsic+json": {
              "type": "dataframe",
              "variable_name": "train_labels",
              "summary": "{\n  \"name\": \"train_labels\",\n  \"rows\": 5440,\n  \"fields\": [\n    {\n      \"column\": \"IdFeedBack\",\n      \"properties\": {\n        \"dtype\": \"string\",\n        \"num_unique_values\": 5440,\n        \"samples\": [\n          \"S11_Sess03_FB047\",\n          \"S24_Sess01_FB003\",\n          \"S06_Sess02_FB011\"\n        ],\n        \"semantic_type\": \"\",\n        \"description\": \"\"\n      }\n    },\n    {\n      \"column\": \"Prediction\",\n      \"properties\": {\n        \"dtype\": \"number\",\n        \"std\": 0,\n        \"min\": 0,\n        \"max\": 1,\n        \"num_unique_values\": 2,\n        \"samples\": [\n          0,\n          1\n        ],\n        \"semantic_type\": \"\",\n        \"description\": \"\"\n      }\n    }\n  ]\n}"
            }
          },
          "metadata": {},
          "execution_count": 28
        }
      ]
    },
    {
      "cell_type": "code",
      "source": [
        "train_list_arr = np.array(sorted(listdir('train')))\n",
        "train_list_np = np.reshape(\n",
        "    train_list_arr, (train_subj_num, trial_per_subj))\n",
        "test_list_arr = np.array(sorted(listdir('test')))\n",
        "test_list_np = np.reshape(\n",
        "    test_list_arr, (test_subj_num, trial_per_subj))\n",
        "print(train_list_np.shape, test_list_np.shape)\n",
        "\n",
        "train_data_list = np.empty(\n",
        "    (0, stimulus_per_subj, len(channels), epoch_len), float)\n",
        "test_data_list = np.empty(\n",
        "    (0, stimulus_per_subj, len(channels), epoch_len), float)\n",
        "print(train_data_list.shape, test_data_list.shape)"
      ],
      "metadata": {
        "id": "g-xJyPJvFbhv"
      },
      "execution_count": null,
      "outputs": []
    },
    {
      "cell_type": "code",
      "source": [
        "def generate_epoch(file_path, channels, fs, eeg_filter, stimulus_times=None, baseline=True,  epoch_s=0, epoch_e=700, bl_s=0, bl_e=100):\n",
        "    # Generating epoch given csv file so that it should contain 'Time' column that represents timepoints, and the time should start from 0.\n",
        "    # If your csv file does not have FeedBackEvent indicating the stimulus, you must pass stumulus_times.\n",
        "    # Here we used a butter bandpass filter\n",
        "\n",
        "    train_data = pd.read_csv(file_path)\n",
        "\n",
        "    train_data.loc[:, 'Time'] = train_data.loc[:, 'Time']*1000\n",
        "    raw_eeg = train_data[channels].values.T\n",
        "\n",
        "    time_df = train_data['Time'].values\n",
        "    train_data['index'] = train_data.index.values\n",
        "    if stimulus_times is None:\n",
        "        mark_indices = np.asarray(\n",
        "            train_data[train_data['FeedBackEvent'] == 1].index).flatten()\n",
        "    else:\n",
        "        mark_indices = np.round(np.asarray(\n",
        "            stimulus_times).flatten() * fs).astype(int)\n",
        "\n",
        "    # We define the bounds of our epoch as well as our baseline\n",
        "\n",
        "    # index in epoch_df where our baseline begins\n",
        "    b_s = int((abs(epoch_s) + bl_s) * (fs / 1000))\n",
        "    # index in epoch_df where our baseline ends\n",
        "    b_e = int((abs(epoch_s) + bl_e) * (fs / 1000))\n",
        "\n",
        "    # Let's calculate the length our epoch with our given sampling rate\n",
        "    epoch_len = int((abs(epoch_s) + abs(epoch_e)) * (fs / 1000))\n",
        "\n",
        "    # The number of indices before marker we want\n",
        "    e_s = int((epoch_s * (fs / 1000)))\n",
        "    # The number of indices after marker we want\n",
        "    e_e = int((epoch_e * (fs / 1000)))\n",
        "\n",
        "    # Epoch the data\n",
        "    final_epoch = np.empty((mark_indices.shape[0], epoch_len, 0), float)\n",
        "    for channel in channels:\n",
        "        epoch = np.zeros(shape=(int(mark_indices.shape[0]), epoch_len))\n",
        "        raw_eeg = train_data[channel].values\n",
        "\n",
        "        clean_eeg = eeg_filter(raw_eeg, fs, lowcut, highcut, 5)\n",
        "\n",
        "        for i, mark_idx in enumerate(mark_indices):\n",
        "            # grab the appropriate samples around the stimulus onset\n",
        "            epoch[i, :] = clean_eeg[mark_idx + e_s: mark_idx + e_e]\n",
        "\n",
        "        # Baseline correction\n",
        "        if baseline:\n",
        "            for i in range(0, int(epoch.shape[0])):\n",
        "                epoch[i, :] = epoch[i, :] - np.mean(epoch[i, b_s:b_e])\n",
        "\n",
        "        # stack epoch of each channel\n",
        "        final_epoch = np.dstack((final_epoch, epoch))\n",
        "    final_epoch = np.swapaxes(final_epoch, 1, 2)\n",
        "    return final_epoch"
      ],
      "metadata": {
        "id": "RkggjoSFFg6M"
      },
      "execution_count": null,
      "outputs": []
    },
    {
      "cell_type": "code",
      "source": [
        "if not isfile(\"train_data.npy\"):\n",
        "    for training_participant_id in range(train_subj_num):\n",
        "        subject_dir_list = train_list_np[training_participant_id]\n",
        "        subject_epoch = np.empty((0, len(channels), epoch_len), float)\n",
        "        for trial_id in range(trial_per_subj):\n",
        "            subject_dir = subject_dir_list[trial_id]\n",
        "            data = generate_epoch('train/'+subject_dir, channels, fs,\n",
        "                butter_bandpass_filter, epoch_s = epoch_s, epoch_e = epoch_e, bl_s = bl_s, bl_e = bl_e)\n",
        "            subject_epoch = np.vstack((subject_epoch, data))\n",
        "        subject_epoch = np.reshape(\n",
        "            subject_epoch, (1, stimulus_per_subj, len(channels), epoch_len))\n",
        "        train_data_list = np.vstack((train_data_list, subject_epoch))\n",
        "\n",
        "    print('Epoched training data shape: ' + str(train_data_list.shape))\n",
        "\n",
        "    for testing_participant_id in range(test_subj_num):\n",
        "        subject_dir_list = test_list_np[testing_participant_id]\n",
        "        subject_epoch = np.empty((0, len(channels), epoch_len), float)\n",
        "        for trial_id in range(trial_per_subj):\n",
        "            subject_dir = subject_dir_list[trial_id]\n",
        "            data = generate_epoch('test/'+subject_dir, channels, fs,\n",
        "                butter_bandpass_filter, epoch_s = epoch_s, epoch_e = epoch_e, bl_s = bl_s, bl_e = bl_e)\n",
        "            subject_epoch = np.vstack((subject_epoch, data))\n",
        "        subject_epoch = np.reshape(\n",
        "            subject_epoch, (1, stimulus_per_subj, len(channels), epoch_len))\n",
        "        test_data_list = np.vstack((test_data_list, subject_epoch))\n",
        "\n",
        "    print('Epoched testing data shape: ' + str(test_data_list.shape))\n",
        "\n",
        "    np.save('train_data.npy', train_data_list)\n",
        "    np.save('test_data.npy', test_data_list)"
      ],
      "metadata": {
        "id": "HZXxoi0cFkPn"
      },
      "execution_count": null,
      "outputs": []
    },
    {
      "cell_type": "code",
      "source": [
        "train_data_list = np.load('/content/drive/MyDrive/train_data.npy')\n",
        "test_data_list = np.load('/content/drive/MyDrive/test_data.npy')\n",
        "print('Epoched training data shape: ' + str(train_data_list.shape))\n",
        "print('Epoched testing data shape: ' + str(test_data_list.shape))"
      ],
      "metadata": {
        "colab": {
          "base_uri": "https://localhost:8080/"
        },
        "id": "3n7SZfCb3AkB",
        "outputId": "5e187322-67f8-4069-b9db-a243f5c42bfa"
      },
      "execution_count": null,
      "outputs": [
        {
          "output_type": "stream",
          "name": "stdout",
          "text": [
            "Epoched training data shape: (16, 340, 56, 140)\n",
            "Epoched testing data shape: (10, 340, 56, 140)\n"
          ]
        }
      ]
    },
    {
      "cell_type": "code",
      "source": [
        "import tensorflow as tf\n",
        "from tensorflow.keras.models import Model\n",
        "from tensorflow.keras.layers import Dense, Activation, Permute, Dropout\n",
        "from tensorflow.keras.layers import Conv2D, MaxPooling2D, AveragePooling2D\n",
        "from tensorflow.keras.layers import SeparableConv2D, DepthwiseConv2D\n",
        "from tensorflow.keras.layers import BatchNormalization\n",
        "from tensorflow.keras.layers import SpatialDropout2D\n",
        "from tensorflow.keras.regularizers import l1_l2\n",
        "from tensorflow.keras.layers import Input, Flatten\n",
        "from tensorflow.keras.constraints import max_norm\n",
        "from tensorflow.keras import backend as K\n",
        "from tensorflow.keras import optimizers\n",
        "from tensorflow.keras import utils as np_utils\n",
        "from tensorflow.keras.callbacks import ModelCheckpoint"
      ],
      "metadata": {
        "id": "g4jQmznL50aS"
      },
      "execution_count": null,
      "outputs": []
    },
    {
      "cell_type": "markdown",
      "source": [
        "# EEGNet\n"
      ],
      "metadata": {
        "id": "B_QrI78u8d48"
      }
    },
    {
      "cell_type": "code",
      "source": [
        "def EEGNet(nb_classes, Chans = 64, Samples = 128,dropoutRate = 0.5, kernLength = 64, F1 = 8,D = 2, F2 = 16, norm_rate = 0.25, dropoutType = 'Dropout'):\n",
        "    if dropoutType == 'SpatialDropout2D':\n",
        "        dropoutType = SpatialDropout2D\n",
        "    elif dropoutType == 'Dropout':\n",
        "        dropoutType = Dropout\n",
        "    else:\n",
        "        raise ValueError('dropoutType must be one of SpatialDropout2D '\n",
        "                         'or Dropout, passed as a string.')\n",
        "\n",
        "    input1   = Input(shape = (1, Chans, Samples))\n",
        "\n",
        "\n",
        "    block1       = Conv2D(F1, (1, kernLength), padding = 'same',\n",
        "                                   input_shape = (1, Chans, Samples),\n",
        "                                   use_bias = False)(input1)\n",
        "    block1       = BatchNormalization(axis = 1)(block1)\n",
        "    block1       = DepthwiseConv2D((1, D), use_bias = False,\n",
        "                                   depth_multiplier = D,\n",
        "                                   depthwise_constraint = max_norm(1.),\n",
        "                                  data_format='channels_last')(block1)\n",
        "    block1       = BatchNormalization(axis = 1)(block1)\n",
        "    block1       = Activation('elu')(block1)\n",
        "    block1       = AveragePooling2D((1, 4), data_format='channels_last')(block1)\n",
        "    block1       = dropoutType(dropoutRate)(block1)\n",
        "\n",
        "    block2       = SeparableConv2D(F2, (1, 16),\n",
        "                                   use_bias = False, padding = 'same')(block1)\n",
        "    block2       = BatchNormalization(axis = 1)(block2)\n",
        "    block2       = Activation('elu')(block2)\n",
        "    block2       = AveragePooling2D((1, 8), data_format='channels_last')(block2)\n",
        "    block2       = dropoutType(dropoutRate)(block2)\n",
        "\n",
        "    flatten      = Flatten(name = 'flatten')(block2)\n",
        "\n",
        "    dense        = Dense(nb_classes, name = 'dense',\n",
        "                         kernel_constraint = max_norm(norm_rate))(flatten)\n",
        "    softmax      = Activation('softmax', name = 'softmax')(dense)\n",
        "\n",
        "    return Model(inputs=input1, outputs=softmax)"
      ],
      "metadata": {
        "id": "LEbqYN369IUa"
      },
      "execution_count": null,
      "outputs": []
    },
    {
      "cell_type": "code",
      "source": [
        "# Calculate the appropriate dimensions based on the total number of elements\n",
        "total_elements1 = train_data_list.size\n",
        "num_samples1 = 16 * 340\n",
        "channels1 = 56\n",
        "time_points1 = total_elements1 // (num_samples1 * channels1)\n",
        "\n",
        "# Reshape the array with the calculated dimensions\n",
        "X_train_valid = np.reshape(train_data_list, (num_samples1, channels1, time_points1))\n",
        "print('Shape of X_train_valid:', X_train_valid.shape)\n",
        "# Calculate the appropriate dimensions based on the total number of elements\n",
        "total_elements2 = test_data_list.size\n",
        "num_samples2 = 10 * 340\n",
        "channels2 = 56\n",
        "time_points2 = total_elements2 // (num_samples2 * channels2)\n",
        "\n",
        "# Reshape the array with the calculated dimensions\n",
        "X_test = np.reshape(test_data_list, (num_samples2, channels2, time_points2))\n",
        "print('Shape of X_test_valid:', X_test.shape)\n"
      ],
      "metadata": {
        "colab": {
          "base_uri": "https://localhost:8080/"
        },
        "id": "zAb4T2G0o4fz",
        "outputId": "9fb0d906-6a81-4cf6-b829-00165c8ab428"
      },
      "execution_count": null,
      "outputs": [
        {
          "output_type": "stream",
          "name": "stdout",
          "text": [
            "Shape of X_train_valid: (5440, 56, 140)\n",
            "Shape of X_test_valid: (3400, 56, 140)\n"
          ]
        }
      ]
    },
    {
      "cell_type": "code",
      "source": [
        "#X_train_valid = np.reshape(train_data_list, (16*340, 56, 260))\n",
        "Y_train_valid = pd.read_csv('/content/drive/MyDrive/TrainLabels.csv')['Prediction'].values\n",
        "X_train = X_train_valid[1360:, :]\n",
        "X_valid = X_train_valid[:1360, :]\n",
        "y_train = Y_train_valid[1360:]\n",
        "y_valid = Y_train_valid[:1360]\n",
        "\n",
        "kernels, chans, samples = 1, 56, 140\n",
        "\n",
        "X_train = X_train.reshape(X_train.shape[0], kernels, chans, samples)\n",
        "X_valid = X_valid.reshape(X_valid.shape[0], kernels, chans, samples)\n",
        "X_test = X_test.reshape(X_test.shape[0], kernels, chans, samples)\n",
        "\n",
        "print(str(X_train.shape[0]) + ' train samples')\n",
        "print(str(X_valid.shape[0]) + ' validation samples')\n",
        "print(str(X_test.shape[0]) + ' test samples')"
      ],
      "metadata": {
        "colab": {
          "base_uri": "https://localhost:8080/"
        },
        "id": "VwQmnMennKvD",
        "outputId": "ccfffbe3-5c14-4a8f-a380-5cc4aa9fd65c"
      },
      "execution_count": null,
      "outputs": [
        {
          "output_type": "stream",
          "name": "stdout",
          "text": [
            "4080 train samples\n",
            "1360 validation samples\n",
            "3400 test samples\n"
          ]
        }
      ]
    },
    {
      "cell_type": "markdown",
      "source": [
        "# Training Model"
      ],
      "metadata": {
        "id": "fgKg1bKp8kZT"
      }
    },
    {
      "cell_type": "code",
      "source": [
        "model = EEGNet(nb_classes=2, Chans=chans, Samples=samples,\n",
        "               dropoutRate=0.5, kernLength=100, F1=8, D=2, F2=16,\n",
        "               dropoutType='Dropout')\n",
        "\n",
        "\n",
        "model.compile(loss='sparse_categorical_crossentropy', optimizer='adam', metrics=['accuracy'])\n",
        "\n",
        "numParams = model.count_params()\n",
        "\n",
        "checkpointer = ModelCheckpoint(filepath='/tmp/checkpoint.h5', verbose=1, save_best_only=True)\n"
      ],
      "metadata": {
        "id": "h8eAkkcNoCIk"
      },
      "execution_count": null,
      "outputs": []
    },
    {
      "cell_type": "code",
      "source": [
        "weight_0 = 1/(len([y for y in Y_train_valid if y == 0]))\n",
        "weight_1 = 1/(len([y for y in Y_train_valid if y == 1]))\n",
        "class_weights = {0: weight_0, 1: weight_1}\n",
        "\n",
        "fittedModel = model.fit(X_train, y_train, batch_size=34, epochs=10,verbose=2, validation_data=(X_valid, y_valid),callbacks=[checkpointer], class_weight=class_weights)\n"
      ],
      "metadata": {
        "colab": {
          "base_uri": "https://localhost:8080/"
        },
        "id": "zKKcgRCpoPOK",
        "outputId": "b0cca143-97b3-4a7a-e5ab-8a91d23d0e63"
      },
      "execution_count": null,
      "outputs": [
        {
          "output_type": "stream",
          "name": "stdout",
          "text": [
            "Epoch 1/10\n",
            "\n",
            "Epoch 1: val_loss did not improve from inf\n",
            "120/120 - 16s - loss: 2.5816e-04 - accuracy: 0.5400 - val_loss: nan - val_accuracy: 0.2368 - 16s/epoch - 137ms/step\n",
            "Epoch 2/10\n",
            "\n",
            "Epoch 2: val_loss did not improve from inf\n",
            "120/120 - 13s - loss: 2.4935e-04 - accuracy: 0.5600 - val_loss: nan - val_accuracy: 0.2147 - 13s/epoch - 105ms/step\n",
            "Epoch 3/10\n",
            "\n",
            "Epoch 3: val_loss did not improve from inf\n",
            "120/120 - 14s - loss: 2.4307e-04 - accuracy: 0.5885 - val_loss: nan - val_accuracy: 0.2382 - 14s/epoch - 113ms/step\n",
            "Epoch 4/10\n",
            "\n",
            "Epoch 4: val_loss did not improve from inf\n",
            "120/120 - 12s - loss: 2.4158e-04 - accuracy: 0.5934 - val_loss: nan - val_accuracy: 0.2566 - 12s/epoch - 98ms/step\n",
            "Epoch 5/10\n",
            "\n",
            "Epoch 5: val_loss did not improve from inf\n",
            "120/120 - 19s - loss: 2.3815e-04 - accuracy: 0.6213 - val_loss: nan - val_accuracy: 0.2147 - 19s/epoch - 159ms/step\n",
            "Epoch 6/10\n",
            "\n",
            "Epoch 6: val_loss did not improve from inf\n",
            "120/120 - 12s - loss: 2.3573e-04 - accuracy: 0.6140 - val_loss: nan - val_accuracy: 0.2235 - 12s/epoch - 97ms/step\n",
            "Epoch 7/10\n",
            "\n",
            "Epoch 7: val_loss did not improve from inf\n",
            "120/120 - 10s - loss: 2.3646e-04 - accuracy: 0.6248 - val_loss: nan - val_accuracy: 0.2338 - 10s/epoch - 86ms/step\n",
            "Epoch 8/10\n",
            "\n",
            "Epoch 8: val_loss did not improve from inf\n",
            "120/120 - 12s - loss: 2.3662e-04 - accuracy: 0.6284 - val_loss: nan - val_accuracy: 0.2147 - 12s/epoch - 97ms/step\n",
            "Epoch 9/10\n",
            "\n",
            "Epoch 9: val_loss did not improve from inf\n",
            "120/120 - 12s - loss: 2.3572e-04 - accuracy: 0.6279 - val_loss: nan - val_accuracy: 0.2235 - 12s/epoch - 99ms/step\n",
            "Epoch 10/10\n",
            "\n",
            "Epoch 10: val_loss did not improve from inf\n",
            "120/120 - 12s - loss: 2.3544e-04 - accuracy: 0.6314 - val_loss: nan - val_accuracy: 0.2353 - 12s/epoch - 98ms/step\n"
          ]
        }
      ]
    },
    {
      "cell_type": "code",
      "source": [
        "_, accuracy = model.evaluate(X_valid, y_valid, verbose=0)\n",
        "print('Accuracy: {:.2f}%'.format(accuracy * 100))\n"
      ],
      "metadata": {
        "colab": {
          "base_uri": "https://localhost:8080/"
        },
        "id": "bImtuT8cuguQ",
        "outputId": "723db995-75e2-40b0-f7cf-60848116c200"
      },
      "execution_count": null,
      "outputs": [
        {
          "output_type": "stream",
          "name": "stdout",
          "text": [
            "Accuracy: 23.82%\n"
          ]
        }
      ]
    },
    {
      "cell_type": "code",
      "source": [
        "y_pred_proba = model.predict(X_test)\n",
        "\n",
        "# Get the true labels (assuming y_test is one-hot encoded)\n",
        "y_test_true = np.argmax(y_test, axis=1)\n",
        "\n",
        "# Get the probabilities for the positive class (assuming binary classification)\n",
        "y_pred_proba_pos = y_pred_proba[:, 1]\n",
        "\n",
        "# Calculate the ROC curve\n",
        "fpr, tpr, thresholds = roc_curve(y_test_true, y_pred_proba_pos)\n",
        "\n",
        "# Calculate the AUC\n",
        "roc_auc = auc(fpr, tpr)\n",
        "\n",
        "# Plot the ROC curve\n",
        "plt.figure()\n",
        "plt.plot(fpr, tpr, color='darkorange', lw=2, label='ROC curve (area = %0.2f)' % roc_auc)\n",
        "plt.plot([0, 1], [0, 1], color='navy', lw=2, linestyle='--')\n",
        "plt.xlim([0.0, 1.0])\n",
        "plt.ylim([0.0, 1.05])\n",
        "plt.xlabel('False Positive Rate')\n",
        "plt.ylabel('True Positive Rate')\n",
        "plt.title('Receiver Operating Characteristic')\n",
        "plt.legend(loc=\"lower right\")\n",
        "plt.show()\n",
        "\n",
        "print(f'AUC: {roc_auc}')"
      ],
      "metadata": {
        "colab": {
          "base_uri": "https://localhost:8080/",
          "height": 228
        },
        "id": "7XS0wHkaeQnk",
        "outputId": "ba05571d-4204-43f8-c47e-17b9aa6a5fe3"
      },
      "execution_count": null,
      "outputs": [
        {
          "output_type": "stream",
          "name": "stdout",
          "text": [
            "107/107 [==============================] - 2s 21ms/step\n"
          ]
        },
        {
          "output_type": "error",
          "ename": "NameError",
          "evalue": "name 'y_test' is not defined",
          "traceback": [
            "\u001b[0;31m---------------------------------------------------------------------------\u001b[0m",
            "\u001b[0;31mNameError\u001b[0m                                 Traceback (most recent call last)",
            "\u001b[0;32m<ipython-input-44-a8f6eef1e821>\u001b[0m in \u001b[0;36m<cell line: 4>\u001b[0;34m()\u001b[0m\n\u001b[1;32m      2\u001b[0m \u001b[0;34m\u001b[0m\u001b[0m\n\u001b[1;32m      3\u001b[0m \u001b[0;31m# Get the true labels (assuming y_test is one-hot encoded)\u001b[0m\u001b[0;34m\u001b[0m\u001b[0;34m\u001b[0m\u001b[0m\n\u001b[0;32m----> 4\u001b[0;31m \u001b[0my_test_true\u001b[0m \u001b[0;34m=\u001b[0m \u001b[0mnp\u001b[0m\u001b[0;34m.\u001b[0m\u001b[0margmax\u001b[0m\u001b[0;34m(\u001b[0m\u001b[0my_test\u001b[0m\u001b[0;34m,\u001b[0m \u001b[0maxis\u001b[0m\u001b[0;34m=\u001b[0m\u001b[0;36m1\u001b[0m\u001b[0;34m)\u001b[0m\u001b[0;34m\u001b[0m\u001b[0;34m\u001b[0m\u001b[0m\n\u001b[0m\u001b[1;32m      5\u001b[0m \u001b[0;34m\u001b[0m\u001b[0m\n\u001b[1;32m      6\u001b[0m \u001b[0;31m# Get the probabilities for the positive class (assuming binary classification)\u001b[0m\u001b[0;34m\u001b[0m\u001b[0;34m\u001b[0m\u001b[0m\n",
            "\u001b[0;31mNameError\u001b[0m: name 'y_test' is not defined"
          ]
        }
      ]
    },
    {
      "cell_type": "code",
      "source": [
        "y_pred_proba = model.predict(X_valid)\n",
        "\n",
        "# Get the true labels (assuming y_test is one-hot encoded)\n",
        "y_test_true = np.argmax(y_valid)\n",
        "\n",
        "# Get the probabilities for the positive class (assuming binary classification)\n",
        "y_pred_proba_pos = y_pred_proba[:, 1]\n",
        "\n",
        "# Calculate the ROC curve\n",
        "fpr, tpr, thresholds = roc_curve(y_test_true, y_pred_proba_pos)\n",
        "\n",
        "# Calculate the AUC\n",
        "roc_auc = auc(fpr, tpr)\n",
        "\n",
        "# Plot the ROC curve\n",
        "plt.figure()\n",
        "plt.plot(fpr, tpr, color='darkorange', lw=2, label='ROC curve (area = %0.2f)' % roc_auc)\n",
        "plt.plot([0, 1], [0, 1], color='navy', lw=2, linestyle='--')\n",
        "plt.xlim([0.0, 1.0])\n",
        "plt.ylim([0.0, 1.05])\n",
        "plt.xlabel('False Positive Rate')\n",
        "plt.ylabel('True Positive Rate')\n",
        "plt.title('Receiver Operating Characteristic')\n",
        "plt.legend(loc=\"lower right\")\n",
        "plt.show()\n",
        "\n",
        "print(f'AUC: {roc_auc}')"
      ],
      "metadata": {
        "colab": {
          "base_uri": "https://localhost:8080/",
          "height": 1000
        },
        "id": "MhxfVwXXe5hq",
        "outputId": "fe1e5184-dd40-4bcb-b067-8c8059687216"
      },
      "execution_count": null,
      "outputs": [
        {
          "output_type": "error",
          "ename": "InvalidArgumentError",
          "evalue": "Graph execution error:\n\nDetected at node model_5/batch_normalization/FusedBatchNormV3 defined at (most recent call last):\n  File \"/usr/lib/python3.10/runpy.py\", line 196, in _run_module_as_main\n\n  File \"/usr/lib/python3.10/runpy.py\", line 86, in _run_code\n\n  File \"/usr/local/lib/python3.10/dist-packages/colab_kernel_launcher.py\", line 37, in <module>\n\n  File \"/usr/local/lib/python3.10/dist-packages/traitlets/config/application.py\", line 992, in launch_instance\n\n  File \"/usr/local/lib/python3.10/dist-packages/ipykernel/kernelapp.py\", line 619, in start\n\n  File \"/usr/local/lib/python3.10/dist-packages/tornado/platform/asyncio.py\", line 195, in start\n\n  File \"/usr/lib/python3.10/asyncio/base_events.py\", line 603, in run_forever\n\n  File \"/usr/lib/python3.10/asyncio/base_events.py\", line 1909, in _run_once\n\n  File \"/usr/lib/python3.10/asyncio/events.py\", line 80, in _run\n\n  File \"/usr/local/lib/python3.10/dist-packages/tornado/ioloop.py\", line 685, in <lambda>\n\n  File \"/usr/local/lib/python3.10/dist-packages/tornado/ioloop.py\", line 738, in _run_callback\n\n  File \"/usr/local/lib/python3.10/dist-packages/tornado/gen.py\", line 825, in inner\n\n  File \"/usr/local/lib/python3.10/dist-packages/tornado/gen.py\", line 786, in run\n\n  File \"/usr/local/lib/python3.10/dist-packages/ipykernel/kernelbase.py\", line 361, in process_one\n\n  File \"/usr/local/lib/python3.10/dist-packages/tornado/gen.py\", line 234, in wrapper\n\n  File \"/usr/local/lib/python3.10/dist-packages/ipykernel/kernelbase.py\", line 261, in dispatch_shell\n\n  File \"/usr/local/lib/python3.10/dist-packages/tornado/gen.py\", line 234, in wrapper\n\n  File \"/usr/local/lib/python3.10/dist-packages/ipykernel/kernelbase.py\", line 539, in execute_request\n\n  File \"/usr/local/lib/python3.10/dist-packages/tornado/gen.py\", line 234, in wrapper\n\n  File \"/usr/local/lib/python3.10/dist-packages/ipykernel/ipkernel.py\", line 302, in do_execute\n\n  File \"/usr/local/lib/python3.10/dist-packages/ipykernel/zmqshell.py\", line 539, in run_cell\n\n  File \"/usr/local/lib/python3.10/dist-packages/IPython/core/interactiveshell.py\", line 2975, in run_cell\n\n  File \"/usr/local/lib/python3.10/dist-packages/IPython/core/interactiveshell.py\", line 3030, in _run_cell\n\n  File \"/usr/local/lib/python3.10/dist-packages/IPython/core/async_helpers.py\", line 78, in _pseudo_sync_runner\n\n  File \"/usr/local/lib/python3.10/dist-packages/IPython/core/interactiveshell.py\", line 3257, in run_cell_async\n\n  File \"/usr/local/lib/python3.10/dist-packages/IPython/core/interactiveshell.py\", line 3473, in run_ast_nodes\n\n  File \"/usr/local/lib/python3.10/dist-packages/IPython/core/interactiveshell.py\", line 3553, in run_code\n\n  File \"<ipython-input-48-d54cb847bb81>\", line 1, in <cell line: 1>\n\n  File \"/usr/local/lib/python3.10/dist-packages/keras/src/utils/traceback_utils.py\", line 65, in error_handler\n\n  File \"/usr/local/lib/python3.10/dist-packages/keras/src/engine/training.py\", line 2655, in predict\n\n  File \"/usr/local/lib/python3.10/dist-packages/keras/src/engine/training.py\", line 2440, in predict_function\n\n  File \"/usr/local/lib/python3.10/dist-packages/keras/src/engine/training.py\", line 2425, in step_function\n\n  File \"/usr/local/lib/python3.10/dist-packages/keras/src/engine/training.py\", line 2413, in run_step\n\n  File \"/usr/local/lib/python3.10/dist-packages/keras/src/engine/training.py\", line 2381, in predict_step\n\n  File \"/usr/local/lib/python3.10/dist-packages/keras/src/utils/traceback_utils.py\", line 65, in error_handler\n\n  File \"/usr/local/lib/python3.10/dist-packages/keras/src/engine/training.py\", line 590, in __call__\n\n  File \"/usr/local/lib/python3.10/dist-packages/keras/src/utils/traceback_utils.py\", line 65, in error_handler\n\n  File \"/usr/local/lib/python3.10/dist-packages/keras/src/engine/base_layer.py\", line 1149, in __call__\n\n  File \"/usr/local/lib/python3.10/dist-packages/keras/src/utils/traceback_utils.py\", line 96, in error_handler\n\n  File \"/usr/local/lib/python3.10/dist-packages/keras/src/engine/functional.py\", line 515, in call\n\n  File \"/usr/local/lib/python3.10/dist-packages/keras/src/engine/functional.py\", line 672, in _run_internal_graph\n\n  File \"/usr/local/lib/python3.10/dist-packages/keras/src/utils/traceback_utils.py\", line 65, in error_handler\n\n  File \"/usr/local/lib/python3.10/dist-packages/keras/src/engine/base_layer.py\", line 1149, in __call__\n\n  File \"/usr/local/lib/python3.10/dist-packages/keras/src/utils/traceback_utils.py\", line 96, in error_handler\n\n  File \"/usr/local/lib/python3.10/dist-packages/keras/src/layers/normalization/batch_normalization.py\", line 597, in call\n\n  File \"/usr/local/lib/python3.10/dist-packages/keras/src/layers/normalization/batch_normalization.py\", line 990, in _fused_batch_norm\n\n  File \"/usr/local/lib/python3.10/dist-packages/keras/src/utils/control_flow_util.py\", line 108, in smart_cond\n\n  File \"/usr/local/lib/python3.10/dist-packages/keras/src/layers/normalization/batch_normalization.py\", line 979, in _fused_batch_norm_inference\n\nconvolution input must be 4-dimensional: [32,56,140]\n\t [[{{node model_5/batch_normalization/FusedBatchNormV3}}]] [Op:__inference_predict_function_124170]",
          "traceback": [
            "\u001b[0;31m---------------------------------------------------------------------------\u001b[0m",
            "\u001b[0;31mInvalidArgumentError\u001b[0m                      Traceback (most recent call last)",
            "\u001b[0;32m<ipython-input-48-d54cb847bb81>\u001b[0m in \u001b[0;36m<cell line: 1>\u001b[0;34m()\u001b[0m\n\u001b[0;32m----> 1\u001b[0;31m \u001b[0my_pred_proba\u001b[0m \u001b[0;34m=\u001b[0m \u001b[0mmodel\u001b[0m\u001b[0;34m.\u001b[0m\u001b[0mpredict\u001b[0m\u001b[0;34m(\u001b[0m\u001b[0mX_valid\u001b[0m\u001b[0;34m)\u001b[0m\u001b[0;34m\u001b[0m\u001b[0;34m\u001b[0m\u001b[0m\n\u001b[0m\u001b[1;32m      2\u001b[0m \u001b[0;34m\u001b[0m\u001b[0m\n\u001b[1;32m      3\u001b[0m \u001b[0;31m# Get the true labels (assuming y_test is one-hot encoded)\u001b[0m\u001b[0;34m\u001b[0m\u001b[0;34m\u001b[0m\u001b[0m\n\u001b[1;32m      4\u001b[0m \u001b[0my_test_true\u001b[0m \u001b[0;34m=\u001b[0m \u001b[0mnp\u001b[0m\u001b[0;34m.\u001b[0m\u001b[0margmax\u001b[0m\u001b[0;34m(\u001b[0m\u001b[0my_valid\u001b[0m\u001b[0;34m)\u001b[0m\u001b[0;34m\u001b[0m\u001b[0;34m\u001b[0m\u001b[0m\n\u001b[1;32m      5\u001b[0m \u001b[0;34m\u001b[0m\u001b[0m\n",
            "\u001b[0;32m/usr/local/lib/python3.10/dist-packages/keras/src/utils/traceback_utils.py\u001b[0m in \u001b[0;36merror_handler\u001b[0;34m(*args, **kwargs)\u001b[0m\n\u001b[1;32m     68\u001b[0m             \u001b[0;31m# To get the full stack trace, call:\u001b[0m\u001b[0;34m\u001b[0m\u001b[0;34m\u001b[0m\u001b[0m\n\u001b[1;32m     69\u001b[0m             \u001b[0;31m# `tf.debugging.disable_traceback_filtering()`\u001b[0m\u001b[0;34m\u001b[0m\u001b[0;34m\u001b[0m\u001b[0m\n\u001b[0;32m---> 70\u001b[0;31m             \u001b[0;32mraise\u001b[0m \u001b[0me\u001b[0m\u001b[0;34m.\u001b[0m\u001b[0mwith_traceback\u001b[0m\u001b[0;34m(\u001b[0m\u001b[0mfiltered_tb\u001b[0m\u001b[0;34m)\u001b[0m \u001b[0;32mfrom\u001b[0m \u001b[0;32mNone\u001b[0m\u001b[0;34m\u001b[0m\u001b[0;34m\u001b[0m\u001b[0m\n\u001b[0m\u001b[1;32m     71\u001b[0m         \u001b[0;32mfinally\u001b[0m\u001b[0;34m:\u001b[0m\u001b[0;34m\u001b[0m\u001b[0;34m\u001b[0m\u001b[0m\n\u001b[1;32m     72\u001b[0m             \u001b[0;32mdel\u001b[0m \u001b[0mfiltered_tb\u001b[0m\u001b[0;34m\u001b[0m\u001b[0;34m\u001b[0m\u001b[0m\n",
            "\u001b[0;32m/usr/local/lib/python3.10/dist-packages/tensorflow/python/eager/execute.py\u001b[0m in \u001b[0;36mquick_execute\u001b[0;34m(op_name, num_outputs, inputs, attrs, ctx, name)\u001b[0m\n\u001b[1;32m     51\u001b[0m   \u001b[0;32mtry\u001b[0m\u001b[0;34m:\u001b[0m\u001b[0;34m\u001b[0m\u001b[0;34m\u001b[0m\u001b[0m\n\u001b[1;32m     52\u001b[0m     \u001b[0mctx\u001b[0m\u001b[0;34m.\u001b[0m\u001b[0mensure_initialized\u001b[0m\u001b[0;34m(\u001b[0m\u001b[0;34m)\u001b[0m\u001b[0;34m\u001b[0m\u001b[0;34m\u001b[0m\u001b[0m\n\u001b[0;32m---> 53\u001b[0;31m     tensors = pywrap_tfe.TFE_Py_Execute(ctx._handle, device_name, op_name,\n\u001b[0m\u001b[1;32m     54\u001b[0m                                         inputs, attrs, num_outputs)\n\u001b[1;32m     55\u001b[0m   \u001b[0;32mexcept\u001b[0m \u001b[0mcore\u001b[0m\u001b[0;34m.\u001b[0m\u001b[0m_NotOkStatusException\u001b[0m \u001b[0;32mas\u001b[0m \u001b[0me\u001b[0m\u001b[0;34m:\u001b[0m\u001b[0;34m\u001b[0m\u001b[0;34m\u001b[0m\u001b[0m\n",
            "\u001b[0;31mInvalidArgumentError\u001b[0m: Graph execution error:\n\nDetected at node model_5/batch_normalization/FusedBatchNormV3 defined at (most recent call last):\n  File \"/usr/lib/python3.10/runpy.py\", line 196, in _run_module_as_main\n\n  File \"/usr/lib/python3.10/runpy.py\", line 86, in _run_code\n\n  File \"/usr/local/lib/python3.10/dist-packages/colab_kernel_launcher.py\", line 37, in <module>\n\n  File \"/usr/local/lib/python3.10/dist-packages/traitlets/config/application.py\", line 992, in launch_instance\n\n  File \"/usr/local/lib/python3.10/dist-packages/ipykernel/kernelapp.py\", line 619, in start\n\n  File \"/usr/local/lib/python3.10/dist-packages/tornado/platform/asyncio.py\", line 195, in start\n\n  File \"/usr/lib/python3.10/asyncio/base_events.py\", line 603, in run_forever\n\n  File \"/usr/lib/python3.10/asyncio/base_events.py\", line 1909, in _run_once\n\n  File \"/usr/lib/python3.10/asyncio/events.py\", line 80, in _run\n\n  File \"/usr/local/lib/python3.10/dist-packages/tornado/ioloop.py\", line 685, in <lambda>\n\n  File \"/usr/local/lib/python3.10/dist-packages/tornado/ioloop.py\", line 738, in _run_callback\n\n  File \"/usr/local/lib/python3.10/dist-packages/tornado/gen.py\", line 825, in inner\n\n  File \"/usr/local/lib/python3.10/dist-packages/tornado/gen.py\", line 786, in run\n\n  File \"/usr/local/lib/python3.10/dist-packages/ipykernel/kernelbase.py\", line 361, in process_one\n\n  File \"/usr/local/lib/python3.10/dist-packages/tornado/gen.py\", line 234, in wrapper\n\n  File \"/usr/local/lib/python3.10/dist-packages/ipykernel/kernelbase.py\", line 261, in dispatch_shell\n\n  File \"/usr/local/lib/python3.10/dist-packages/tornado/gen.py\", line 234, in wrapper\n\n  File \"/usr/local/lib/python3.10/dist-packages/ipykernel/kernelbase.py\", line 539, in execute_request\n\n  File \"/usr/local/lib/python3.10/dist-packages/tornado/gen.py\", line 234, in wrapper\n\n  File \"/usr/local/lib/python3.10/dist-packages/ipykernel/ipkernel.py\", line 302, in do_execute\n\n  File \"/usr/local/lib/python3.10/dist-packages/ipykernel/zmqshell.py\", line 539, in run_cell\n\n  File \"/usr/local/lib/python3.10/dist-packages/IPython/core/interactiveshell.py\", line 2975, in run_cell\n\n  File \"/usr/local/lib/python3.10/dist-packages/IPython/core/interactiveshell.py\", line 3030, in _run_cell\n\n  File \"/usr/local/lib/python3.10/dist-packages/IPython/core/async_helpers.py\", line 78, in _pseudo_sync_runner\n\n  File \"/usr/local/lib/python3.10/dist-packages/IPython/core/interactiveshell.py\", line 3257, in run_cell_async\n\n  File \"/usr/local/lib/python3.10/dist-packages/IPython/core/interactiveshell.py\", line 3473, in run_ast_nodes\n\n  File \"/usr/local/lib/python3.10/dist-packages/IPython/core/interactiveshell.py\", line 3553, in run_code\n\n  File \"<ipython-input-48-d54cb847bb81>\", line 1, in <cell line: 1>\n\n  File \"/usr/local/lib/python3.10/dist-packages/keras/src/utils/traceback_utils.py\", line 65, in error_handler\n\n  File \"/usr/local/lib/python3.10/dist-packages/keras/src/engine/training.py\", line 2655, in predict\n\n  File \"/usr/local/lib/python3.10/dist-packages/keras/src/engine/training.py\", line 2440, in predict_function\n\n  File \"/usr/local/lib/python3.10/dist-packages/keras/src/engine/training.py\", line 2425, in step_function\n\n  File \"/usr/local/lib/python3.10/dist-packages/keras/src/engine/training.py\", line 2413, in run_step\n\n  File \"/usr/local/lib/python3.10/dist-packages/keras/src/engine/training.py\", line 2381, in predict_step\n\n  File \"/usr/local/lib/python3.10/dist-packages/keras/src/utils/traceback_utils.py\", line 65, in error_handler\n\n  File \"/usr/local/lib/python3.10/dist-packages/keras/src/engine/training.py\", line 590, in __call__\n\n  File \"/usr/local/lib/python3.10/dist-packages/keras/src/utils/traceback_utils.py\", line 65, in error_handler\n\n  File \"/usr/local/lib/python3.10/dist-packages/keras/src/engine/base_layer.py\", line 1149, in __call__\n\n  File \"/usr/local/lib/python3.10/dist-packages/keras/src/utils/traceback_utils.py\", line 96, in error_handler\n\n  File \"/usr/local/lib/python3.10/dist-packages/keras/src/engine/functional.py\", line 515, in call\n\n  File \"/usr/local/lib/python3.10/dist-packages/keras/src/engine/functional.py\", line 672, in _run_internal_graph\n\n  File \"/usr/local/lib/python3.10/dist-packages/keras/src/utils/traceback_utils.py\", line 65, in error_handler\n\n  File \"/usr/local/lib/python3.10/dist-packages/keras/src/engine/base_layer.py\", line 1149, in __call__\n\n  File \"/usr/local/lib/python3.10/dist-packages/keras/src/utils/traceback_utils.py\", line 96, in error_handler\n\n  File \"/usr/local/lib/python3.10/dist-packages/keras/src/layers/normalization/batch_normalization.py\", line 597, in call\n\n  File \"/usr/local/lib/python3.10/dist-packages/keras/src/layers/normalization/batch_normalization.py\", line 990, in _fused_batch_norm\n\n  File \"/usr/local/lib/python3.10/dist-packages/keras/src/utils/control_flow_util.py\", line 108, in smart_cond\n\n  File \"/usr/local/lib/python3.10/dist-packages/keras/src/layers/normalization/batch_normalization.py\", line 979, in _fused_batch_norm_inference\n\nconvolution input must be 4-dimensional: [32,56,140]\n\t [[{{node model_5/batch_normalization/FusedBatchNormV3}}]] [Op:__inference_predict_function_124170]"
          ]
        }
      ]
    },
    {
      "cell_type": "code",
      "source": [
        "X_test = np.reshape(test_data_list, (-1, 1, test_data_list.shape[2], test_data_list.shape[3]))\n",
        "\n",
        "\n",
        "# Ensure Y_test has the correct number of samples\n",
        "Y_test = Y_train_valid[:X_test.shape[0]]\n",
        "\n",
        "# Convert to categorical\n",
        "Y_test_cat = to_categorical(Y_test, num_classes=4)\n",
        "\n",
        "# Print shapes for diagnostics\n",
        "print(f\"X_test shape: {X_test.shape}\")\n",
        "print(f\"Y_test shape: {Y_test.shape}\")\n",
        "print(f\"Y_test_cat shape: {Y_test_cat.shape}\")\n",
        "\n",
        "# Get the predicted probabilities for the test set\n",
        "Y_pred_prob = model.predict(X_test)\n",
        "if np.any(np.isnan(Y_pred_prob)):\n",
        "    print(\"Warning: NaN values found in predictions. Investigate model or data.\")\n",
        "    # Handle NaNs (e.g., replace with a default value)\n",
        "    Y_pred_prob = np.nan_to_num(Y_pred_prob)\n",
        "# Ensure Y_pred_prob has the correct shape\n",
        "if Y_pred_prob.shape[1] == 1 and Y_pred_prob.shape[0] == X_test.shape[0]:\n",
        "    # Assuming the model is not outputting the probabilities correctly\n",
        "    # Recalculate or reshape as needed\n",
        "    Y_pred_prob = np.tile(Y_pred_prob, (1, 4))\n",
        "if Y_pred_prob.shape[1] == 2:\n",
        "    Y_pred_prob_temp = np.zeros((Y_pred_prob.shape[0], 4))\n",
        "    Y_pred_prob_temp[:, :2] = Y_pred_prob\n",
        "    Y_pred_prob_temp[:, 2:] = 1 - Y_pred_prob\n",
        "    Y_pred_prob = Y_pred_prob_temp\n",
        "\n",
        "# Print the prediction shape for diagnostics\n",
        "print(f\"Y_pred_prob shape: {Y_pred_prob.shape}\")\n",
        "\n",
        "# Ensure the number of samples match\n",
        "assert X_test.shape[0] == Y_test.shape[0] == Y_pred_prob.shape[0], \"Number of samples must match\"\n",
        "\n",
        "# Initialize plot\n",
        "plt.figure()\n",
        "\n",
        "# Calculate ROC curve and AUC for each class\n",
        "for i in range(4):\n",
        "    fpr, tpr, _ = roc_curve(Y_test_cat[:, i], Y_pred_prob[:, i])\n",
        "    roc_auc = auc(fpr, tpr)\n",
        "    plt.plot(fpr, tpr, lw=2, label=f'Class {i} (AUC = {roc_auc:.2f})')\n",
        "\n",
        "# Plot diagonal line for no-skill classifier\n",
        "plt.plot([0, 1], [0, 1], 'k--', lw=2)\n",
        "\n",
        "# Formatting plot\n",
        "plt.xlim([0.0, 1.0])\n",
        "plt.ylim([0.0, 1.05])\n",
        "plt.xlabel('False Positive Rate')\n",
        "plt.ylabel('True Positive Rate')\n",
        "plt.title('Receiver Operating Characteristic (ROC) Curve')\n",
        "plt.legend(loc='lower right')\n",
        "plt.grid(alpha=0.3)\n",
        "\n",
        "# Show plot\n",
        "plt.show()\n"
      ],
      "metadata": {
        "colab": {
          "base_uri": "https://localhost:8080/",
          "height": 666
        },
        "id": "x9OGbTd8h-sq",
        "outputId": "b5500c73-9caa-46ed-8f26-76f64ca94a7e"
      },
      "execution_count": null,
      "outputs": [
        {
          "output_type": "stream",
          "name": "stdout",
          "text": [
            "X_test shape: (3400, 1, 56, 140)\n",
            "Y_test shape: (3400,)\n",
            "Y_test_cat shape: (3400, 4)\n",
            "107/107 [==============================] - 2s 21ms/step\n",
            "Warning: NaN values found in predictions. Investigate model or data.\n",
            "Y_pred_prob shape: (3400, 4)\n"
          ]
        },
        {
          "output_type": "stream",
          "name": "stderr",
          "text": [
            "/usr/local/lib/python3.10/dist-packages/sklearn/metrics/_ranking.py:1029: UndefinedMetricWarning: No positive samples in y_true, true positive value should be meaningless\n",
            "  warnings.warn(\n",
            "/usr/local/lib/python3.10/dist-packages/sklearn/metrics/_ranking.py:1029: UndefinedMetricWarning: No positive samples in y_true, true positive value should be meaningless\n",
            "  warnings.warn(\n"
          ]
        },
        {
          "output_type": "display_data",
          "data": {
            "text/plain": [
              "<Figure size 640x480 with 1 Axes>"
            ],
            "image/png": "[encoded data removed]"
          },
          "metadata": {}
        }
      ]
    },
    {
      "cell_type": "markdown",
      "source": [
        "# LSTM\n"
      ],
      "metadata": {
        "id": "qzhwMRknWNVu"
      }
    },
    {
      "cell_type": "code",
      "source": [
        "import numpy as np\n",
        "import pandas as pd\n",
        "import tensorflow as tf\n",
        "from tensorflow.keras.models import Model\n",
        "from tensorflow.keras.layers import Input, LSTM, Dense, Layer\n",
        "from tensorflow.keras.utils import to_categorical\n",
        "import tensorflow.keras.backend as K\n",
        "\n",
        "\n",
        "\n",
        "# Calculate dimensions and reshape the arrays\n",
        "num_samples1 = 16 * 340\n",
        "channels1 = 56\n",
        "time_points1 = train_data_list.size // (num_samples1 * channels1)\n",
        "X_train_valid = np.reshape(train_data_list, (num_samples1, channels1, time_points1))\n",
        "\n",
        "num_samples2 = 10 * 340\n",
        "channels2 = 56\n",
        "time_points2 = test_data_list.size // (num_samples2 * channels2)\n",
        "X_test = np.reshape(test_data_list, (num_samples2, channels2, time_points2))\n",
        "\n",
        "# Load labels\n",
        "Y_train_valid = pd.read_csv('/content/drive/MyDrive/TrainLabels.csv')['Prediction'].values\n",
        "\n",
        "# Split into training and validation sets\n",
        "X_train = X_train_valid[1360:, :]\n",
        "X_valid = X_train_valid[:1360, :]\n",
        "y_train = Y_train_valid[1360:]\n",
        "y_valid = Y_train_valid[:1360]\n",
        "\n",
        "# Reshape data for CNN compatibility\n",
        "kernels, chans, samples = 1, 56, 140\n",
        "X_train = X_train.reshape(X_train.shape[0], chans, samples)\n",
        "X_valid = X_valid.reshape(X_valid.shape[0], chans, samples)\n",
        "X_test = X_test.reshape(X_test.shape[0], chans, samples)\n",
        "\n",
        "print(f'{X_train.shape[0]} train samples')\n",
        "print(f'{X_valid.shape[0]} validation samples')\n",
        "print(f'{X_test.shape[0]} test samples')\n",
        "\n",
        "# Convert labels to categorical if it's a classification problem\n",
        "num_classes = len(np.unique(Y_train_valid))\n",
        "y_train = to_categorical(y_train, num_classes)\n",
        "y_valid = to_categorical(y_valid, num_classes)\n"
      ],
      "metadata": {
        "colab": {
          "base_uri": "https://localhost:8080/"
        },
        "id": "Sudzn27uW0wy",
        "outputId": "401067d2-84f5-4c27-ea40-85bbdbc0f837"
      },
      "execution_count": null,
      "outputs": [
        {
          "output_type": "stream",
          "name": "stdout",
          "text": [
            "4080 train samples\n",
            "1360 validation samples\n",
            "3400 test samples\n"
          ]
        }
      ]
    },
    {
      "cell_type": "code",
      "source": [
        "class Attention(Layer):\n",
        "    def __init__(self, **kwargs):\n",
        "        super(Attention, self).__init__(**kwargs)\n",
        "\n",
        "    def build(self, input_shape):\n",
        "        self.W = self.add_weight(name=\"att_weight\", shape=(input_shape[-1], 1), initializer=\"random_normal\", trainable=True)\n",
        "        self.b = self.add_weight(name=\"att_bias\", shape=(input_shape[1], 1), initializer=\"zeros\", trainable=True)\n",
        "        super(Attention, self).build(input_shape)\n",
        "\n",
        "    def call(self, x):\n",
        "        e = K.tanh(K.dot(x, self.W) + self.b)\n",
        "        a = K.softmax(e, axis=1)\n",
        "        output = x * a\n",
        "        return K.sum(output, axis=1)\n"
      ],
      "metadata": {
        "id": "YOrYiEhZcxcO"
      },
      "execution_count": null,
      "outputs": []
    },
    {
      "cell_type": "code",
      "source": [
        "# Define the LSTM model with attention\n",
        "input_layer = Input(shape=(chans, samples))\n",
        "lstm_layer = LSTM(64, return_sequences=True)(input_layer)\n",
        "attention_layer = Attention()(lstm_layer)\n",
        "output_layer = Dense(num_classes, activation='softmax')(attention_layer)\n",
        "\n",
        "model2 = Model(inputs=input_layer, outputs=output_layer)\n",
        "\n",
        "model2.compile(optimizer='adam', loss='categorical_crossentropy', metrics=['accuracy'])\n",
        "\n",
        "# Train the model2\n",
        "model2.fit(X_train, y_train, epochs=100, batch_size=32, validation_data=(X_valid, y_valid))\n",
        "\n",
        "# Evaluate the model2\n",
        "loss, accuracy = model2.evaluate(X_valid, y_valid)\n",
        "print(f'Test Loss: {loss}, Test Accuracy: {accuracy}')\n"
      ],
      "metadata": {
        "colab": {
          "base_uri": "https://localhost:8080/"
        },
        "collapsed": true,
        "id": "vpg0M1zEcw6p",
        "outputId": "1c781316-6cd9-41cd-ff4e-6a201ec39a92"
      },
      "execution_count": null,
      "outputs": [
        {
          "output_type": "stream",
          "name": "stdout",
          "text": [
            "Epoch 1/100\n",
            "128/128 [==============================] - 12s 68ms/step - loss: 0.6287 - accuracy: 0.6591 - val_loss: 0.5436 - val_accuracy: 0.7574\n",
            "Epoch 2/100\n",
            "128/128 [==============================] - 10s 77ms/step - loss: 0.5612 - accuracy: 0.7130 - val_loss: 0.5681 - val_accuracy: 0.7331\n",
            "Epoch 3/100\n",
            "128/128 [==============================] - 5s 38ms/step - loss: 0.5223 - accuracy: 0.7488 - val_loss: 0.5539 - val_accuracy: 0.7404\n",
            "Epoch 4/100\n",
            "128/128 [==============================] - 5s 38ms/step - loss: 0.4883 - accuracy: 0.7733 - val_loss: 0.5811 - val_accuracy: 0.7221\n",
            "Epoch 5/100\n",
            "128/128 [==============================] - 7s 54ms/step - loss: 0.4570 - accuracy: 0.7968 - val_loss: 0.6046 - val_accuracy: 0.6985\n",
            "Epoch 6/100\n",
            "128/128 [==============================] - 5s 38ms/step - loss: 0.4282 - accuracy: 0.8211 - val_loss: 0.5861 - val_accuracy: 0.7301\n",
            "Epoch 7/100\n",
            "128/128 [==============================] - 7s 51ms/step - loss: 0.3964 - accuracy: 0.8380 - val_loss: 0.5755 - val_accuracy: 0.7346\n",
            "Epoch 8/100\n",
            "128/128 [==============================] - 5s 41ms/step - loss: 0.3641 - accuracy: 0.8586 - val_loss: 0.6091 - val_accuracy: 0.7015\n",
            "Epoch 9/100\n",
            "128/128 [==============================] - 5s 42ms/step - loss: 0.3358 - accuracy: 0.8669 - val_loss: 0.6491 - val_accuracy: 0.6949\n",
            "Epoch 10/100\n",
            "128/128 [==============================] - 7s 55ms/step - loss: 0.2998 - accuracy: 0.8946 - val_loss: 0.6460 - val_accuracy: 0.7140\n",
            "Epoch 11/100\n",
            "128/128 [==============================] - 5s 39ms/step - loss: 0.2773 - accuracy: 0.9039 - val_loss: 0.6750 - val_accuracy: 0.6750\n",
            "Epoch 12/100\n",
            "128/128 [==============================] - 6s 46ms/step - loss: 0.2513 - accuracy: 0.9137 - val_loss: 0.6979 - val_accuracy: 0.6809\n",
            "Epoch 13/100\n",
            "128/128 [==============================] - 6s 43ms/step - loss: 0.2278 - accuracy: 0.9235 - val_loss: 0.7031 - val_accuracy: 0.6971\n",
            "Epoch 14/100\n",
            "128/128 [==============================] - 5s 37ms/step - loss: 0.2109 - accuracy: 0.9289 - val_loss: 0.7470 - val_accuracy: 0.6721\n",
            "Epoch 15/100\n",
            "128/128 [==============================] - 7s 57ms/step - loss: 0.1973 - accuracy: 0.9360 - val_loss: 0.7373 - val_accuracy: 0.6816\n",
            "Epoch 16/100\n",
            "128/128 [==============================] - 5s 38ms/step - loss: 0.1706 - accuracy: 0.9471 - val_loss: 0.7648 - val_accuracy: 0.6794\n",
            "Epoch 17/100\n",
            "128/128 [==============================] - 5s 38ms/step - loss: 0.1539 - accuracy: 0.9566 - val_loss: 0.7978 - val_accuracy: 0.6816\n",
            "Epoch 18/100\n",
            "128/128 [==============================] - 7s 55ms/step - loss: 0.1550 - accuracy: 0.9532 - val_loss: 0.7822 - val_accuracy: 0.6956\n",
            "Epoch 19/100\n",
            "128/128 [==============================] - 5s 38ms/step - loss: 0.1542 - accuracy: 0.9549 - val_loss: 0.7864 - val_accuracy: 0.6912\n",
            "Epoch 20/100\n",
            "128/128 [==============================] - 6s 47ms/step - loss: 0.1311 - accuracy: 0.9647 - val_loss: 0.8609 - val_accuracy: 0.6669\n",
            "Epoch 21/100\n",
            "128/128 [==============================] - 6s 43ms/step - loss: 0.1182 - accuracy: 0.9664 - val_loss: 0.8134 - val_accuracy: 0.6949\n",
            "Epoch 22/100\n",
            "128/128 [==============================] - 5s 37ms/step - loss: 0.1090 - accuracy: 0.9696 - val_loss: 0.8800 - val_accuracy: 0.6743\n",
            "Epoch 23/100\n",
            "128/128 [==============================] - 7s 59ms/step - loss: 0.0998 - accuracy: 0.9735 - val_loss: 0.8992 - val_accuracy: 0.6632\n",
            "Epoch 24/100\n",
            "128/128 [==============================] - 5s 37ms/step - loss: 0.1122 - accuracy: 0.9662 - val_loss: 0.9426 - val_accuracy: 0.6691\n",
            "Epoch 25/100\n",
            "128/128 [==============================] - 5s 43ms/step - loss: 0.1057 - accuracy: 0.9669 - val_loss: 0.9076 - val_accuracy: 0.6860\n",
            "Epoch 26/100\n",
            "128/128 [==============================] - 6s 50ms/step - loss: 0.1018 - accuracy: 0.9721 - val_loss: 0.9418 - val_accuracy: 0.6721\n",
            "Epoch 27/100\n",
            "128/128 [==============================] - 5s 38ms/step - loss: 0.1313 - accuracy: 0.9576 - val_loss: 0.9161 - val_accuracy: 0.6765\n",
            "Epoch 28/100\n",
            "128/128 [==============================] - 7s 51ms/step - loss: 0.1126 - accuracy: 0.9642 - val_loss: 0.9472 - val_accuracy: 0.6765\n",
            "Epoch 29/100\n",
            "128/128 [==============================] - 5s 41ms/step - loss: 0.0765 - accuracy: 0.9816 - val_loss: 1.0107 - val_accuracy: 0.6691\n",
            "Epoch 30/100\n",
            "128/128 [==============================] - 5s 37ms/step - loss: 0.0664 - accuracy: 0.9841 - val_loss: 1.0477 - val_accuracy: 0.6610\n",
            "Epoch 31/100\n",
            "128/128 [==============================] - 7s 55ms/step - loss: 0.0512 - accuracy: 0.9897 - val_loss: 1.0677 - val_accuracy: 0.6669\n",
            "Epoch 32/100\n",
            "128/128 [==============================] - 5s 37ms/step - loss: 0.0486 - accuracy: 0.9895 - val_loss: 1.0773 - val_accuracy: 0.6647\n",
            "Epoch 33/100\n",
            "128/128 [==============================] - 6s 49ms/step - loss: 0.0510 - accuracy: 0.9885 - val_loss: 1.0704 - val_accuracy: 0.6801\n",
            "Epoch 34/100\n",
            "128/128 [==============================] - 6s 49ms/step - loss: 0.0463 - accuracy: 0.9907 - val_loss: 1.1022 - val_accuracy: 0.6662\n",
            "Epoch 35/100\n",
            "128/128 [==============================] - 5s 38ms/step - loss: 0.0427 - accuracy: 0.9912 - val_loss: 1.0542 - val_accuracy: 0.6934\n",
            "Epoch 36/100\n",
            "128/128 [==============================] - 7s 52ms/step - loss: 0.0471 - accuracy: 0.9895 - val_loss: 1.1338 - val_accuracy: 0.6706\n",
            "Epoch 37/100\n",
            "128/128 [==============================] - 5s 40ms/step - loss: 0.0377 - accuracy: 0.9941 - val_loss: 1.1553 - val_accuracy: 0.6691\n",
            "Epoch 38/100\n",
            "128/128 [==============================] - 5s 38ms/step - loss: 0.0561 - accuracy: 0.9821 - val_loss: 1.1477 - val_accuracy: 0.6632\n",
            "Epoch 39/100\n",
            "128/128 [==============================] - 7s 56ms/step - loss: 0.0945 - accuracy: 0.9637 - val_loss: 1.1455 - val_accuracy: 0.6809\n",
            "Epoch 40/100\n",
            "128/128 [==============================] - 5s 37ms/step - loss: 0.0931 - accuracy: 0.9701 - val_loss: 1.1473 - val_accuracy: 0.6743\n",
            "Epoch 41/100\n",
            "128/128 [==============================] - 5s 43ms/step - loss: 0.0740 - accuracy: 0.9777 - val_loss: 1.1754 - val_accuracy: 0.6647\n",
            "Epoch 42/100\n",
            "128/128 [==============================] - 7s 53ms/step - loss: 0.0622 - accuracy: 0.9833 - val_loss: 1.1710 - val_accuracy: 0.6721\n",
            "Epoch 43/100\n",
            "128/128 [==============================] - 5s 39ms/step - loss: 0.0571 - accuracy: 0.9848 - val_loss: 1.1567 - val_accuracy: 0.6824\n",
            "Epoch 44/100\n",
            "128/128 [==============================] - 7s 56ms/step - loss: 0.0516 - accuracy: 0.9860 - val_loss: 1.2441 - val_accuracy: 0.6897\n",
            "Epoch 45/100\n",
            "128/128 [==============================] - 5s 39ms/step - loss: 0.0583 - accuracy: 0.9819 - val_loss: 1.2037 - val_accuracy: 0.6757\n",
            "Epoch 46/100\n",
            "128/128 [==============================] - 5s 39ms/step - loss: 0.0556 - accuracy: 0.9850 - val_loss: 1.2334 - val_accuracy: 0.6787\n",
            "Epoch 47/100\n",
            "128/128 [==============================] - 7s 57ms/step - loss: 0.0476 - accuracy: 0.9870 - val_loss: 1.2694 - val_accuracy: 0.6529\n",
            "Epoch 48/100\n",
            "128/128 [==============================] - 5s 41ms/step - loss: 0.0349 - accuracy: 0.9924 - val_loss: 1.2779 - val_accuracy: 0.6699\n",
            "Epoch 49/100\n",
            "128/128 [==============================] - 6s 47ms/step - loss: 0.0237 - accuracy: 0.9963 - val_loss: 1.2329 - val_accuracy: 0.6750\n",
            "Epoch 50/100\n",
            "128/128 [==============================] - 6s 49ms/step - loss: 0.0174 - accuracy: 0.9985 - val_loss: 1.3134 - val_accuracy: 0.6581\n",
            "Epoch 51/100\n",
            "128/128 [==============================] - 5s 38ms/step - loss: 0.0125 - accuracy: 0.9993 - val_loss: 1.2820 - val_accuracy: 0.6787\n",
            "Epoch 52/100\n",
            "128/128 [==============================] - 7s 53ms/step - loss: 0.0095 - accuracy: 0.9998 - val_loss: 1.3452 - val_accuracy: 0.6713\n",
            "Epoch 53/100\n",
            "128/128 [==============================] - 5s 38ms/step - loss: 0.0078 - accuracy: 1.0000 - val_loss: 1.3422 - val_accuracy: 0.6728\n",
            "Epoch 54/100\n",
            "128/128 [==============================] - 5s 43ms/step - loss: 0.0062 - accuracy: 1.0000 - val_loss: 1.3476 - val_accuracy: 0.6772\n",
            "Epoch 55/100\n",
            "128/128 [==============================] - 6s 48ms/step - loss: 0.0052 - accuracy: 1.0000 - val_loss: 1.3574 - val_accuracy: 0.6743\n",
            "Epoch 56/100\n",
            "128/128 [==============================] - 5s 37ms/step - loss: 0.0047 - accuracy: 1.0000 - val_loss: 1.3725 - val_accuracy: 0.6743\n",
            "Epoch 57/100\n",
            "128/128 [==============================] - 7s 52ms/step - loss: 0.0041 - accuracy: 1.0000 - val_loss: 1.3861 - val_accuracy: 0.6794\n",
            "Epoch 58/100\n",
            "128/128 [==============================] - 5s 37ms/step - loss: 0.0038 - accuracy: 1.0000 - val_loss: 1.4026 - val_accuracy: 0.6750\n",
            "Epoch 59/100\n",
            "128/128 [==============================] - 5s 38ms/step - loss: 0.0034 - accuracy: 1.0000 - val_loss: 1.4072 - val_accuracy: 0.6779\n",
            "Epoch 60/100\n",
            "128/128 [==============================] - 7s 53ms/step - loss: 0.0033 - accuracy: 1.0000 - val_loss: 1.4121 - val_accuracy: 0.6772\n",
            "Epoch 61/100\n",
            "128/128 [==============================] - 5s 37ms/step - loss: 0.0031 - accuracy: 1.0000 - val_loss: 1.4210 - val_accuracy: 0.6743\n",
            "Epoch 62/100\n",
            "128/128 [==============================] - 6s 47ms/step - loss: 0.0026 - accuracy: 1.0000 - val_loss: 1.4343 - val_accuracy: 0.6735\n",
            "Epoch 63/100\n",
            "128/128 [==============================] - 6s 44ms/step - loss: 0.0025 - accuracy: 1.0000 - val_loss: 1.4449 - val_accuracy: 0.6794\n",
            "Epoch 64/100\n",
            "128/128 [==============================] - 5s 38ms/step - loss: 0.0024 - accuracy: 1.0000 - val_loss: 1.4542 - val_accuracy: 0.6713\n",
            "Epoch 65/100\n",
            "128/128 [==============================] - 7s 53ms/step - loss: 0.0023 - accuracy: 1.0000 - val_loss: 1.4657 - val_accuracy: 0.6779\n",
            "Epoch 66/100\n",
            "128/128 [==============================] - 5s 37ms/step - loss: 0.0021 - accuracy: 1.0000 - val_loss: 1.4850 - val_accuracy: 0.6728\n",
            "Epoch 67/100\n",
            "128/128 [==============================] - 5s 37ms/step - loss: 0.0020 - accuracy: 1.0000 - val_loss: 1.4935 - val_accuracy: 0.6772\n",
            "Epoch 68/100\n",
            "128/128 [==============================] - 6s 49ms/step - loss: 0.0018 - accuracy: 1.0000 - val_loss: 1.5171 - val_accuracy: 0.6735\n",
            "Epoch 69/100\n",
            "128/128 [==============================] - 5s 35ms/step - loss: 0.0020 - accuracy: 0.9998 - val_loss: 1.5181 - val_accuracy: 0.6735\n",
            "Epoch 70/100\n",
            "128/128 [==============================] - 6s 47ms/step - loss: 0.0024 - accuracy: 1.0000 - val_loss: 1.5122 - val_accuracy: 0.6735\n",
            "Epoch 71/100\n",
            "128/128 [==============================] - 5s 42ms/step - loss: 0.0034 - accuracy: 1.0000 - val_loss: 1.5759 - val_accuracy: 0.6669\n",
            "Epoch 72/100\n",
            "128/128 [==============================] - 5s 37ms/step - loss: 0.2730 - accuracy: 0.9096 - val_loss: 1.3618 - val_accuracy: 0.6500\n",
            "Epoch 73/100\n",
            "128/128 [==============================] - 7s 56ms/step - loss: 0.4265 - accuracy: 0.8370 - val_loss: 1.2663 - val_accuracy: 0.6500\n",
            "Epoch 74/100\n",
            "128/128 [==============================] - 5s 37ms/step - loss: 0.2209 - accuracy: 0.9074 - val_loss: 1.2158 - val_accuracy: 0.6713\n",
            "Epoch 75/100\n",
            "128/128 [==============================] - 6s 43ms/step - loss: 0.1287 - accuracy: 0.9532 - val_loss: 1.2313 - val_accuracy: 0.6735\n",
            "Epoch 76/100\n",
            "128/128 [==============================] - 6s 47ms/step - loss: 0.0856 - accuracy: 0.9743 - val_loss: 1.2400 - val_accuracy: 0.6706\n",
            "Epoch 77/100\n",
            "128/128 [==============================] - 5s 37ms/step - loss: 0.0632 - accuracy: 0.9836 - val_loss: 1.2251 - val_accuracy: 0.6860\n",
            "Epoch 78/100\n",
            "128/128 [==============================] - 7s 52ms/step - loss: 0.0547 - accuracy: 0.9882 - val_loss: 1.2575 - val_accuracy: 0.6735\n",
            "Epoch 79/100\n",
            "128/128 [==============================] - 5s 37ms/step - loss: 0.0418 - accuracy: 0.9912 - val_loss: 1.2948 - val_accuracy: 0.6743\n",
            "Epoch 80/100\n",
            "128/128 [==============================] - 5s 37ms/step - loss: 0.0311 - accuracy: 0.9963 - val_loss: 1.2947 - val_accuracy: 0.6809\n",
            "Epoch 81/100\n",
            "128/128 [==============================] - 7s 52ms/step - loss: 0.0218 - accuracy: 0.9990 - val_loss: 1.2956 - val_accuracy: 0.6809\n",
            "Epoch 82/100\n",
            "128/128 [==============================] - 5s 37ms/step - loss: 0.0166 - accuracy: 1.0000 - val_loss: 1.3277 - val_accuracy: 0.6816\n",
            "Epoch 83/100\n",
            "128/128 [==============================] - 6s 45ms/step - loss: 0.0150 - accuracy: 0.9998 - val_loss: 1.3204 - val_accuracy: 0.6890\n",
            "Epoch 84/100\n",
            "128/128 [==============================] - 5s 42ms/step - loss: 0.0132 - accuracy: 0.9998 - val_loss: 1.3406 - val_accuracy: 0.6816\n",
            "Epoch 85/100\n",
            "128/128 [==============================] - 5s 36ms/step - loss: 0.0114 - accuracy: 0.9998 - val_loss: 1.3535 - val_accuracy: 0.6772\n",
            "Epoch 86/100\n",
            "128/128 [==============================] - 7s 54ms/step - loss: 0.0108 - accuracy: 1.0000 - val_loss: 1.3817 - val_accuracy: 0.6706\n",
            "Epoch 87/100\n",
            "128/128 [==============================] - 5s 37ms/step - loss: 0.0099 - accuracy: 0.9998 - val_loss: 1.3777 - val_accuracy: 0.6831\n",
            "Epoch 88/100\n",
            "128/128 [==============================] - 5s 37ms/step - loss: 0.0089 - accuracy: 1.0000 - val_loss: 1.3718 - val_accuracy: 0.6875\n",
            "Epoch 89/100\n",
            "128/128 [==============================] - 7s 53ms/step - loss: 0.0082 - accuracy: 0.9998 - val_loss: 1.4173 - val_accuracy: 0.6765\n",
            "Epoch 90/100\n",
            "128/128 [==============================] - 5s 38ms/step - loss: 0.0076 - accuracy: 1.0000 - val_loss: 1.4218 - val_accuracy: 0.6816\n",
            "Epoch 91/100\n",
            "128/128 [==============================] - 6s 46ms/step - loss: 0.0078 - accuracy: 0.9995 - val_loss: 1.4332 - val_accuracy: 0.6750\n",
            "Epoch 92/100\n",
            "128/128 [==============================] - 6s 47ms/step - loss: 0.0088 - accuracy: 0.9993 - val_loss: 1.4337 - val_accuracy: 0.6765\n",
            "Epoch 93/100\n",
            "128/128 [==============================] - 5s 38ms/step - loss: 0.0159 - accuracy: 0.9973 - val_loss: 1.4110 - val_accuracy: 0.6853\n",
            "Epoch 94/100\n",
            "128/128 [==============================] - 7s 57ms/step - loss: 0.0370 - accuracy: 0.9900 - val_loss: 1.4467 - val_accuracy: 0.6860\n",
            "Epoch 95/100\n",
            "128/128 [==============================] - 5s 38ms/step - loss: 0.0957 - accuracy: 0.9669 - val_loss: 1.4457 - val_accuracy: 0.6735\n",
            "Epoch 96/100\n",
            "128/128 [==============================] - 6s 43ms/step - loss: 0.1311 - accuracy: 0.9483 - val_loss: 1.4614 - val_accuracy: 0.6588\n",
            "Epoch 97/100\n",
            "128/128 [==============================] - 6s 51ms/step - loss: 0.1123 - accuracy: 0.9559 - val_loss: 1.4816 - val_accuracy: 0.6500\n",
            "Epoch 98/100\n",
            "128/128 [==============================] - 5s 38ms/step - loss: 0.0844 - accuracy: 0.9694 - val_loss: 1.4214 - val_accuracy: 0.6662\n",
            "Epoch 99/100\n",
            "128/128 [==============================] - 7s 52ms/step - loss: 0.0510 - accuracy: 0.9831 - val_loss: 1.3835 - val_accuracy: 0.6640\n",
            "Epoch 100/100\n",
            "128/128 [==============================] - 5s 38ms/step - loss: 0.0364 - accuracy: 0.9924 - val_loss: 1.4832 - val_accuracy: 0.6500\n",
            "43/43 [==============================] - 1s 14ms/step - loss: 1.4832 - accuracy: 0.6500\n",
            "Test Loss: 1.4832189083099365, Test Accuracy: 0.6499999761581421\n"
          ]
        }
      ]
    },
    {
      "cell_type": "code",
      "source": [
        "model2.summary()"
      ],
      "metadata": {
        "colab": {
          "base_uri": "https://localhost:8080/"
        },
        "id": "1IIg93ZNdaeU",
        "outputId": "a57a1383-9299-4a47-cde9-fe0398804f23"
      },
      "execution_count": null,
      "outputs": [
        {
          "output_type": "stream",
          "name": "stdout",
          "text": [
            "Model: \"model_4\"\n",
            "_________________________________________________________________\n",
            " Layer (type)                Output Shape              Param #   \n",
            "=================================================================\n",
            " input_5 (InputLayer)        [(None, 56, 140)]         0         \n",
            "                                                                 \n",
            " lstm_4 (LSTM)               (None, 56, 64)            52480     \n",
            "                                                                 \n",
            " attention_4 (Attention)     (None, 64)                120       \n",
            "                                                                 \n",
            " dense_4 (Dense)             (None, 2)                 130       \n",
            "                                                                 \n",
            "=================================================================\n",
            "Total params: 52730 (205.98 KB)\n",
            "Trainable params: 52730 (205.98 KB)\n",
            "Non-trainable params: 0 (0.00 Byte)\n",
            "_________________________________________________________________\n"
          ]
        }
      ]
    },
    {
      "cell_type": "code",
      "source": [
        "y_pred_proba = model2.predict(X_valid)\n",
        "\n",
        "# Get the true labels (assuming y_test is one-hot encoded)\n",
        "y_test_true = np.argmax(y_valid, axis=1)\n",
        "\n",
        "# Get the probabilities for the positive class (assuming binary classification)\n",
        "y_pred_proba_pos = y_pred_proba[:, 1]\n",
        "\n",
        "# Calculate the ROC curve\n",
        "fpr, tpr, thresholds = roc_curve(y_test_true, y_pred_proba_pos)\n",
        "\n",
        "# Calculate the AUC\n",
        "roc_auc = auc(fpr, tpr)\n",
        "\n",
        "# Plot the ROC curve\n",
        "plt.figure()\n",
        "plt.plot(fpr, tpr, color='darkorange', lw=2, label='ROC curve (area = %0.2f)' % roc_auc)\n",
        "plt.plot([0, 1], [0, 1], color='navy', lw=2, linestyle='--')\n",
        "plt.xlim([0.0, 1.0])\n",
        "plt.ylim([0.0, 1.05])\n",
        "plt.xlabel('False Positive Rate')\n",
        "plt.ylabel('True Positive Rate')\n",
        "plt.title('Receiver Operating Characteristic')\n",
        "plt.legend(loc=\"lower right\")\n",
        "plt.show()\n",
        "\n",
        "print(f'AUC: {roc_auc}')"
      ],
      "metadata": {
        "colab": {
          "base_uri": "https://localhost:8080/",
          "height": 507
        },
        "id": "eqYfFYHbdzPM",
        "outputId": "45398510-5a41-45dd-fcda-77509cd9e32b"
      },
      "execution_count": null,
      "outputs": [
        {
          "output_type": "stream",
          "name": "stdout",
          "text": [
            "43/43 [==============================] - 1s 19ms/step\n"
          ]
        },
        {
          "output_type": "display_data",
          "data": {
            "text/plain": [
              "<Figure size 640x480 with 1 Axes>"
            ],
            "image/png": "[encoded data removed]"
          },
          "metadata": {}
        },
        {
          "output_type": "stream",
          "name": "stdout",
          "text": [
            "AUC: 0.6006858934893028\n"
          ]
        }
      ]
    },
    {
      "cell_type": "code",
      "source": [],
      "metadata": {
        "id": "B8TxZtV8dzpc"
      },
      "execution_count": null,
      "outputs": []
    },
    {
      "cell_type": "markdown",
      "source": [
        "# Evaluation complete\n",
        "\n",
        "\n"
      ],
      "metadata": {
        "id": "a5mKA1bn8qMl"
      }
    },
    {
      "cell_type": "code",
      "source": [
        "subj, trial, channel, sample = train_data_list.shape\n",
        "X_train_valid = np.reshape(train_data_list, (-1, 1, channel, sample))\n",
        "X_test = np.reshape(test_data_list, (-1, 1, channel, sample))\n",
        "\n",
        "Y_train_valid = pd.read_csv('/content/drive/MyDrive/TrainLabels.csv')['Prediction'].values\n",
        "split_thres = int(subj * trial * 0.25)\n",
        "X_train, X_valid = X_train_valid[split_thres:, :], X_train_valid[:split_thres, :]\n",
        "Y_train, Y_valid = Y_train_valid[split_thres:], Y_train_valid[:split_thres]\n",
        "\n",
        "print('training data shape: ' + str(X_train.shape))\n",
        "print('validation data shape: ' + str(X_valid.shape))\n",
        "print('testing data shape: ' + str(X_test.shape))\n",
        "print(Y_train.shape, Y_valid.shape)"
      ],
      "metadata": {
        "id": "xUNp_nU7_tSx",
        "colab": {
          "base_uri": "https://localhost:8080/"
        },
        "outputId": "501eddd5-fa2c-49a6-d249-df6a8e39bdfb"
      },
      "execution_count": null,
      "outputs": [
        {
          "output_type": "stream",
          "name": "stdout",
          "text": [
            "training data shape: (4080, 1, 56, 140)\n",
            "validation data shape: (1360, 1, 56, 140)\n",
            "testing data shape: (3400, 1, 56, 140)\n",
            "(4080,) (1360,)\n"
          ]
        }
      ]
    },
    {
      "cell_type": "code",
      "source": [
        "# Assuming your labels are in the range [0, 3] for 4 classes\n",
        "Y_train = to_categorical(Y_train, num_classes=4)\n",
        "Y_valid = to_categorical(Y_valid, num_classes=4)\n",
        "class_weights = {i: 1 / np.sum(Y_train[:, i] == 1) for i in range(4)}\n",
        "model = EEGNet(nb_classes=4, Chans=channel, Samples=sample)\n",
        "\n",
        "model.compile(optimizer=Adam(), loss='categorical_crossentropy', metrics=['accuracy'])\n",
        "\n",
        "checkpointer = ModelCheckpoint(filepath='/tmp/checkpoint.keras', verbose=1, save_best_only=True)\n",
        "\n",
        "fittedModel = model.fit(\n",
        "    X_train, Y_train,\n",
        "    batch_size=32,\n",
        "    epochs=10,\n",
        "    verbose=2,\n",
        "    validation_data=(X_valid, Y_valid),\n",
        "    callbacks=[checkpointer],\n",
        "    class_weight=class_weights\n",
        ")\n"
      ],
      "metadata": {
        "id": "Fa4ogRaEwkVT",
        "colab": {
          "base_uri": "https://localhost:8080/",
          "height": 495
        },
        "outputId": "5ace7d19-3323-45c1-93e2-fd63dc040eb4"
      },
      "execution_count": null,
      "outputs": [
        {
          "output_type": "stream",
          "name": "stderr",
          "text": [
            "<ipython-input-63-a8d389dcf5af>:4: RuntimeWarning: divide by zero encountered in scalar divide\n",
            "  class_weights = {i: 1 / np.sum(Y_train[:, i] == 1) for i in range(4)}\n"
          ]
        },
        {
          "output_type": "error",
          "ename": "ValueError",
          "evalue": "Exception encountered when calling layer \"depthwise_conv2d_7\" (type DepthwiseConv2D).\n\nNegative dimension size caused by subtracting 56 from 1 for '{{node depthwise_conv2d_7/depthwise}} = DepthwiseConv2dNative[T=DT_FLOAT, data_format=\"NHWC\", dilations=[1, 1, 1, 1], explicit_paddings=[], padding=\"VALID\", strides=[1, 1, 1, 1]](Placeholder, depthwise_conv2d_7/depthwise/ReadVariableOp)' with input shapes: [?,1,56,8], [56,1,8,2].\n\nCall arguments received by layer \"depthwise_conv2d_7\" (type DepthwiseConv2D):\n  • inputs=tf.Tensor(shape=(None, 1, 56, 8), dtype=float32)",
          "traceback": [
            "\u001b[0;31m---------------------------------------------------------------------------\u001b[0m",
            "\u001b[0;31mValueError\u001b[0m                                Traceback (most recent call last)",
            "\u001b[0;32m<ipython-input-63-a8d389dcf5af>\u001b[0m in \u001b[0;36m<cell line: 5>\u001b[0;34m()\u001b[0m\n\u001b[1;32m      3\u001b[0m \u001b[0mY_valid\u001b[0m \u001b[0;34m=\u001b[0m \u001b[0mto_categorical\u001b[0m\u001b[0;34m(\u001b[0m\u001b[0mY_valid\u001b[0m\u001b[0;34m,\u001b[0m \u001b[0mnum_classes\u001b[0m\u001b[0;34m=\u001b[0m\u001b[0;36m4\u001b[0m\u001b[0;34m)\u001b[0m\u001b[0;34m\u001b[0m\u001b[0;34m\u001b[0m\u001b[0m\n\u001b[1;32m      4\u001b[0m \u001b[0mclass_weights\u001b[0m \u001b[0;34m=\u001b[0m \u001b[0;34m{\u001b[0m\u001b[0mi\u001b[0m\u001b[0;34m:\u001b[0m \u001b[0;36m1\u001b[0m \u001b[0;34m/\u001b[0m \u001b[0mnp\u001b[0m\u001b[0;34m.\u001b[0m\u001b[0msum\u001b[0m\u001b[0;34m(\u001b[0m\u001b[0mY_train\u001b[0m\u001b[0;34m[\u001b[0m\u001b[0;34m:\u001b[0m\u001b[0;34m,\u001b[0m \u001b[0mi\u001b[0m\u001b[0;34m]\u001b[0m \u001b[0;34m==\u001b[0m \u001b[0;36m1\u001b[0m\u001b[0;34m)\u001b[0m \u001b[0;32mfor\u001b[0m \u001b[0mi\u001b[0m \u001b[0;32min\u001b[0m \u001b[0mrange\u001b[0m\u001b[0;34m(\u001b[0m\u001b[0;36m4\u001b[0m\u001b[0;34m)\u001b[0m\u001b[0;34m}\u001b[0m\u001b[0;34m\u001b[0m\u001b[0;34m\u001b[0m\u001b[0m\n\u001b[0;32m----> 5\u001b[0;31m \u001b[0mmodel\u001b[0m \u001b[0;34m=\u001b[0m \u001b[0mEEGNet\u001b[0m\u001b[0;34m(\u001b[0m\u001b[0mnb_classes\u001b[0m\u001b[0;34m=\u001b[0m\u001b[0;36m4\u001b[0m\u001b[0;34m,\u001b[0m \u001b[0mChans\u001b[0m\u001b[0;34m=\u001b[0m\u001b[0mchannel\u001b[0m\u001b[0;34m,\u001b[0m \u001b[0mSamples\u001b[0m\u001b[0;34m=\u001b[0m\u001b[0msample\u001b[0m\u001b[0;34m)\u001b[0m\u001b[0;34m\u001b[0m\u001b[0;34m\u001b[0m\u001b[0m\n\u001b[0m\u001b[1;32m      6\u001b[0m \u001b[0;34m\u001b[0m\u001b[0m\n\u001b[1;32m      7\u001b[0m \u001b[0mmodel\u001b[0m\u001b[0;34m.\u001b[0m\u001b[0mcompile\u001b[0m\u001b[0;34m(\u001b[0m\u001b[0moptimizer\u001b[0m\u001b[0;34m=\u001b[0m\u001b[0mAdam\u001b[0m\u001b[0;34m(\u001b[0m\u001b[0;34m)\u001b[0m\u001b[0;34m,\u001b[0m \u001b[0mloss\u001b[0m\u001b[0;34m=\u001b[0m\u001b[0;34m'categorical_crossentropy'\u001b[0m\u001b[0;34m,\u001b[0m \u001b[0mmetrics\u001b[0m\u001b[0;34m=\u001b[0m\u001b[0;34m[\u001b[0m\u001b[0;34m'accuracy'\u001b[0m\u001b[0;34m]\u001b[0m\u001b[0;34m)\u001b[0m\u001b[0;34m\u001b[0m\u001b[0;34m\u001b[0m\u001b[0m\n",
            "\u001b[0;32m<ipython-input-57-fd9649b1b637>\u001b[0m in \u001b[0;36mEEGNet\u001b[0;34m(nb_classes, Chans, Samples, dropoutRate, kernLength, F1, D, F2, norm_rate, dropoutType)\u001b[0m\n\u001b[1;32m     15\u001b[0m                                    use_bias = False)(input1)\n\u001b[1;32m     16\u001b[0m     \u001b[0mblock1\u001b[0m       \u001b[0;34m=\u001b[0m \u001b[0mBatchNormalization\u001b[0m\u001b[0;34m(\u001b[0m\u001b[0maxis\u001b[0m \u001b[0;34m=\u001b[0m \u001b[0;36m1\u001b[0m\u001b[0;34m)\u001b[0m\u001b[0;34m(\u001b[0m\u001b[0mblock1\u001b[0m\u001b[0;34m)\u001b[0m\u001b[0;34m\u001b[0m\u001b[0;34m\u001b[0m\u001b[0m\n\u001b[0;32m---> 17\u001b[0;31m     block1       = DepthwiseConv2D((Chans, 1), use_bias = False,\n\u001b[0m\u001b[1;32m     18\u001b[0m                                    \u001b[0mdepth_multiplier\u001b[0m \u001b[0;34m=\u001b[0m \u001b[0mD\u001b[0m\u001b[0;34m,\u001b[0m\u001b[0;34m\u001b[0m\u001b[0;34m\u001b[0m\u001b[0m\n\u001b[1;32m     19\u001b[0m                                    \u001b[0mdepthwise_constraint\u001b[0m \u001b[0;34m=\u001b[0m \u001b[0mmax_norm\u001b[0m\u001b[0;34m(\u001b[0m\u001b[0;36m1.\u001b[0m\u001b[0;34m)\u001b[0m\u001b[0;34m,\u001b[0m\u001b[0;34m\u001b[0m\u001b[0;34m\u001b[0m\u001b[0m\n",
            "\u001b[0;32m/usr/local/lib/python3.10/dist-packages/keras/src/utils/traceback_utils.py\u001b[0m in \u001b[0;36merror_handler\u001b[0;34m(*args, **kwargs)\u001b[0m\n\u001b[1;32m     68\u001b[0m             \u001b[0;31m# To get the full stack trace, call:\u001b[0m\u001b[0;34m\u001b[0m\u001b[0;34m\u001b[0m\u001b[0m\n\u001b[1;32m     69\u001b[0m             \u001b[0;31m# `tf.debugging.disable_traceback_filtering()`\u001b[0m\u001b[0;34m\u001b[0m\u001b[0;34m\u001b[0m\u001b[0m\n\u001b[0;32m---> 70\u001b[0;31m             \u001b[0;32mraise\u001b[0m \u001b[0me\u001b[0m\u001b[0;34m.\u001b[0m\u001b[0mwith_traceback\u001b[0m\u001b[0;34m(\u001b[0m\u001b[0mfiltered_tb\u001b[0m\u001b[0;34m)\u001b[0m \u001b[0;32mfrom\u001b[0m \u001b[0;32mNone\u001b[0m\u001b[0;34m\u001b[0m\u001b[0;34m\u001b[0m\u001b[0m\n\u001b[0m\u001b[1;32m     71\u001b[0m         \u001b[0;32mfinally\u001b[0m\u001b[0;34m:\u001b[0m\u001b[0;34m\u001b[0m\u001b[0;34m\u001b[0m\u001b[0m\n\u001b[1;32m     72\u001b[0m             \u001b[0;32mdel\u001b[0m \u001b[0mfiltered_tb\u001b[0m\u001b[0;34m\u001b[0m\u001b[0;34m\u001b[0m\u001b[0m\n",
            "\u001b[0;32m/usr/local/lib/python3.10/dist-packages/keras/src/backend.py\u001b[0m in \u001b[0;36mdepthwise_conv2d\u001b[0;34m(x, depthwise_kernel, strides, padding, data_format, dilation_rate)\u001b[0m\n\u001b[1;32m   6462\u001b[0m         \u001b[0mstrides\u001b[0m \u001b[0;34m=\u001b[0m \u001b[0;34m(\u001b[0m\u001b[0;36m1\u001b[0m\u001b[0;34m,\u001b[0m \u001b[0;36m1\u001b[0m\u001b[0;34m)\u001b[0m \u001b[0;34m+\u001b[0m \u001b[0mstrides\u001b[0m\u001b[0;34m\u001b[0m\u001b[0;34m\u001b[0m\u001b[0m\n\u001b[1;32m   6463\u001b[0m \u001b[0;34m\u001b[0m\u001b[0m\n\u001b[0;32m-> 6464\u001b[0;31m     x = tf.nn.depthwise_conv2d(\n\u001b[0m\u001b[1;32m   6465\u001b[0m         \u001b[0mx\u001b[0m\u001b[0;34m,\u001b[0m\u001b[0;34m\u001b[0m\u001b[0;34m\u001b[0m\u001b[0m\n\u001b[1;32m   6466\u001b[0m         \u001b[0mdepthwise_kernel\u001b[0m\u001b[0;34m,\u001b[0m\u001b[0;34m\u001b[0m\u001b[0;34m\u001b[0m\u001b[0m\n",
            "\u001b[0;31mValueError\u001b[0m: Exception encountered when calling layer \"depthwise_conv2d_7\" (type DepthwiseConv2D).\n\nNegative dimension size caused by subtracting 56 from 1 for '{{node depthwise_conv2d_7/depthwise}} = DepthwiseConv2dNative[T=DT_FLOAT, data_format=\"NHWC\", dilations=[1, 1, 1, 1], explicit_paddings=[], padding=\"VALID\", strides=[1, 1, 1, 1]](Placeholder, depthwise_conv2d_7/depthwise/ReadVariableOp)' with input shapes: [?,1,56,8], [56,1,8,2].\n\nCall arguments received by layer \"depthwise_conv2d_7\" (type DepthwiseConv2D):\n  • inputs=tf.Tensor(shape=(None, 1, 56, 8), dtype=float32)"
          ]
        }
      ]
    },
    {
      "cell_type": "code",
      "source": [
        "# Ensure data is in correct format (batch_size, channels, height, width)\n",
        "X_train = np.transpose(X_train, (0, 3, 1, 2))  # (batch_size, channels, height, width)\n",
        "X_valid = np.transpose(X_valid, (0, 3, 1, 2))  # (batch_size, channels, height, width)\n",
        "X_test = np.transpose(X_test, (0, 3, 1, 2))    # (batch_size, channels, height, width)\n"
      ],
      "metadata": {
        "id": "Oxf5GXmtAm4z"
      },
      "execution_count": null,
      "outputs": []
    },
    {
      "cell_type": "code",
      "source": [
        "\n",
        "model = EEGNet(nb_classes=4, Chans=channel, Samples=sample)\n",
        "model.compile(optimizer=Adam(), loss='categorical_crossentropy', metrics=['accuracy'])\n",
        "checkpointer = ModelCheckpoint(filepath='/tmp/checkpoint.keras', verbose=1, save_best_only=True)\n"
      ],
      "metadata": {
        "colab": {
          "base_uri": "https://localhost:8080/",
          "height": 425
        },
        "id": "FGDkh4E_9sV1",
        "outputId": "38a0dc2f-d0ba-4347-de0d-74047d73b02b"
      },
      "execution_count": null,
      "outputs": [
        {
          "output_type": "error",
          "ename": "ValueError",
          "evalue": "Exception encountered when calling layer \"depthwise_conv2d_8\" (type DepthwiseConv2D).\n\nNegative dimension size caused by subtracting 56 from 1 for '{{node depthwise_conv2d_8/depthwise}} = DepthwiseConv2dNative[T=DT_FLOAT, data_format=\"NHWC\", dilations=[1, 1, 1, 1], explicit_paddings=[], padding=\"VALID\", strides=[1, 1, 1, 1]](Placeholder, depthwise_conv2d_8/depthwise/ReadVariableOp)' with input shapes: [?,1,56,8], [56,1,8,2].\n\nCall arguments received by layer \"depthwise_conv2d_8\" (type DepthwiseConv2D):\n  • inputs=tf.Tensor(shape=(None, 1, 56, 8), dtype=float32)",
          "traceback": [
            "\u001b[0;31m---------------------------------------------------------------------------\u001b[0m",
            "\u001b[0;31mValueError\u001b[0m                                Traceback (most recent call last)",
            "\u001b[0;32m<ipython-input-64-17c50e0db720>\u001b[0m in \u001b[0;36m<cell line: 1>\u001b[0;34m()\u001b[0m\n\u001b[0;32m----> 1\u001b[0;31m \u001b[0mmodel\u001b[0m \u001b[0;34m=\u001b[0m \u001b[0mEEGNet\u001b[0m\u001b[0;34m(\u001b[0m\u001b[0mnb_classes\u001b[0m\u001b[0;34m=\u001b[0m\u001b[0;36m4\u001b[0m\u001b[0;34m,\u001b[0m \u001b[0mChans\u001b[0m\u001b[0;34m=\u001b[0m\u001b[0mchannel\u001b[0m\u001b[0;34m,\u001b[0m \u001b[0mSamples\u001b[0m\u001b[0;34m=\u001b[0m\u001b[0msample\u001b[0m\u001b[0;34m)\u001b[0m\u001b[0;34m\u001b[0m\u001b[0;34m\u001b[0m\u001b[0m\n\u001b[0m\u001b[1;32m      2\u001b[0m \u001b[0mmodel\u001b[0m\u001b[0;34m.\u001b[0m\u001b[0mcompile\u001b[0m\u001b[0;34m(\u001b[0m\u001b[0moptimizer\u001b[0m\u001b[0;34m=\u001b[0m\u001b[0mAdam\u001b[0m\u001b[0;34m(\u001b[0m\u001b[0;34m)\u001b[0m\u001b[0;34m,\u001b[0m \u001b[0mloss\u001b[0m\u001b[0;34m=\u001b[0m\u001b[0;34m'categorical_crossentropy'\u001b[0m\u001b[0;34m,\u001b[0m \u001b[0mmetrics\u001b[0m\u001b[0;34m=\u001b[0m\u001b[0;34m[\u001b[0m\u001b[0;34m'accuracy'\u001b[0m\u001b[0;34m]\u001b[0m\u001b[0;34m)\u001b[0m\u001b[0;34m\u001b[0m\u001b[0;34m\u001b[0m\u001b[0m\n\u001b[1;32m      3\u001b[0m \u001b[0mcheckpointer\u001b[0m \u001b[0;34m=\u001b[0m \u001b[0mModelCheckpoint\u001b[0m\u001b[0;34m(\u001b[0m\u001b[0mfilepath\u001b[0m\u001b[0;34m=\u001b[0m\u001b[0;34m'/tmp/checkpoint.keras'\u001b[0m\u001b[0;34m,\u001b[0m \u001b[0mverbose\u001b[0m\u001b[0;34m=\u001b[0m\u001b[0;36m1\u001b[0m\u001b[0;34m,\u001b[0m \u001b[0msave_best_only\u001b[0m\u001b[0;34m=\u001b[0m\u001b[0;32mTrue\u001b[0m\u001b[0;34m)\u001b[0m\u001b[0;34m\u001b[0m\u001b[0;34m\u001b[0m\u001b[0m\n",
            "\u001b[0;32m<ipython-input-57-fd9649b1b637>\u001b[0m in \u001b[0;36mEEGNet\u001b[0;34m(nb_classes, Chans, Samples, dropoutRate, kernLength, F1, D, F2, norm_rate, dropoutType)\u001b[0m\n\u001b[1;32m     15\u001b[0m                                    use_bias = False)(input1)\n\u001b[1;32m     16\u001b[0m     \u001b[0mblock1\u001b[0m       \u001b[0;34m=\u001b[0m \u001b[0mBatchNormalization\u001b[0m\u001b[0;34m(\u001b[0m\u001b[0maxis\u001b[0m \u001b[0;34m=\u001b[0m \u001b[0;36m1\u001b[0m\u001b[0;34m)\u001b[0m\u001b[0;34m(\u001b[0m\u001b[0mblock1\u001b[0m\u001b[0;34m)\u001b[0m\u001b[0;34m\u001b[0m\u001b[0;34m\u001b[0m\u001b[0m\n\u001b[0;32m---> 17\u001b[0;31m     block1       = DepthwiseConv2D((Chans, 1), use_bias = False,\n\u001b[0m\u001b[1;32m     18\u001b[0m                                    \u001b[0mdepth_multiplier\u001b[0m \u001b[0;34m=\u001b[0m \u001b[0mD\u001b[0m\u001b[0;34m,\u001b[0m\u001b[0;34m\u001b[0m\u001b[0;34m\u001b[0m\u001b[0m\n\u001b[1;32m     19\u001b[0m                                    \u001b[0mdepthwise_constraint\u001b[0m \u001b[0;34m=\u001b[0m \u001b[0mmax_norm\u001b[0m\u001b[0;34m(\u001b[0m\u001b[0;36m1.\u001b[0m\u001b[0;34m)\u001b[0m\u001b[0;34m,\u001b[0m\u001b[0;34m\u001b[0m\u001b[0;34m\u001b[0m\u001b[0m\n",
            "\u001b[0;32m/usr/local/lib/python3.10/dist-packages/keras/src/utils/traceback_utils.py\u001b[0m in \u001b[0;36merror_handler\u001b[0;34m(*args, **kwargs)\u001b[0m\n\u001b[1;32m     68\u001b[0m             \u001b[0;31m# To get the full stack trace, call:\u001b[0m\u001b[0;34m\u001b[0m\u001b[0;34m\u001b[0m\u001b[0m\n\u001b[1;32m     69\u001b[0m             \u001b[0;31m# `tf.debugging.disable_traceback_filtering()`\u001b[0m\u001b[0;34m\u001b[0m\u001b[0;34m\u001b[0m\u001b[0m\n\u001b[0;32m---> 70\u001b[0;31m             \u001b[0;32mraise\u001b[0m \u001b[0me\u001b[0m\u001b[0;34m.\u001b[0m\u001b[0mwith_traceback\u001b[0m\u001b[0;34m(\u001b[0m\u001b[0mfiltered_tb\u001b[0m\u001b[0;34m)\u001b[0m \u001b[0;32mfrom\u001b[0m \u001b[0;32mNone\u001b[0m\u001b[0;34m\u001b[0m\u001b[0;34m\u001b[0m\u001b[0m\n\u001b[0m\u001b[1;32m     71\u001b[0m         \u001b[0;32mfinally\u001b[0m\u001b[0;34m:\u001b[0m\u001b[0;34m\u001b[0m\u001b[0;34m\u001b[0m\u001b[0m\n\u001b[1;32m     72\u001b[0m             \u001b[0;32mdel\u001b[0m \u001b[0mfiltered_tb\u001b[0m\u001b[0;34m\u001b[0m\u001b[0;34m\u001b[0m\u001b[0m\n",
            "\u001b[0;32m/usr/local/lib/python3.10/dist-packages/keras/src/backend.py\u001b[0m in \u001b[0;36mdepthwise_conv2d\u001b[0;34m(x, depthwise_kernel, strides, padding, data_format, dilation_rate)\u001b[0m\n\u001b[1;32m   6462\u001b[0m         \u001b[0mstrides\u001b[0m \u001b[0;34m=\u001b[0m \u001b[0;34m(\u001b[0m\u001b[0;36m1\u001b[0m\u001b[0;34m,\u001b[0m \u001b[0;36m1\u001b[0m\u001b[0;34m)\u001b[0m \u001b[0;34m+\u001b[0m \u001b[0mstrides\u001b[0m\u001b[0;34m\u001b[0m\u001b[0;34m\u001b[0m\u001b[0m\n\u001b[1;32m   6463\u001b[0m \u001b[0;34m\u001b[0m\u001b[0m\n\u001b[0;32m-> 6464\u001b[0;31m     x = tf.nn.depthwise_conv2d(\n\u001b[0m\u001b[1;32m   6465\u001b[0m         \u001b[0mx\u001b[0m\u001b[0;34m,\u001b[0m\u001b[0;34m\u001b[0m\u001b[0;34m\u001b[0m\u001b[0m\n\u001b[1;32m   6466\u001b[0m         \u001b[0mdepthwise_kernel\u001b[0m\u001b[0;34m,\u001b[0m\u001b[0;34m\u001b[0m\u001b[0;34m\u001b[0m\u001b[0m\n",
            "\u001b[0;31mValueError\u001b[0m: Exception encountered when calling layer \"depthwise_conv2d_8\" (type DepthwiseConv2D).\n\nNegative dimension size caused by subtracting 56 from 1 for '{{node depthwise_conv2d_8/depthwise}} = DepthwiseConv2dNative[T=DT_FLOAT, data_format=\"NHWC\", dilations=[1, 1, 1, 1], explicit_paddings=[], padding=\"VALID\", strides=[1, 1, 1, 1]](Placeholder, depthwise_conv2d_8/depthwise/ReadVariableOp)' with input shapes: [?,1,56,8], [56,1,8,2].\n\nCall arguments received by layer \"depthwise_conv2d_8\" (type DepthwiseConv2D):\n  • inputs=tf.Tensor(shape=(None, 1, 56, 8), dtype=float32)"
          ]
        }
      ]
    },
    {
      "cell_type": "code",
      "source": [
        "print(X_train.shape, X_valid.shape)"
      ],
      "metadata": {
        "colab": {
          "base_uri": "https://localhost:8080/"
        },
        "id": "TXPCMBoH_U70",
        "outputId": "eaab25df-5531-43b2-c07d-eae536287541"
      },
      "execution_count": null,
      "outputs": [
        {
          "output_type": "stream",
          "name": "stdout",
          "text": [
            "(4080, 1, 56, 140) (1360, 1, 56, 140)\n"
          ]
        }
      ]
    },
    {
      "cell_type": "code",
      "source": [
        "from keras.utils import to_categorical\n",
        "\n",
        "# Encode target labels\n",
        "Y_train_cat = to_categorical(Y_train, num_classes=4)\n",
        "Y_valid_cat = to_categorical(Y_valid, num_classes=4)\n",
        "\n",
        "# Ensure the shape of Y_train_cat and Y_valid_cat\n",
        "print('Y_train_cat shape:', Y_train_cat.shape)  # Should be (4080, 4)\n",
        "print('Y_valid_cat shape:', Y_valid_cat.shape)  # Should be (1360, 4)\n"
      ],
      "metadata": {
        "colab": {
          "base_uri": "https://localhost:8080/"
        },
        "id": "RI-OHjuSByn9",
        "outputId": "dff0bd66-bcf1-49b7-dc00-d439bbd371c7"
      },
      "execution_count": null,
      "outputs": [
        {
          "output_type": "stream",
          "name": "stdout",
          "text": [
            "Y_train_cat shape: (4080, 4, 4)\n",
            "Y_valid_cat shape: (1360, 4, 4)\n"
          ]
        }
      ]
    },
    {
      "cell_type": "code",
      "source": [
        "# Ensure data is in correct format (batch_size, height, width, channels)\n",
        "X_train = np.transpose(X_train, (0, 2, 3, 1))  # (batch_size, height, width, channels)\n",
        "X_valid = np.transpose(X_valid, (0, 2, 3, 1))  # (batch_size, height, width, channels)\n",
        "X_test = np.transpose(X_test, (0, 2, 3, 1))    # (batch_size, height, width, channels)\n",
        "\n"
      ],
      "metadata": {
        "id": "R52JRDGeCbFZ"
      },
      "execution_count": null,
      "outputs": []
    },
    {
      "cell_type": "code",
      "source": [
        "print(X_train.shape, X_valid.shape, X_test.shape)"
      ],
      "metadata": {
        "colab": {
          "base_uri": "https://localhost:8080/"
        },
        "id": "eHb0lL8LDEuH",
        "outputId": "8c58117c-cb7e-4743-f903-a2672f8324a6"
      },
      "execution_count": null,
      "outputs": [
        {
          "output_type": "stream",
          "name": "stdout",
          "text": [
            "(4080, 56, 140, 1) (1360, 56, 140, 1) (3400, 56, 140, 1)\n"
          ]
        }
      ]
    },
    {
      "cell_type": "code",
      "source": [
        "fittedModel = model.fit(\n",
        "    X_train, Y_train,\n",
        "    batch_size=32,\n",
        "    epochs=10,\n",
        "    verbose=2,\n",
        "    validation_data=(X_valid, Y_valid),\n",
        "    callbacks=[checkpointer],\n",
        "    class_weight=class_weights\n",
        ")"
      ],
      "metadata": {
        "colab": {
          "base_uri": "https://localhost:8080/",
          "height": 634
        },
        "id": "22Jq6zQZ-wni",
        "outputId": "c38e22c1-8e6d-4ce0-f073-91f5ad991287"
      },
      "execution_count": null,
      "outputs": [
        {
          "output_type": "stream",
          "name": "stdout",
          "text": [
            "Epoch 1/10\n"
          ]
        },
        {
          "output_type": "error",
          "ename": "ValueError",
          "evalue": "in user code:\n\n    File \"/usr/local/lib/python3.10/dist-packages/keras/src/engine/training.py\", line 1401, in train_function  *\n        return step_function(self, iterator)\n    File \"/usr/local/lib/python3.10/dist-packages/keras/src/engine/training.py\", line 1384, in step_function  **\n        outputs = model.distribute_strategy.run(run_step, args=(data,))\n    File \"/usr/local/lib/python3.10/dist-packages/keras/src/engine/training.py\", line 1373, in run_step  **\n        outputs = model.train_step(data)\n    File \"/usr/local/lib/python3.10/dist-packages/keras/src/engine/training.py\", line 1150, in train_step\n        y_pred = self(x, training=True)\n    File \"/usr/local/lib/python3.10/dist-packages/keras/src/utils/traceback_utils.py\", line 70, in error_handler\n        raise e.with_traceback(filtered_tb) from None\n    File \"/usr/local/lib/python3.10/dist-packages/keras/src/engine/input_spec.py\", line 298, in assert_input_compatibility\n        raise ValueError(\n\n    ValueError: Input 0 of layer \"model_3\" is incompatible with the layer: expected shape=(None, 1, 56, 140), found shape=(None, 56, 140, 1)\n",
          "traceback": [
            "\u001b[0;31m---------------------------------------------------------------------------\u001b[0m",
            "\u001b[0;31mValueError\u001b[0m                                Traceback (most recent call last)",
            "\u001b[0;32m<ipython-input-69-2b767a3b8217>\u001b[0m in \u001b[0;36m<cell line: 1>\u001b[0;34m()\u001b[0m\n\u001b[0;32m----> 1\u001b[0;31m fittedModel = model.fit(\n\u001b[0m\u001b[1;32m      2\u001b[0m     \u001b[0mX_train\u001b[0m\u001b[0;34m,\u001b[0m \u001b[0mY_train\u001b[0m\u001b[0;34m,\u001b[0m\u001b[0;34m\u001b[0m\u001b[0;34m\u001b[0m\u001b[0m\n\u001b[1;32m      3\u001b[0m     \u001b[0mbatch_size\u001b[0m\u001b[0;34m=\u001b[0m\u001b[0;36m32\u001b[0m\u001b[0;34m,\u001b[0m\u001b[0;34m\u001b[0m\u001b[0;34m\u001b[0m\u001b[0m\n\u001b[1;32m      4\u001b[0m     \u001b[0mepochs\u001b[0m\u001b[0;34m=\u001b[0m\u001b[0;36m10\u001b[0m\u001b[0;34m,\u001b[0m\u001b[0;34m\u001b[0m\u001b[0;34m\u001b[0m\u001b[0m\n\u001b[1;32m      5\u001b[0m     \u001b[0mverbose\u001b[0m\u001b[0;34m=\u001b[0m\u001b[0;36m2\u001b[0m\u001b[0;34m,\u001b[0m\u001b[0;34m\u001b[0m\u001b[0;34m\u001b[0m\u001b[0m\n",
            "\u001b[0;32m/usr/local/lib/python3.10/dist-packages/keras/src/utils/traceback_utils.py\u001b[0m in \u001b[0;36merror_handler\u001b[0;34m(*args, **kwargs)\u001b[0m\n\u001b[1;32m     68\u001b[0m             \u001b[0;31m# To get the full stack trace, call:\u001b[0m\u001b[0;34m\u001b[0m\u001b[0;34m\u001b[0m\u001b[0m\n\u001b[1;32m     69\u001b[0m             \u001b[0;31m# `tf.debugging.disable_traceback_filtering()`\u001b[0m\u001b[0;34m\u001b[0m\u001b[0;34m\u001b[0m\u001b[0m\n\u001b[0;32m---> 70\u001b[0;31m             \u001b[0;32mraise\u001b[0m \u001b[0me\u001b[0m\u001b[0;34m.\u001b[0m\u001b[0mwith_traceback\u001b[0m\u001b[0;34m(\u001b[0m\u001b[0mfiltered_tb\u001b[0m\u001b[0;34m)\u001b[0m \u001b[0;32mfrom\u001b[0m \u001b[0;32mNone\u001b[0m\u001b[0;34m\u001b[0m\u001b[0;34m\u001b[0m\u001b[0m\n\u001b[0m\u001b[1;32m     71\u001b[0m         \u001b[0;32mfinally\u001b[0m\u001b[0;34m:\u001b[0m\u001b[0;34m\u001b[0m\u001b[0;34m\u001b[0m\u001b[0m\n\u001b[1;32m     72\u001b[0m             \u001b[0;32mdel\u001b[0m \u001b[0mfiltered_tb\u001b[0m\u001b[0;34m\u001b[0m\u001b[0;34m\u001b[0m\u001b[0m\n",
            "\u001b[0;32m/usr/local/lib/python3.10/dist-packages/keras/src/engine/training.py\u001b[0m in \u001b[0;36mtf__train_function\u001b[0;34m(iterator)\u001b[0m\n\u001b[1;32m     13\u001b[0m                 \u001b[0;32mtry\u001b[0m\u001b[0;34m:\u001b[0m\u001b[0;34m\u001b[0m\u001b[0;34m\u001b[0m\u001b[0m\n\u001b[1;32m     14\u001b[0m                     \u001b[0mdo_return\u001b[0m \u001b[0;34m=\u001b[0m \u001b[0;32mTrue\u001b[0m\u001b[0;34m\u001b[0m\u001b[0;34m\u001b[0m\u001b[0m\n\u001b[0;32m---> 15\u001b[0;31m                     \u001b[0mretval_\u001b[0m \u001b[0;34m=\u001b[0m \u001b[0mag__\u001b[0m\u001b[0;34m.\u001b[0m\u001b[0mconverted_call\u001b[0m\u001b[0;34m(\u001b[0m\u001b[0mag__\u001b[0m\u001b[0;34m.\u001b[0m\u001b[0mld\u001b[0m\u001b[0;34m(\u001b[0m\u001b[0mstep_function\u001b[0m\u001b[0;34m)\u001b[0m\u001b[0;34m,\u001b[0m \u001b[0;34m(\u001b[0m\u001b[0mag__\u001b[0m\u001b[0;34m.\u001b[0m\u001b[0mld\u001b[0m\u001b[0;34m(\u001b[0m\u001b[0mself\u001b[0m\u001b[0;34m)\u001b[0m\u001b[0;34m,\u001b[0m \u001b[0mag__\u001b[0m\u001b[0;34m.\u001b[0m\u001b[0mld\u001b[0m\u001b[0;34m(\u001b[0m\u001b[0miterator\u001b[0m\u001b[0;34m)\u001b[0m\u001b[0;34m)\u001b[0m\u001b[0;34m,\u001b[0m \u001b[0;32mNone\u001b[0m\u001b[0;34m,\u001b[0m \u001b[0mfscope\u001b[0m\u001b[0;34m)\u001b[0m\u001b[0;34m\u001b[0m\u001b[0;34m\u001b[0m\u001b[0m\n\u001b[0m\u001b[1;32m     16\u001b[0m                 \u001b[0;32mexcept\u001b[0m\u001b[0;34m:\u001b[0m\u001b[0;34m\u001b[0m\u001b[0;34m\u001b[0m\u001b[0m\n\u001b[1;32m     17\u001b[0m                     \u001b[0mdo_return\u001b[0m \u001b[0;34m=\u001b[0m \u001b[0;32mFalse\u001b[0m\u001b[0;34m\u001b[0m\u001b[0;34m\u001b[0m\u001b[0m\n",
            "\u001b[0;31mValueError\u001b[0m: in user code:\n\n    File \"/usr/local/lib/python3.10/dist-packages/keras/src/engine/training.py\", line 1401, in train_function  *\n        return step_function(self, iterator)\n    File \"/usr/local/lib/python3.10/dist-packages/keras/src/engine/training.py\", line 1384, in step_function  **\n        outputs = model.distribute_strategy.run(run_step, args=(data,))\n    File \"/usr/local/lib/python3.10/dist-packages/keras/src/engine/training.py\", line 1373, in run_step  **\n        outputs = model.train_step(data)\n    File \"/usr/local/lib/python3.10/dist-packages/keras/src/engine/training.py\", line 1150, in train_step\n        y_pred = self(x, training=True)\n    File \"/usr/local/lib/python3.10/dist-packages/keras/src/utils/traceback_utils.py\", line 70, in error_handler\n        raise e.with_traceback(filtered_tb) from None\n    File \"/usr/local/lib/python3.10/dist-packages/keras/src/engine/input_spec.py\", line 298, in assert_input_compatibility\n        raise ValueError(\n\n    ValueError: Input 0 of layer \"model_3\" is incompatible with the layer: expected shape=(None, 1, 56, 140), found shape=(None, 56, 140, 1)\n"
          ]
        }
      ]
    },
    {
      "cell_type": "code",
      "source": [
        "import numpy as np\n",
        "from tensorflow.keras.utils import to_categorical\n",
        "from tensorflow.keras.optimizers import Adam\n",
        "from tensorflow.keras.callbacks import ModelCheckpoint\n",
        "from tensorflow.keras import backend as K\n",
        "\n",
        "# Ensure data is in NHWC format\n",
        "#X_train = np.transpose(X_train, (0, 2, 3, 1))\n",
        "#X_valid = np.transpose(X_valid, (0, 2, 3, 1))\n",
        "#X_test = np.transpose(X_test, (0, 2, 3, 1))\n",
        "\n",
        "# One-Hot Encode Your Labels\n",
        "Y_train = to_categorical(Y_train, num_classes=4)\n",
        "Y_valid = to_categorical(Y_valid, num_classes=4)\n",
        "\n",
        "# Adjust Class Weights\n",
        "class_weights = {}\n",
        "for i in range(4):\n",
        "    count = np.sum(Y_train[:, i] == 1)\n",
        "    if count > 0:\n",
        "        class_weights[i] = 1 / count\n",
        "    else:\n",
        "        class_weights[i] = 1.0\n",
        "\n",
        "# Define and Compile the Model\n",
        "model = EEGNet(nb_classes=4, Chans=channel, Samples=sample)\n",
        "model.compile(optimizer=Adam(), loss='categorical_crossentropy', metrics=['accuracy'])\n",
        "\n",
        "# Define ModelCheckpoint Callback\n",
        "checkpointer = ModelCheckpoint(filepath='/tmp/checkpoint.keras', verbose=1, save_best_only=True)\n",
        "\n",
        "# Train the Model\n",
        "fittedModel = model.fit(\n",
        "    X_train, Y_train,\n",
        "    batch_size=32,\n",
        "    epochs=10,\n",
        "    verbose=2,\n",
        "    validation_data=(X_valid, Y_valid),\n",
        "    callbacks=[checkpointer],\n",
        "    class_weight=class_weights\n",
        ")\n"
      ],
      "metadata": {
        "id": "Ljf50cvz8mgR"
      },
      "execution_count": null,
      "outputs": []
    },
    {
      "cell_type": "code",
      "source": [
        "\n",
        "\n",
        "Y_train_cat = to_categorical(Y_train, num_classes=4)\n",
        "Y_valid_cat = to_categorical(Y_valid, num_classes=4)\n",
        "\n",
        "# Flatten the training data for StratifiedKFold\n",
        "n_samples = X_train.shape[0]\n",
        "X_train_flat = X_train.reshape(n_samples, -1)\n",
        "\n",
        "# Initialize StratifiedKFold\n",
        "n_splits = 2\n",
        "skf = StratifiedKFold(n_splits=n_splits, shuffle=True, random_state=42)\n",
        "\n",
        "# Placeholder for storing fold results\n",
        "fold_accuracies = []\n",
        "\n",
        "for fold, (train_index, valid_index) in enumerate(skf.split(X_train_flat, Y_train)):\n",
        "    print(f\"Training fold {fold + 1}/{n_splits}...\")\n",
        "\n",
        "    # Split data\n",
        "    X_train_fold, X_valid_fold = X_train[train_index], X_train[valid_index]\n",
        "    Y_train_fold, Y_valid_fold = Y_train_cat[train_index], Y_train_cat[valid_index]\n",
        "    X_train_fold = np.transpose(X_train_fold, (0, 3, 1, 2))\n",
        "    X_valid_fold = np.transpose(X_valid_fold, (0, 3, 1, 2))\n",
        "\n",
        "    # Define the EEGNet model\n",
        "    model = EEGNet(nb_classes=4, Chans=channel, Samples=sample)\n",
        "\n",
        "    # Compile the model\n",
        "    model.compile(optimizer=Adam(), loss='categorical_crossentropy', metrics=['accuracy'])\n",
        "\n",
        "    # Define the ModelCheckpoint callback\n",
        "    checkpointer = ModelCheckpoint(filepath=f'/tmp/checkpoint_fold{fold+1}.keras', verbose=1, save_best_only=True)\n",
        "\n",
        "    # Calculate class weights\n",
        "    class_weights = {i: 1 / np.sum(Y_train == i) for i in range(4)}\n",
        "\n",
        "    # Fit the model\n",
        "    history = model.fit(\n",
        "        X_train_fold, Y_train_fold,\n",
        "        batch_size=32,\n",
        "        epochs=1,\n",
        "        verbose=2,\n",
        "        validation_data=(X_valid_fold, Y_valid_fold),\n",
        "        callbacks=[checkpointer],\n",
        "        class_weight=class_weights\n",
        "    )\n",
        "\n",
        "    # Evaluate the model on the validation set\n",
        "    accuracy = model.evaluate(X_valid_fold, Y_valid_fold, verbose=0)\n",
        "    print(f\"Fold {fold + 1} Accuracy: {accuracy}\")\n",
        "    fold_accuracies.append(accuracy)\n",
        "\n",
        "# Calculate average accuracy across all folds\n",
        "average_accuracy = np.mean(fold_accuracies)\n",
        "print(f\"Average Accuracy across {n_splits} folds: {average_accuracy}\")\n",
        "\n",
        "# Evaluate the model on the test set\n",
        "Y_test_cat = to_categorical(Y_test, num_classes=4)\n",
        "test_loss, test_accuracy = model.evaluate(X_test, Y_test_cat, verbose=0)\n",
        "print(f\"Test Accuracy: {test_accuracy}\")\n",
        "\n",
        "# Optionally, print summary of the model\n",
        "model.summary()\n"
      ],
      "metadata": {
        "id": "sU4JTwE-8uRS"
      },
      "execution_count": null,
      "outputs": []
    }
  ]
}