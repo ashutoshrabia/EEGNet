{
  "nbformat": 4,
  "nbformat_minor": 0,
  "metadata": {
    "colab": {
      "provenance": [],
      "mount_file_id": "1OcRhOpYen3smIkllJWbZtqyGnN1sV0hX",
      "authorship_tag": "ABX9TyPtgKugN88pM37FFlPFLZTg",
      "include_colab_link": true
    },
    "kernelspec": {
      "name": "python3",
      "display_name": "Python 3"
    },
    "language_info": {
      "name": "python"
    }
  },
  "cells": [
    {
      "cell_type": "markdown",
      "metadata": {
        "id": "view-in-github",
        "colab_type": "text"
      },
      "source": [
        "<a href=\"https://colab.research.google.com/github/ashutoshrabia/EEGNet/blob/main/EEGNet.ipynb\" target=\"_parent\"><img src=\"https://colab.research.google.com/assets/colab-badge.svg\" alt=\"Open In Colab\"/></a>"
      ]
    },
    {
      "cell_type": "markdown",
      "source": [
        "# Data Visualization"
      ],
      "metadata": {
        "id": "-O7WylZcpYfS"
      }
    },
    {
      "cell_type": "code",
      "execution_count": null,
      "metadata": {
        "id": "MwOVQ3QM1e6J"
      },
      "outputs": [],
      "source": [
        "import numpy as np                                      # for dealing with data\n",
        "from scipy.signal import butter, sosfiltfilt, sosfreqz  # for filtering\n",
        "import matplotlib.pyplot as plt                         # for plotting\n",
        "import pandas\n",
        "from sklearn.discriminant_analysis import LinearDiscriminantAnalysis\n",
        "from sklearn.model_selection import cross_val_score\n",
        "from sklearn.metrics import roc_curve, auc\n",
        "from sklearn.model_selection import StratifiedKFold\n",
        "import os\n",
        "from os import listdir\n",
        "from os.path import isfile, join, isdir\n",
        "import pickle\n",
        "from tensorflow.keras.models import load_model\n",
        "from sklearn.model_selection import StratifiedKFold\n",
        "from tensorflow.keras.callbacks import ModelCheckpoint\n",
        "from tensorflow.keras.utils import to_categorical\n",
        "from tensorflow.keras.optimizers import Adam\n"
      ]
    },
    {
      "cell_type": "code",
      "source": [
        "# Create filtering variables\n",
        "fs = 200.0     # 200 Hz sampling rate\n",
        "lowcut = 1.0   # 0.1 Hz is the lowest frequency we will pass\n",
        "highcut = 40.0 # 30  Hz is the highest frequency we will pass."
      ],
      "metadata": {
        "id": "owX1OJjt1pZl"
      },
      "execution_count": null,
      "outputs": []
    },
    {
      "cell_type": "code",
      "source": [
        "def butter_bandpass_filter(raw_data, fs, lowcut = 1.0, highcut =40.0, order = 5):\n",
        "    '''\n",
        "    The filter I want to apply to my raw eeg data.\n",
        "    :raw_data (nparray): data you want to process\n",
        "    :fs (float): sampling rate\n",
        "    :lowcut (float, optional): lowest frequency we will pass\n",
        "    :highcut (float, optional): highest frequency we will pass\n",
        "    :order (int, optional): order of filter\n",
        "    '''\n",
        "    nyq = 0.5 * fs\n",
        "    low = lowcut / nyq\n",
        "    high = highcut / nyq\n",
        "    sos = butter(order, [low, high], analog = False, btype = 'band', output = 'sos')\n",
        "    filted_data = sosfiltfilt(sos, raw_data)\n",
        "    return filted_data"
      ],
      "metadata": {
        "id": "i7GIiAlY1s3p"
      },
      "execution_count": null,
      "outputs": []
    },
    {
      "cell_type": "code",
      "source": [
        "epoch_s = 0      # epoch starting time relative to stmulus in miliseconds\n",
        "epoch_e = 700    # epoch ending time relative to stmulus in miliseconds\n",
        "bl_s = 0         # baseline starting time relative to stmulus in miliseconds\n",
        "bl_e = 100       # baseline ending time relative to stmulus in miliseconds\n",
        "\n",
        "\n",
        "# number of mark per epoch\n",
        "epoch_len = int((abs(epoch_s) + abs(epoch_e)) * (fs / 1000))"
      ],
      "metadata": {
        "id": "QJQBHZaL1ulg"
      },
      "execution_count": null,
      "outputs": []
    },
    {
      "cell_type": "code",
      "source": [
        "train_subj_num = 16\n",
        "test_subj_num = 10\n",
        "stimulus_per_subj = 340\n",
        "trial_per_subj = 5\n",
        "\n",
        "channels = ['Fp1', 'Fp2', 'AF7', 'AF3', 'AF4', 'AF8', 'F7', 'F5', 'F3', 'F1',\n",
        "    'Fz', 'F2', 'F4', 'F6', 'F8', 'FT7', 'FC5', 'FC3', 'FC1', 'FCz',\n",
        "    'FC2', 'FC4', 'FC6', 'FT8', 'T7', 'C5', 'C3', 'C1', 'Cz', 'C2',\n",
        "    'C4', 'C6', 'T8', 'TP7', 'CP5', 'CP3', 'CP1', 'CPz', 'CP2', 'CP4',\n",
        "    'CP6', 'TP8', 'P7', 'P5', 'P3', 'P1', 'Pz', 'P2', 'P4', 'P6', 'P8',\n",
        "    'PO7', 'POz', 'P08', 'O1', 'O2']"
      ],
      "metadata": {
        "id": "-1TvNmkx1wvp"
      },
      "execution_count": null,
      "outputs": []
    },
    {
      "cell_type": "code",
      "source": [
        "import pandas as pd\n",
        "train_labels = pd.read_csv('/content/drive/MyDrive/TrainLabels.csv')\n",
        "sample_train_data = pd.read_csv('/content/drive/MyDrive/Data_S02_Sess01.csv')"
      ],
      "metadata": {
        "id": "EuNxwZn41zwe"
      },
      "execution_count": null,
      "outputs": []
    },
    {
      "cell_type": "code",
      "source": [
        "train_labels"
      ],
      "metadata": {
        "colab": {
          "base_uri": "https://localhost:8080/",
          "height": 423
        },
        "id": "M9d017CN2PPs",
        "outputId": "6ad149c8-710d-401d-bcbb-501e5e5b9db5"
      },
      "execution_count": null,
      "outputs": [
        {
          "output_type": "execute_result",
          "data": {
            "text/plain": [
              "            IdFeedBack  Prediction\n",
              "0     S02_Sess01_FB001           1\n",
              "1     S02_Sess01_FB002           1\n",
              "2     S02_Sess01_FB003           0\n",
              "3     S02_Sess01_FB004           0\n",
              "4     S02_Sess01_FB005           1\n",
              "...                ...         ...\n",
              "5435  S26_Sess05_FB096           1\n",
              "5436  S26_Sess05_FB097           0\n",
              "5437  S26_Sess05_FB098           0\n",
              "5438  S26_Sess05_FB099           0\n",
              "5439  S26_Sess05_FB100           1\n",
              "\n",
              "[5440 rows x 2 columns]"
            ],
            "text/html": [
              "\n",
              "  <div id=\"df-f719b2f0-8e5b-4050-90ec-82c2396feefe\" class=\"colab-df-container\">\n",
              "    <div>\n",
              "<style scoped>\n",
              "    .dataframe tbody tr th:only-of-type {\n",
              "        vertical-align: middle;\n",
              "    }\n",
              "\n",
              "    .dataframe tbody tr th {\n",
              "        vertical-align: top;\n",
              "    }\n",
              "\n",
              "    .dataframe thead th {\n",
              "        text-align: right;\n",
              "    }\n",
              "</style>\n",
              "<table border=\"1\" class=\"dataframe\">\n",
              "  <thead>\n",
              "    <tr style=\"text-align: right;\">\n",
              "      <th></th>\n",
              "      <th>IdFeedBack</th>\n",
              "      <th>Prediction</th>\n",
              "    </tr>\n",
              "  </thead>\n",
              "  <tbody>\n",
              "    <tr>\n",
              "      <th>0</th>\n",
              "      <td>S02_Sess01_FB001</td>\n",
              "      <td>1</td>\n",
              "    </tr>\n",
              "    <tr>\n",
              "      <th>1</th>\n",
              "      <td>S02_Sess01_FB002</td>\n",
              "      <td>1</td>\n",
              "    </tr>\n",
              "    <tr>\n",
              "      <th>2</th>\n",
              "      <td>S02_Sess01_FB003</td>\n",
              "      <td>0</td>\n",
              "    </tr>\n",
              "    <tr>\n",
              "      <th>3</th>\n",
              "      <td>S02_Sess01_FB004</td>\n",
              "      <td>0</td>\n",
              "    </tr>\n",
              "    <tr>\n",
              "      <th>4</th>\n",
              "      <td>S02_Sess01_FB005</td>\n",
              "      <td>1</td>\n",
              "    </tr>\n",
              "    <tr>\n",
              "      <th>...</th>\n",
              "      <td>...</td>\n",
              "      <td>...</td>\n",
              "    </tr>\n",
              "    <tr>\n",
              "      <th>5435</th>\n",
              "      <td>S26_Sess05_FB096</td>\n",
              "      <td>1</td>\n",
              "    </tr>\n",
              "    <tr>\n",
              "      <th>5436</th>\n",
              "      <td>S26_Sess05_FB097</td>\n",
              "      <td>0</td>\n",
              "    </tr>\n",
              "    <tr>\n",
              "      <th>5437</th>\n",
              "      <td>S26_Sess05_FB098</td>\n",
              "      <td>0</td>\n",
              "    </tr>\n",
              "    <tr>\n",
              "      <th>5438</th>\n",
              "      <td>S26_Sess05_FB099</td>\n",
              "      <td>0</td>\n",
              "    </tr>\n",
              "    <tr>\n",
              "      <th>5439</th>\n",
              "      <td>S26_Sess05_FB100</td>\n",
              "      <td>1</td>\n",
              "    </tr>\n",
              "  </tbody>\n",
              "</table>\n",
              "<p>5440 rows × 2 columns</p>\n",
              "</div>\n",
              "    <div class=\"colab-df-buttons\">\n",
              "\n",
              "  <div class=\"colab-df-container\">\n",
              "    <button class=\"colab-df-convert\" onclick=\"convertToInteractive('df-f719b2f0-8e5b-4050-90ec-82c2396feefe')\"\n",
              "            title=\"Convert this dataframe to an interactive table.\"\n",
              "            style=\"display:none;\">\n",
              "\n",
              "  <svg xmlns=\"http://www.w3.org/2000/svg\" height=\"24px\" viewBox=\"0 -960 960 960\">\n",
              "    <path d=\"M120-120v-720h720v720H120Zm60-500h600v-160H180v160Zm220 220h160v-160H400v160Zm0 220h160v-160H400v160ZM180-400h160v-160H180v160Zm440 0h160v-160H620v160ZM180-180h160v-160H180v160Zm440 0h160v-160H620v160Z\"/>\n",
              "  </svg>\n",
              "    </button>\n",
              "\n",
              "  <style>\n",
              "    .colab-df-container {\n",
              "      display:flex;\n",
              "      gap: 12px;\n",
              "    }\n",
              "\n",
              "    .colab-df-convert {\n",
              "      background-color: #E8F0FE;\n",
              "      border: none;\n",
              "      border-radius: 50%;\n",
              "      cursor: pointer;\n",
              "      display: none;\n",
              "      fill: #1967D2;\n",
              "      height: 32px;\n",
              "      padding: 0 0 0 0;\n",
              "      width: 32px;\n",
              "    }\n",
              "\n",
              "    .colab-df-convert:hover {\n",
              "      background-color: #E2EBFA;\n",
              "      box-shadow: 0px 1px 2px rgba(60, 64, 67, 0.3), 0px 1px 3px 1px rgba(60, 64, 67, 0.15);\n",
              "      fill: #174EA6;\n",
              "    }\n",
              "\n",
              "    .colab-df-buttons div {\n",
              "      margin-bottom: 4px;\n",
              "    }\n",
              "\n",
              "    [theme=dark] .colab-df-convert {\n",
              "      background-color: #3B4455;\n",
              "      fill: #D2E3FC;\n",
              "    }\n",
              "\n",
              "    [theme=dark] .colab-df-convert:hover {\n",
              "      background-color: #434B5C;\n",
              "      box-shadow: 0px 1px 3px 1px rgba(0, 0, 0, 0.15);\n",
              "      filter: drop-shadow(0px 1px 2px rgba(0, 0, 0, 0.3));\n",
              "      fill: #FFFFFF;\n",
              "    }\n",
              "  </style>\n",
              "\n",
              "    <script>\n",
              "      const buttonEl =\n",
              "        document.querySelector('#df-f719b2f0-8e5b-4050-90ec-82c2396feefe button.colab-df-convert');\n",
              "      buttonEl.style.display =\n",
              "        google.colab.kernel.accessAllowed ? 'block' : 'none';\n",
              "\n",
              "      async function convertToInteractive(key) {\n",
              "        const element = document.querySelector('#df-f719b2f0-8e5b-4050-90ec-82c2396feefe');\n",
              "        const dataTable =\n",
              "          await google.colab.kernel.invokeFunction('convertToInteractive',\n",
              "                                                    [key], {});\n",
              "        if (!dataTable) return;\n",
              "\n",
              "        const docLinkHtml = 'Like what you see? Visit the ' +\n",
              "          '<a target=\"_blank\" href=https://colab.research.google.com/notebooks/data_table.ipynb>data table notebook</a>'\n",
              "          + ' to learn more about interactive tables.';\n",
              "        element.innerHTML = '';\n",
              "        dataTable['output_type'] = 'display_data';\n",
              "        await google.colab.output.renderOutput(dataTable, element);\n",
              "        const docLink = document.createElement('div');\n",
              "        docLink.innerHTML = docLinkHtml;\n",
              "        element.appendChild(docLink);\n",
              "      }\n",
              "    </script>\n",
              "  </div>\n",
              "\n",
              "\n",
              "<div id=\"df-0214bbc1-c957-4b0d-af28-3416e21ff3c2\">\n",
              "  <button class=\"colab-df-quickchart\" onclick=\"quickchart('df-0214bbc1-c957-4b0d-af28-3416e21ff3c2')\"\n",
              "            title=\"Suggest charts\"\n",
              "            style=\"display:none;\">\n",
              "\n",
              "<svg xmlns=\"http://www.w3.org/2000/svg\" height=\"24px\"viewBox=\"0 0 24 24\"\n",
              "     width=\"24px\">\n",
              "    <g>\n",
              "        <path d=\"M19 3H5c-1.1 0-2 .9-2 2v14c0 1.1.9 2 2 2h14c1.1 0 2-.9 2-2V5c0-1.1-.9-2-2-2zM9 17H7v-7h2v7zm4 0h-2V7h2v10zm4 0h-2v-4h2v4z\"/>\n",
              "    </g>\n",
              "</svg>\n",
              "  </button>\n",
              "\n",
              "<style>\n",
              "  .colab-df-quickchart {\n",
              "      --bg-color: #E8F0FE;\n",
              "      --fill-color: #1967D2;\n",
              "      --hover-bg-color: #E2EBFA;\n",
              "      --hover-fill-color: #174EA6;\n",
              "      --disabled-fill-color: #AAA;\n",
              "      --disabled-bg-color: #DDD;\n",
              "  }\n",
              "\n",
              "  [theme=dark] .colab-df-quickchart {\n",
              "      --bg-color: #3B4455;\n",
              "      --fill-color: #D2E3FC;\n",
              "      --hover-bg-color: #434B5C;\n",
              "      --hover-fill-color: #FFFFFF;\n",
              "      --disabled-bg-color: #3B4455;\n",
              "      --disabled-fill-color: #666;\n",
              "  }\n",
              "\n",
              "  .colab-df-quickchart {\n",
              "    background-color: var(--bg-color);\n",
              "    border: none;\n",
              "    border-radius: 50%;\n",
              "    cursor: pointer;\n",
              "    display: none;\n",
              "    fill: var(--fill-color);\n",
              "    height: 32px;\n",
              "    padding: 0;\n",
              "    width: 32px;\n",
              "  }\n",
              "\n",
              "  .colab-df-quickchart:hover {\n",
              "    background-color: var(--hover-bg-color);\n",
              "    box-shadow: 0 1px 2px rgba(60, 64, 67, 0.3), 0 1px 3px 1px rgba(60, 64, 67, 0.15);\n",
              "    fill: var(--button-hover-fill-color);\n",
              "  }\n",
              "\n",
              "  .colab-df-quickchart-complete:disabled,\n",
              "  .colab-df-quickchart-complete:disabled:hover {\n",
              "    background-color: var(--disabled-bg-color);\n",
              "    fill: var(--disabled-fill-color);\n",
              "    box-shadow: none;\n",
              "  }\n",
              "\n",
              "  .colab-df-spinner {\n",
              "    border: 2px solid var(--fill-color);\n",
              "    border-color: transparent;\n",
              "    border-bottom-color: var(--fill-color);\n",
              "    animation:\n",
              "      spin 1s steps(1) infinite;\n",
              "  }\n",
              "\n",
              "  @keyframes spin {\n",
              "    0% {\n",
              "      border-color: transparent;\n",
              "      border-bottom-color: var(--fill-color);\n",
              "      border-left-color: var(--fill-color);\n",
              "    }\n",
              "    20% {\n",
              "      border-color: transparent;\n",
              "      border-left-color: var(--fill-color);\n",
              "      border-top-color: var(--fill-color);\n",
              "    }\n",
              "    30% {\n",
              "      border-color: transparent;\n",
              "      border-left-color: var(--fill-color);\n",
              "      border-top-color: var(--fill-color);\n",
              "      border-right-color: var(--fill-color);\n",
              "    }\n",
              "    40% {\n",
              "      border-color: transparent;\n",
              "      border-right-color: var(--fill-color);\n",
              "      border-top-color: var(--fill-color);\n",
              "    }\n",
              "    60% {\n",
              "      border-color: transparent;\n",
              "      border-right-color: var(--fill-color);\n",
              "    }\n",
              "    80% {\n",
              "      border-color: transparent;\n",
              "      border-right-color: var(--fill-color);\n",
              "      border-bottom-color: var(--fill-color);\n",
              "    }\n",
              "    90% {\n",
              "      border-color: transparent;\n",
              "      border-bottom-color: var(--fill-color);\n",
              "    }\n",
              "  }\n",
              "</style>\n",
              "\n",
              "  <script>\n",
              "    async function quickchart(key) {\n",
              "      const quickchartButtonEl =\n",
              "        document.querySelector('#' + key + ' button');\n",
              "      quickchartButtonEl.disabled = true;  // To prevent multiple clicks.\n",
              "      quickchartButtonEl.classList.add('colab-df-spinner');\n",
              "      try {\n",
              "        const charts = await google.colab.kernel.invokeFunction(\n",
              "            'suggestCharts', [key], {});\n",
              "      } catch (error) {\n",
              "        console.error('Error during call to suggestCharts:', error);\n",
              "      }\n",
              "      quickchartButtonEl.classList.remove('colab-df-spinner');\n",
              "      quickchartButtonEl.classList.add('colab-df-quickchart-complete');\n",
              "    }\n",
              "    (() => {\n",
              "      let quickchartButtonEl =\n",
              "        document.querySelector('#df-0214bbc1-c957-4b0d-af28-3416e21ff3c2 button');\n",
              "      quickchartButtonEl.style.display =\n",
              "        google.colab.kernel.accessAllowed ? 'block' : 'none';\n",
              "    })();\n",
              "  </script>\n",
              "</div>\n",
              "\n",
              "  <div id=\"id_55867fd4-934b-4872-8ea9-7fab2c6f552d\">\n",
              "    <style>\n",
              "      .colab-df-generate {\n",
              "        background-color: #E8F0FE;\n",
              "        border: none;\n",
              "        border-radius: 50%;\n",
              "        cursor: pointer;\n",
              "        display: none;\n",
              "        fill: #1967D2;\n",
              "        height: 32px;\n",
              "        padding: 0 0 0 0;\n",
              "        width: 32px;\n",
              "      }\n",
              "\n",
              "      .colab-df-generate:hover {\n",
              "        background-color: #E2EBFA;\n",
              "        box-shadow: 0px 1px 2px rgba(60, 64, 67, 0.3), 0px 1px 3px 1px rgba(60, 64, 67, 0.15);\n",
              "        fill: #174EA6;\n",
              "      }\n",
              "\n",
              "      [theme=dark] .colab-df-generate {\n",
              "        background-color: #3B4455;\n",
              "        fill: #D2E3FC;\n",
              "      }\n",
              "\n",
              "      [theme=dark] .colab-df-generate:hover {\n",
              "        background-color: #434B5C;\n",
              "        box-shadow: 0px 1px 3px 1px rgba(0, 0, 0, 0.15);\n",
              "        filter: drop-shadow(0px 1px 2px rgba(0, 0, 0, 0.3));\n",
              "        fill: #FFFFFF;\n",
              "      }\n",
              "    </style>\n",
              "    <button class=\"colab-df-generate\" onclick=\"generateWithVariable('train_labels')\"\n",
              "            title=\"Generate code using this dataframe.\"\n",
              "            style=\"display:none;\">\n",
              "\n",
              "  <svg xmlns=\"http://www.w3.org/2000/svg\" height=\"24px\"viewBox=\"0 0 24 24\"\n",
              "       width=\"24px\">\n",
              "    <path d=\"M7,19H8.4L18.45,9,17,7.55,7,17.6ZM5,21V16.75L18.45,3.32a2,2,0,0,1,2.83,0l1.4,1.43a1.91,1.91,0,0,1,.58,1.4,1.91,1.91,0,0,1-.58,1.4L9.25,21ZM18.45,9,17,7.55Zm-12,3A5.31,5.31,0,0,0,4.9,8.1,5.31,5.31,0,0,0,1,6.5,5.31,5.31,0,0,0,4.9,4.9,5.31,5.31,0,0,0,6.5,1,5.31,5.31,0,0,0,8.1,4.9,5.31,5.31,0,0,0,12,6.5,5.46,5.46,0,0,0,6.5,12Z\"/>\n",
              "  </svg>\n",
              "    </button>\n",
              "    <script>\n",
              "      (() => {\n",
              "      const buttonEl =\n",
              "        document.querySelector('#id_55867fd4-934b-4872-8ea9-7fab2c6f552d button.colab-df-generate');\n",
              "      buttonEl.style.display =\n",
              "        google.colab.kernel.accessAllowed ? 'block' : 'none';\n",
              "\n",
              "      buttonEl.onclick = () => {\n",
              "        google.colab.notebook.generateWithVariable('train_labels');\n",
              "      }\n",
              "      })();\n",
              "    </script>\n",
              "  </div>\n",
              "\n",
              "    </div>\n",
              "  </div>\n"
            ],
            "application/vnd.google.colaboratory.intrinsic+json": {
              "type": "dataframe",
              "variable_name": "train_labels",
              "summary": "{\n  \"name\": \"train_labels\",\n  \"rows\": 5440,\n  \"fields\": [\n    {\n      \"column\": \"IdFeedBack\",\n      \"properties\": {\n        \"dtype\": \"string\",\n        \"num_unique_values\": 5440,\n        \"samples\": [\n          \"S11_Sess03_FB047\",\n          \"S24_Sess01_FB003\",\n          \"S06_Sess02_FB011\"\n        ],\n        \"semantic_type\": \"\",\n        \"description\": \"\"\n      }\n    },\n    {\n      \"column\": \"Prediction\",\n      \"properties\": {\n        \"dtype\": \"number\",\n        \"std\": 0,\n        \"min\": 0,\n        \"max\": 1,\n        \"num_unique_values\": 2,\n        \"samples\": [\n          0,\n          1\n        ],\n        \"semantic_type\": \"\",\n        \"description\": \"\"\n      }\n    }\n  ]\n}"
            }
          },
          "metadata": {},
          "execution_count": 7
        }
      ]
    },
    {
      "cell_type": "code",
      "source": [
        "train_data_list = np.load('/content/drive/MyDrive/train_data.npy')\n",
        "test_data_list = np.load('/content/drive/MyDrive/test_data.npy')\n",
        "print('Epoched training data shape: ' + str(train_data_list.shape))\n",
        "print('Epoched testing data shape: ' + str(test_data_list.shape))"
      ],
      "metadata": {
        "colab": {
          "base_uri": "https://localhost:8080/"
        },
        "id": "3n7SZfCb3AkB",
        "outputId": "e9feeb35-9377-4fc8-df2d-7ab481f4452e"
      },
      "execution_count": null,
      "outputs": [
        {
          "output_type": "stream",
          "name": "stdout",
          "text": [
            "Epoched training data shape: (16, 340, 56, 140)\n",
            "Epoched testing data shape: (10, 340, 56, 140)\n"
          ]
        }
      ]
    },
    {
      "cell_type": "code",
      "source": [
        "import tensorflow as tf\n",
        "from tensorflow.keras.models import Model\n",
        "from tensorflow.keras.layers import Dense, Activation, Permute, Dropout\n",
        "from tensorflow.keras.layers import Conv2D, MaxPooling2D, AveragePooling2D\n",
        "from tensorflow.keras.layers import SeparableConv2D, DepthwiseConv2D\n",
        "from tensorflow.keras.layers import BatchNormalization\n",
        "from tensorflow.keras.layers import SpatialDropout2D\n",
        "from tensorflow.keras.regularizers import l1_l2\n",
        "from tensorflow.keras.layers import Input, Flatten\n",
        "from tensorflow.keras.constraints import max_norm\n",
        "from tensorflow.keras import backend as K\n",
        "from tensorflow.keras import optimizers\n",
        "from tensorflow.keras import utils as np_utils\n",
        "from tensorflow.keras.callbacks import ModelCheckpoint"
      ],
      "metadata": {
        "id": "g4jQmznL50aS"
      },
      "execution_count": null,
      "outputs": []
    },
    {
      "cell_type": "markdown",
      "source": [
        "# EEGNet\n"
      ],
      "metadata": {
        "id": "B_QrI78u8d48"
      }
    },
    {
      "cell_type": "code",
      "source": [
        "def EEGNet(nb_classes, Chans = 64, Samples = 128,dropoutRate = 0.5, kernLength = 64, F1 = 8,D = 2, F2 = 16, norm_rate = 0.25, dropoutType = 'Dropout'):\n",
        "    if dropoutType == 'SpatialDropout2D':\n",
        "        dropoutType = SpatialDropout2D\n",
        "    elif dropoutType == 'Dropout':\n",
        "        dropoutType = Dropout\n",
        "    else:\n",
        "        raise ValueError('dropoutType must be one of SpatialDropout2D '\n",
        "                         'or Dropout, passed as a string.')\n",
        "\n",
        "    input1   = Input(shape = (1, Chans, Samples))\n",
        "\n",
        "\n",
        "    block1       = Conv2D(F1, (1, kernLength), padding = 'same',\n",
        "                                   input_shape = (1, Chans, Samples),\n",
        "                                   use_bias = False)(input1)\n",
        "    block1       = BatchNormalization(axis = 1)(block1)\n",
        "    block1       = DepthwiseConv2D((1, D), use_bias = False,\n",
        "                                   depth_multiplier = D,\n",
        "                                   depthwise_constraint = max_norm(1.),\n",
        "                                  data_format='channels_last')(block1)\n",
        "    block1       = BatchNormalization(axis = 1)(block1)\n",
        "    block1       = Activation('elu')(block1)\n",
        "    block1       = AveragePooling2D((1, 4), data_format='channels_last')(block1)\n",
        "    block1       = dropoutType(dropoutRate)(block1)\n",
        "\n",
        "    block2       = SeparableConv2D(F2, (1, 16),\n",
        "                                   use_bias = False, padding = 'same')(block1)\n",
        "    block2       = BatchNormalization(axis = 1)(block2)\n",
        "    block2       = Activation('elu')(block2)\n",
        "    block2       = AveragePooling2D((1, 8), data_format='channels_last')(block2)\n",
        "    block2       = dropoutType(dropoutRate)(block2)\n",
        "\n",
        "    flatten      = Flatten(name = 'flatten')(block2)\n",
        "\n",
        "    dense        = Dense(nb_classes, name = 'dense',\n",
        "                         kernel_constraint = max_norm(norm_rate))(flatten)\n",
        "    softmax      = Activation('softmax', name = 'softmax')(dense)\n",
        "\n",
        "    return Model(inputs=input1, outputs=softmax)"
      ],
      "metadata": {
        "id": "LEbqYN369IUa"
      },
      "execution_count": null,
      "outputs": []
    },
    {
      "cell_type": "code",
      "source": [
        "# Calculate the appropriate dimensions based on the total number of elements\n",
        "total_elements1 = train_data_list.size\n",
        "num_samples1 = 16 * 340\n",
        "channels1 = 56\n",
        "time_points1 = total_elements1 // (num_samples1 * channels1)\n",
        "\n",
        "# Reshape the array with the calculated dimensions\n",
        "X_train_valid = np.reshape(train_data_list, (num_samples1, channels1, time_points1))\n",
        "print('Shape of X_train_valid:', X_train_valid.shape)\n",
        "# Calculate the appropriate dimensions based on the total number of elements\n",
        "total_elements2 = test_data_list.size\n",
        "num_samples2 = 10 * 340\n",
        "channels2 = 56\n",
        "time_points2 = total_elements2 // (num_samples2 * channels2)\n",
        "\n",
        "# Reshape the array with the calculated dimensions\n",
        "X_test = np.reshape(test_data_list, (num_samples2, channels2, time_points2))\n",
        "print('Shape of X_test_valid:', X_test.shape)\n"
      ],
      "metadata": {
        "colab": {
          "base_uri": "https://localhost:8080/"
        },
        "id": "zAb4T2G0o4fz",
        "outputId": "ef8dd035-e774-4a75-d2bb-16a9d8c05407"
      },
      "execution_count": null,
      "outputs": [
        {
          "output_type": "stream",
          "name": "stdout",
          "text": [
            "Shape of X_train_valid: (5440, 56, 140)\n",
            "Shape of X_test_valid: (3400, 56, 140)\n"
          ]
        }
      ]
    },
    {
      "cell_type": "code",
      "source": [
        "#X_train_valid = np.reshape(train_data_list, (16*340, 56, 260))\n",
        "Y_train_valid = pd.read_csv('/content/drive/MyDrive/TrainLabels.csv')['Prediction'].values\n",
        "X_train = X_train_valid[1360:, :]\n",
        "X_valid = X_train_valid[:1360, :]\n",
        "y_train = Y_train_valid[1360:]\n",
        "y_valid = Y_train_valid[:1360]\n",
        "\n",
        "kernels, chans, samples = 1, 56, 140\n",
        "\n",
        "X_train = X_train.reshape(X_train.shape[0], kernels, chans, samples)\n",
        "X_valid = X_valid.reshape(X_valid.shape[0], kernels, chans, samples)\n",
        "X_test = X_test.reshape(X_test.shape[0], kernels, chans, samples)\n",
        "\n",
        "print(str(X_train.shape[0]) + ' train samples')\n",
        "print(str(X_valid.shape[0]) + ' validation samples')\n",
        "print(str(X_test.shape[0]) + ' test samples')"
      ],
      "metadata": {
        "colab": {
          "base_uri": "https://localhost:8080/"
        },
        "id": "VwQmnMennKvD",
        "outputId": "aa9bf269-179f-4da0-87ac-4267c2e5e644"
      },
      "execution_count": null,
      "outputs": [
        {
          "output_type": "stream",
          "name": "stdout",
          "text": [
            "4080 train samples\n",
            "1360 validation samples\n",
            "3400 test samples\n"
          ]
        }
      ]
    },
    {
      "cell_type": "markdown",
      "source": [
        "# Training Model"
      ],
      "metadata": {
        "id": "fgKg1bKp8kZT"
      }
    },
    {
      "cell_type": "code",
      "source": [
        "model = EEGNet(nb_classes=2, Chans=chans, Samples=samples,\n",
        "               dropoutRate=0.5, kernLength=100, F1=8, D=2, F2=16,\n",
        "               dropoutType='Dropout')\n",
        "\n",
        "\n",
        "model.compile(loss='sparse_categorical_crossentropy', optimizer='adam', metrics=['accuracy'])\n",
        "\n",
        "numParams = model.count_params()\n",
        "\n",
        "checkpointer = ModelCheckpoint(filepath='/tmp/checkpoint.h5', verbose=1, save_best_only=True)\n"
      ],
      "metadata": {
        "id": "h8eAkkcNoCIk"
      },
      "execution_count": null,
      "outputs": []
    },
    {
      "cell_type": "code",
      "source": [
        "weight_0 = 1/(len([y for y in Y_train_valid if y == 0]))\n",
        "weight_1 = 1/(len([y for y in Y_train_valid if y == 1]))\n",
        "class_weights = {0: weight_0, 1: weight_1}\n",
        "\n",
        "fittedModel = model.fit(X_train, y_train, batch_size=34, epochs=100,verbose=2, validation_data=(X_valid, y_valid),callbacks=[checkpointer], class_weight=class_weights)\n"
      ],
      "metadata": {
        "colab": {
          "base_uri": "https://localhost:8080/"
        },
        "id": "zKKcgRCpoPOK",
        "outputId": "e64027a3-e452-4c49-8ead-6329af9efff5"
      },
      "execution_count": null,
      "outputs": [
        {
          "metadata": {
            "tags": null
          },
          "name": "stdout",
          "output_type": "stream",
          "text": [
            "Epoch 1/100\n",
            "\n",
            "Epoch 1: val_loss improved from inf to 840510144276900229383898578026496.00000, saving model to /tmp/checkpoint.h5\n",
            "120/120 - 17s - loss: 2.5690e-04 - accuracy: 0.5162 - val_loss: 840510144276900229383898578026496.0000 - val_accuracy: 0.6096 - 17s/epoch - 138ms/step\n",
            "Epoch 2/100\n"
          ]
        },
        {
          "metadata": {
            "tags": null
          },
          "name": "stderr",
          "output_type": "stream",
          "text": [
            "/usr/local/lib/python3.10/dist-packages/keras/src/engine/training.py:3103: UserWarning: You are saving your model as an HDF5 file via `model.save()`. This file format is considered legacy. We recommend using instead the native Keras format, e.g. `model.save('my_model.keras')`.\n",
            "  saving_api.save_model(\n"
          ]
        },
        {
          "output_type": "stream",
          "name": "stdout",
          "text": [
            "\n",
            "Epoch 2: val_loss improved from 840510144276900229383898578026496.00000 to 18784282596770288991469568.00000, saving model to /tmp/checkpoint.h5\n",
            "120/120 - 14s - loss: 2.4831e-04 - accuracy: 0.5618 - val_loss: 18784282596770288991469568.0000 - val_accuracy: 0.7088 - 14s/epoch - 120ms/step\n",
            "Epoch 3/100\n",
            "\n",
            "Epoch 3: val_loss did not improve from 18784282596770288991469568.00000\n",
            "120/120 - 14s - loss: 2.4347e-04 - accuracy: 0.6034 - val_loss: nan - val_accuracy: 0.4382 - 14s/epoch - 114ms/step\n",
            "Epoch 4/100\n",
            "\n",
            "Epoch 4: val_loss did not improve from 18784282596770288991469568.00000\n",
            "120/120 - 13s - loss: 2.4120e-04 - accuracy: 0.6147 - val_loss: 2502434285314323331449316442112.0000 - val_accuracy: 0.7640 - 13s/epoch - 110ms/step\n",
            "Epoch 5/100\n",
            "\n",
            "Epoch 5: val_loss did not improve from 18784282596770288991469568.00000\n",
            "120/120 - 14s - loss: 2.3860e-04 - accuracy: 0.6208 - val_loss: nan - val_accuracy: 0.6890 - 14s/epoch - 115ms/step\n",
            "Epoch 6/100\n",
            "\n",
            "Epoch 6: val_loss improved from 18784282596770288991469568.00000 to 83753235104626255069184.00000, saving model to /tmp/checkpoint.h5\n",
            "120/120 - 14s - loss: 2.3848e-04 - accuracy: 0.6132 - val_loss: 83753235104626255069184.0000 - val_accuracy: 0.7125 - 14s/epoch - 120ms/step\n",
            "Epoch 7/100\n",
            "\n",
            "Epoch 7: val_loss did not improve from 83753235104626255069184.00000\n",
            "120/120 - 14s - loss: 2.3524e-04 - accuracy: 0.6238 - val_loss: 252030024412862277169971200.0000 - val_accuracy: 0.7632 - 14s/epoch - 114ms/step\n",
            "Epoch 8/100\n",
            "\n",
            "Epoch 8: val_loss did not improve from 83753235104626255069184.00000\n",
            "120/120 - 13s - loss: 2.3499e-04 - accuracy: 0.6392 - val_loss: 4607989104381540436505167659008.0000 - val_accuracy: 0.7824 - 13s/epoch - 105ms/step\n",
            "Epoch 9/100\n",
            "\n",
            "Epoch 9: val_loss did not improve from 83753235104626255069184.00000\n",
            "120/120 - 13s - loss: 2.3328e-04 - accuracy: 0.6248 - val_loss: nan - val_accuracy: 0.6574 - 13s/epoch - 107ms/step\n",
            "Epoch 10/100\n",
            "\n",
            "Epoch 10: val_loss did not improve from 83753235104626255069184.00000\n",
            "120/120 - 14s - loss: 2.3273e-04 - accuracy: 0.6397 - val_loss: nan - val_accuracy: 0.6074 - 14s/epoch - 114ms/step\n",
            "Epoch 11/100\n",
            "\n",
            "Epoch 11: val_loss did not improve from 83753235104626255069184.00000\n",
            "120/120 - 14s - loss: 2.3281e-04 - accuracy: 0.6270 - val_loss: nan - val_accuracy: 0.4588 - 14s/epoch - 117ms/step\n",
            "Epoch 12/100\n",
            "\n",
            "Epoch 12: val_loss did not improve from 83753235104626255069184.00000\n",
            "120/120 - 14s - loss: 2.3303e-04 - accuracy: 0.6358 - val_loss: nan - val_accuracy: 0.6897 - 14s/epoch - 117ms/step\n",
            "Epoch 13/100\n",
            "\n",
            "Epoch 13: val_loss did not improve from 83753235104626255069184.00000\n",
            "120/120 - 14s - loss: 2.2988e-04 - accuracy: 0.6370 - val_loss: nan - val_accuracy: 0.5272 - 14s/epoch - 114ms/step\n",
            "Epoch 14/100\n",
            "\n",
            "Epoch 14: val_loss did not improve from 83753235104626255069184.00000\n",
            "120/120 - 14s - loss: 2.3098e-04 - accuracy: 0.6265 - val_loss: nan - val_accuracy: 0.7250 - 14s/epoch - 118ms/step\n",
            "Epoch 15/100\n",
            "\n",
            "Epoch 15: val_loss did not improve from 83753235104626255069184.00000\n",
            "120/120 - 13s - loss: 2.2816e-04 - accuracy: 0.6461 - val_loss: nan - val_accuracy: 0.2147 - 13s/epoch - 106ms/step\n",
            "Epoch 16/100\n",
            "\n",
            "Epoch 16: val_loss did not improve from 83753235104626255069184.00000\n",
            "120/120 - 13s - loss: 2.2890e-04 - accuracy: 0.6480 - val_loss: nan - val_accuracy: 0.2147 - 13s/epoch - 104ms/step\n",
            "Epoch 17/100\n",
            "\n",
            "Epoch 17: val_loss did not improve from 83753235104626255069184.00000\n",
            "120/120 - 14s - loss: 2.2834e-04 - accuracy: 0.6488 - val_loss: 2847252186836060349225786522206208.0000 - val_accuracy: 0.6801 - 14s/epoch - 115ms/step\n",
            "Epoch 18/100\n",
            "\n",
            "Epoch 18: val_loss did not improve from 83753235104626255069184.00000\n",
            "120/120 - 14s - loss: 2.2921e-04 - accuracy: 0.6466 - val_loss: nan - val_accuracy: 0.6338 - 14s/epoch - 113ms/step\n",
            "Epoch 19/100\n",
            "\n",
            "Epoch 19: val_loss did not improve from 83753235104626255069184.00000\n",
            "120/120 - 14s - loss: 2.2541e-04 - accuracy: 0.6593 - val_loss: 745720527220959466500541906944.0000 - val_accuracy: 0.7206 - 14s/epoch - 114ms/step\n",
            "Epoch 20/100\n",
            "\n",
            "Epoch 20: val_loss did not improve from 83753235104626255069184.00000\n",
            "120/120 - 13s - loss: 2.2955e-04 - accuracy: 0.6429 - val_loss: nan - val_accuracy: 0.6265 - 13s/epoch - 112ms/step\n",
            "Epoch 21/100\n",
            "\n",
            "Epoch 21: val_loss did not improve from 83753235104626255069184.00000\n",
            "120/120 - 14s - loss: 2.2549e-04 - accuracy: 0.6507 - val_loss: nan - val_accuracy: 0.5603 - 14s/epoch - 115ms/step\n",
            "Epoch 22/100\n",
            "\n",
            "Epoch 22: val_loss did not improve from 83753235104626255069184.00000\n",
            "120/120 - 13s - loss: 2.2338e-04 - accuracy: 0.6483 - val_loss: 7131949258387398814339170304.0000 - val_accuracy: 0.7022 - 13s/epoch - 105ms/step\n",
            "Epoch 23/100\n",
            "\n",
            "Epoch 23: val_loss did not improve from 83753235104626255069184.00000\n",
            "120/120 - 13s - loss: 2.2555e-04 - accuracy: 0.6654 - val_loss: nan - val_accuracy: 0.5316 - 13s/epoch - 107ms/step\n",
            "Epoch 24/100\n",
            "\n",
            "Epoch 24: val_loss did not improve from 83753235104626255069184.00000\n",
            "120/120 - 13s - loss: 2.2470e-04 - accuracy: 0.6434 - val_loss: nan - val_accuracy: 0.5044 - 13s/epoch - 112ms/step\n",
            "Epoch 25/100\n",
            "\n",
            "Epoch 25: val_loss did not improve from 83753235104626255069184.00000\n",
            "120/120 - 14s - loss: 2.2418e-04 - accuracy: 0.6564 - val_loss: nan - val_accuracy: 0.2147 - 14s/epoch - 116ms/step\n",
            "Epoch 26/100\n",
            "\n",
            "Epoch 26: val_loss did not improve from 83753235104626255069184.00000\n",
            "120/120 - 13s - loss: 2.2249e-04 - accuracy: 0.6689 - val_loss: 381376428209959399600003481600.0000 - val_accuracy: 0.7471 - 13s/epoch - 111ms/step\n",
            "Epoch 27/100\n",
            "\n",
            "Epoch 27: val_loss did not improve from 83753235104626255069184.00000\n",
            "120/120 - 15s - loss: 2.2016e-04 - accuracy: 0.6689 - val_loss: 442228469150139386903275153391616.0000 - val_accuracy: 0.7551 - 15s/epoch - 121ms/step\n",
            "Epoch 28/100\n",
            "\n",
            "Epoch 28: val_loss did not improve from 83753235104626255069184.00000\n",
            "120/120 - 14s - loss: 2.1941e-04 - accuracy: 0.6701 - val_loss: nan - val_accuracy: 0.7316 - 14s/epoch - 115ms/step\n",
            "Epoch 29/100\n",
            "\n",
            "Epoch 29: val_loss did not improve from 83753235104626255069184.00000\n",
            "120/120 - 15s - loss: 2.2067e-04 - accuracy: 0.6699 - val_loss: 1820761363532863578081209614336.0000 - val_accuracy: 0.7331 - 15s/epoch - 122ms/step\n",
            "Epoch 30/100\n",
            "\n",
            "Epoch 30: val_loss did not improve from 83753235104626255069184.00000\n",
            "120/120 - 13s - loss: 2.1946e-04 - accuracy: 0.6745 - val_loss: 11564816966982824015266054144.0000 - val_accuracy: 0.6875 - 13s/epoch - 108ms/step\n",
            "Epoch 31/100\n",
            "\n",
            "Epoch 31: val_loss did not improve from 83753235104626255069184.00000\n",
            "120/120 - 14s - loss: 2.1901e-04 - accuracy: 0.6647 - val_loss: nan - val_accuracy: 0.3221 - 14s/epoch - 113ms/step\n",
            "Epoch 32/100\n",
            "\n",
            "Epoch 32: val_loss did not improve from 83753235104626255069184.00000\n",
            "120/120 - 14s - loss: 2.1888e-04 - accuracy: 0.6635 - val_loss: nan - val_accuracy: 0.6382 - 14s/epoch - 116ms/step\n",
            "Epoch 33/100\n",
            "\n",
            "Epoch 33: val_loss did not improve from 83753235104626255069184.00000\n",
            "120/120 - 13s - loss: 2.1666e-04 - accuracy: 0.6762 - val_loss: nan - val_accuracy: 0.6772 - 13s/epoch - 112ms/step\n",
            "Epoch 34/100\n",
            "\n",
            "Epoch 34: val_loss did not improve from 83753235104626255069184.00000\n",
            "120/120 - 14s - loss: 2.1565e-04 - accuracy: 0.6752 - val_loss: nan - val_accuracy: 0.4691 - 14s/epoch - 117ms/step\n",
            "Epoch 35/100\n",
            "\n",
            "Epoch 35: val_loss did not improve from 83753235104626255069184.00000\n",
            "120/120 - 14s - loss: 2.1427e-04 - accuracy: 0.6846 - val_loss: 6257990602588202354631010942976.0000 - val_accuracy: 0.7632 - 14s/epoch - 119ms/step\n",
            "Epoch 36/100\n",
            "\n",
            "Epoch 36: val_loss did not improve from 83753235104626255069184.00000\n",
            "120/120 - 14s - loss: 2.1523e-04 - accuracy: 0.6745 - val_loss: nan - val_accuracy: 0.7132 - 14s/epoch - 113ms/step\n",
            "Epoch 37/100\n",
            "\n",
            "Epoch 37: val_loss did not improve from 83753235104626255069184.00000\n",
            "120/120 - 13s - loss: 2.1403e-04 - accuracy: 0.6777 - val_loss: nan - val_accuracy: 0.5456 - 13s/epoch - 108ms/step\n",
            "Epoch 38/100\n",
            "\n",
            "Epoch 38: val_loss did not improve from 83753235104626255069184.00000\n",
            "120/120 - 12s - loss: 2.1152e-04 - accuracy: 0.6850 - val_loss: nan - val_accuracy: 0.4890 - 12s/epoch - 103ms/step\n",
            "Epoch 39/100\n",
            "\n",
            "Epoch 39: val_loss did not improve from 83753235104626255069184.00000\n",
            "120/120 - 14s - loss: 2.1096e-04 - accuracy: 0.6863 - val_loss: nan - val_accuracy: 0.2147 - 14s/epoch - 115ms/step\n",
            "Epoch 40/100\n",
            "\n",
            "Epoch 40: val_loss did not improve from 83753235104626255069184.00000\n",
            "120/120 - 13s - loss: 2.1140e-04 - accuracy: 0.6963 - val_loss: nan - val_accuracy: 0.7088 - 13s/epoch - 110ms/step\n",
            "Epoch 41/100\n",
            "\n",
            "Epoch 41: val_loss did not improve from 83753235104626255069184.00000\n",
            "120/120 - 14s - loss: 2.1117e-04 - accuracy: 0.6902 - val_loss: nan - val_accuracy: 0.6176 - 14s/epoch - 117ms/step\n",
            "Epoch 42/100\n",
            "\n",
            "Epoch 42: val_loss did not improve from 83753235104626255069184.00000\n",
            "120/120 - 14s - loss: 2.0960e-04 - accuracy: 0.6931 - val_loss: nan - val_accuracy: 0.6625 - 14s/epoch - 117ms/step\n",
            "Epoch 43/100\n",
            "\n",
            "Epoch 43: val_loss did not improve from 83753235104626255069184.00000\n",
            "120/120 - 14s - loss: 2.0720e-04 - accuracy: 0.7074 - val_loss: 107164313140641126480657514496.0000 - val_accuracy: 0.7390 - 14s/epoch - 113ms/step\n",
            "Epoch 44/100\n",
            "\n",
            "Epoch 44: val_loss did not improve from 83753235104626255069184.00000\n",
            "120/120 - 13s - loss: 2.0296e-04 - accuracy: 0.7064 - val_loss: 1584771146566736984414355456.0000 - val_accuracy: 0.7551 - 13s/epoch - 110ms/step\n",
            "Epoch 45/100\n",
            "\n",
            "Epoch 45: val_loss did not improve from 83753235104626255069184.00000\n",
            "120/120 - 13s - loss: 2.0465e-04 - accuracy: 0.7037 - val_loss: nan - val_accuracy: 0.5963 - 13s/epoch - 107ms/step\n",
            "Epoch 46/100\n",
            "\n",
            "Epoch 46: val_loss did not improve from 83753235104626255069184.00000\n",
            "120/120 - 14s - loss: 2.0381e-04 - accuracy: 0.7194 - val_loss: nan - val_accuracy: 0.5897 - 14s/epoch - 114ms/step\n",
            "Epoch 47/100\n",
            "\n",
            "Epoch 47: val_loss did not improve from 83753235104626255069184.00000\n",
            "120/120 - 13s - loss: 2.0335e-04 - accuracy: 0.7115 - val_loss: nan - val_accuracy: 0.5000 - 13s/epoch - 112ms/step\n",
            "Epoch 48/100\n",
            "\n",
            "Epoch 48: val_loss did not improve from 83753235104626255069184.00000\n",
            "120/120 - 14s - loss: 1.9893e-04 - accuracy: 0.7213 - val_loss: nan - val_accuracy: 0.5434 - 14s/epoch - 115ms/step\n",
            "Epoch 49/100\n",
            "\n",
            "Epoch 49: val_loss did not improve from 83753235104626255069184.00000\n",
            "120/120 - 13s - loss: 1.9756e-04 - accuracy: 0.7297 - val_loss: nan - val_accuracy: 0.5699 - 13s/epoch - 111ms/step\n",
            "Epoch 50/100\n",
            "\n",
            "Epoch 50: val_loss did not improve from 83753235104626255069184.00000\n",
            "120/120 - 13s - loss: 1.9750e-04 - accuracy: 0.7230 - val_loss: nan - val_accuracy: 0.7676 - 13s/epoch - 107ms/step\n",
            "Epoch 51/100\n",
            "\n",
            "Epoch 51: val_loss did not improve from 83753235104626255069184.00000\n",
            "120/120 - 12s - loss: 1.9301e-04 - accuracy: 0.7331 - val_loss: nan - val_accuracy: 0.4735 - 12s/epoch - 102ms/step\n",
            "Epoch 52/100\n",
            "\n",
            "Epoch 52: val_loss did not improve from 83753235104626255069184.00000\n",
            "120/120 - 13s - loss: 1.9660e-04 - accuracy: 0.7164 - val_loss: nan - val_accuracy: 0.5404 - 13s/epoch - 111ms/step\n",
            "Epoch 53/100\n",
            "\n",
            "Epoch 53: val_loss did not improve from 83753235104626255069184.00000\n",
            "120/120 - 13s - loss: 1.9084e-04 - accuracy: 0.7355 - val_loss: nan - val_accuracy: 0.6257 - 13s/epoch - 112ms/step\n",
            "Epoch 54/100\n",
            "\n",
            "Epoch 54: val_loss did not improve from 83753235104626255069184.00000\n",
            "120/120 - 13s - loss: 1.8879e-04 - accuracy: 0.7461 - val_loss: nan - val_accuracy: 0.6993 - 13s/epoch - 112ms/step\n",
            "Epoch 55/100\n",
            "\n",
            "Epoch 55: val_loss did not improve from 83753235104626255069184.00000\n",
            "120/120 - 14s - loss: 1.8514e-04 - accuracy: 0.7456 - val_loss: 1049285327567271577949879905812480.0000 - val_accuracy: 0.6956 - 14s/epoch - 113ms/step\n",
            "Epoch 56/100\n",
            "\n",
            "Epoch 56: val_loss did not improve from 83753235104626255069184.00000\n",
            "120/120 - 14s - loss: 1.8516e-04 - accuracy: 0.7431 - val_loss: nan - val_accuracy: 0.6904 - 14s/epoch - 116ms/step\n",
            "Epoch 57/100\n",
            "\n",
            "Epoch 57: val_loss did not improve from 83753235104626255069184.00000\n",
            "120/120 - 14s - loss: 1.8211e-04 - accuracy: 0.7534 - val_loss: 7956690957354945476144249438208.0000 - val_accuracy: 0.7676 - 14s/epoch - 113ms/step\n",
            "Epoch 58/100\n",
            "\n",
            "Epoch 58: val_loss did not improve from 83753235104626255069184.00000\n",
            "120/120 - 14s - loss: 1.7457e-04 - accuracy: 0.7635 - val_loss: nan - val_accuracy: 0.4919 - 14s/epoch - 119ms/step\n",
            "Epoch 59/100\n",
            "\n",
            "Epoch 59: val_loss did not improve from 83753235104626255069184.00000\n",
            "120/120 - 13s - loss: 1.7148e-04 - accuracy: 0.7740 - val_loss: 2790115373807853443982886168428544.0000 - val_accuracy: 0.6728 - 13s/epoch - 111ms/step\n",
            "Epoch 60/100\n",
            "\n",
            "Epoch 60: val_loss did not improve from 83753235104626255069184.00000\n",
            "120/120 - 13s - loss: 1.6840e-04 - accuracy: 0.7833 - val_loss: 11358025719289582968769609728.0000 - val_accuracy: 0.7868 - 13s/epoch - 110ms/step\n",
            "Epoch 61/100\n",
            "\n",
            "Epoch 61: val_loss did not improve from 83753235104626255069184.00000\n",
            "120/120 - 12s - loss: 1.6509e-04 - accuracy: 0.7904 - val_loss: nan - val_accuracy: 0.6515 - 12s/epoch - 101ms/step\n",
            "Epoch 62/100\n",
            "\n",
            "Epoch 62: val_loss did not improve from 83753235104626255069184.00000\n",
            "120/120 - 13s - loss: 1.6089e-04 - accuracy: 0.7922 - val_loss: 18735842446992169848853851099103232.0000 - val_accuracy: 0.6868 - 13s/epoch - 111ms/step\n",
            "Epoch 63/100\n",
            "\n",
            "Epoch 63: val_loss did not improve from 83753235104626255069184.00000\n",
            "120/120 - 13s - loss: 1.5721e-04 - accuracy: 0.8015 - val_loss: nan - val_accuracy: 0.6706 - 13s/epoch - 112ms/step\n",
            "Epoch 64/100\n",
            "\n",
            "Epoch 64: val_loss did not improve from 83753235104626255069184.00000\n",
            "120/120 - 13s - loss: 1.5356e-04 - accuracy: 0.8083 - val_loss: nan - val_accuracy: 0.7066 - 13s/epoch - 111ms/step\n",
            "Epoch 65/100\n",
            "\n",
            "Epoch 65: val_loss did not improve from 83753235104626255069184.00000\n",
            "120/120 - 13s - loss: 1.4863e-04 - accuracy: 0.8208 - val_loss: nan - val_accuracy: 0.4853 - 13s/epoch - 111ms/step\n",
            "Epoch 66/100\n",
            "\n",
            "Epoch 66: val_loss did not improve from 83753235104626255069184.00000\n",
            "120/120 - 14s - loss: 1.4857e-04 - accuracy: 0.8154 - val_loss: 1505667375907997916145385472.0000 - val_accuracy: 0.6904 - 14s/epoch - 113ms/step\n",
            "Epoch 67/100\n",
            "\n",
            "Epoch 67: val_loss did not improve from 83753235104626255069184.00000\n",
            "120/120 - 13s - loss: 1.4010e-04 - accuracy: 0.8294 - val_loss: 1390769116855057754935248551936.0000 - val_accuracy: 0.7088 - 13s/epoch - 109ms/step\n",
            "Epoch 68/100\n",
            "\n",
            "Epoch 68: val_loss did not improve from 83753235104626255069184.00000\n",
            "120/120 - 13s - loss: 1.3965e-04 - accuracy: 0.8245 - val_loss: nan - val_accuracy: 0.2147 - 13s/epoch - 109ms/step\n",
            "Epoch 69/100\n",
            "\n",
            "Epoch 69: val_loss did not improve from 83753235104626255069184.00000\n",
            "120/120 - 12s - loss: 1.3706e-04 - accuracy: 0.8409 - val_loss: nan - val_accuracy: 0.2147 - 12s/epoch - 103ms/step\n",
            "Epoch 70/100\n",
            "\n",
            "Epoch 70: val_loss did not improve from 83753235104626255069184.00000\n",
            "120/120 - 13s - loss: 1.3665e-04 - accuracy: 0.8375 - val_loss: 30834011726209630383112192.0000 - val_accuracy: 0.7500 - 13s/epoch - 109ms/step\n",
            "Epoch 71/100\n",
            "\n",
            "Epoch 71: val_loss did not improve from 83753235104626255069184.00000\n",
            "120/120 - 13s - loss: 1.2624e-04 - accuracy: 0.8529 - val_loss: nan - val_accuracy: 0.6559 - 13s/epoch - 109ms/step\n",
            "Epoch 72/100\n",
            "\n",
            "Epoch 72: val_loss improved from 83753235104626255069184.00000 to 53076497868430875033600.00000, saving model to /tmp/checkpoint.h5\n",
            "120/120 - 13s - loss: 1.2476e-04 - accuracy: 0.8512 - val_loss: 53076497868430875033600.0000 - val_accuracy: 0.7206 - 13s/epoch - 112ms/step\n",
            "Epoch 73/100\n",
            "\n",
            "Epoch 73: val_loss did not improve from 53076497868430875033600.00000\n",
            "120/120 - 13s - loss: 1.2283e-04 - accuracy: 0.8473 - val_loss: nan - val_accuracy: 0.7265 - 13s/epoch - 112ms/step\n",
            "Epoch 74/100\n",
            "\n",
            "Epoch 74: val_loss did not improve from 53076497868430875033600.00000\n",
            "120/120 - 15s - loss: 1.2304e-04 - accuracy: 0.8522 - val_loss: nan - val_accuracy: 0.3801 - 15s/epoch - 121ms/step\n",
            "Epoch 75/100\n",
            "\n",
            "Epoch 75: val_loss did not improve from 53076497868430875033600.00000\n",
            "120/120 - 18s - loss: 1.2098e-04 - accuracy: 0.8556 - val_loss: 2746890840426145463614370897461248.0000 - val_accuracy: 0.7243 - 18s/epoch - 149ms/step\n",
            "Epoch 76/100\n",
            "\n",
            "Epoch 76: val_loss did not improve from 53076497868430875033600.00000\n",
            "120/120 - 14s - loss: 1.2342e-04 - accuracy: 0.8652 - val_loss: nan - val_accuracy: 0.6147 - 14s/epoch - 119ms/step\n",
            "Epoch 77/100\n",
            "\n",
            "Epoch 77: val_loss did not improve from 53076497868430875033600.00000\n",
            "120/120 - 14s - loss: 1.1111e-04 - accuracy: 0.8664 - val_loss: 2575737898216890705117184.0000 - val_accuracy: 0.7794 - 14s/epoch - 113ms/step\n",
            "Epoch 78/100\n",
            "\n",
            "Epoch 78: val_loss did not improve from 53076497868430875033600.00000\n",
            "120/120 - 13s - loss: 1.1095e-04 - accuracy: 0.8733 - val_loss: nan - val_accuracy: 0.6426 - 13s/epoch - 108ms/step\n",
            "Epoch 79/100\n",
            "\n",
            "Epoch 79: val_loss did not improve from 53076497868430875033600.00000\n",
            "120/120 - 12s - loss: 1.0341e-04 - accuracy: 0.8821 - val_loss: nan - val_accuracy: 0.4941 - 12s/epoch - 101ms/step\n",
            "Epoch 80/100\n",
            "\n",
            "Epoch 80: val_loss did not improve from 53076497868430875033600.00000\n",
            "120/120 - 13s - loss: 1.1143e-04 - accuracy: 0.8716 - val_loss: nan - val_accuracy: 0.6559 - 13s/epoch - 112ms/step\n",
            "Epoch 81/100\n",
            "\n",
            "Epoch 81: val_loss did not improve from 53076497868430875033600.00000\n",
            "120/120 - 14s - loss: 1.0073e-04 - accuracy: 0.8860 - val_loss: nan - val_accuracy: 0.7346 - 14s/epoch - 113ms/step\n",
            "Epoch 82/100\n",
            "\n",
            "Epoch 82: val_loss did not improve from 53076497868430875033600.00000\n",
            "120/120 - 13s - loss: 1.0233e-04 - accuracy: 0.8836 - val_loss: nan - val_accuracy: 0.7250 - 13s/epoch - 111ms/step\n",
            "Epoch 83/100\n",
            "\n",
            "Epoch 83: val_loss did not improve from 53076497868430875033600.00000\n",
            "120/120 - 13s - loss: 1.0248e-04 - accuracy: 0.8846 - val_loss: nan - val_accuracy: 0.2147 - 13s/epoch - 111ms/step\n",
            "Epoch 84/100\n",
            "\n",
            "Epoch 84: val_loss did not improve from 53076497868430875033600.00000\n",
            "120/120 - 15s - loss: 1.0111e-04 - accuracy: 0.8824 - val_loss: 971533665446591724442852786176.0000 - val_accuracy: 0.7309 - 15s/epoch - 122ms/step\n",
            "Epoch 85/100\n",
            "\n",
            "Epoch 85: val_loss did not improve from 53076497868430875033600.00000\n",
            "120/120 - 14s - loss: 9.8509e-05 - accuracy: 0.8882 - val_loss: 3702967288542005394938741653504.0000 - val_accuracy: 0.7779 - 14s/epoch - 115ms/step\n",
            "Epoch 86/100\n",
            "\n",
            "Epoch 86: val_loss did not improve from 53076497868430875033600.00000\n",
            "120/120 - 12s - loss: 9.4857e-05 - accuracy: 0.8949 - val_loss: nan - val_accuracy: 0.5654 - 12s/epoch - 104ms/step\n",
            "Epoch 87/100\n",
            "\n",
            "Epoch 87: val_loss did not improve from 53076497868430875033600.00000\n",
            "120/120 - 12s - loss: 8.8719e-05 - accuracy: 0.9069 - val_loss: nan - val_accuracy: 0.2147 - 12s/epoch - 103ms/step\n",
            "Epoch 88/100\n",
            "\n",
            "Epoch 88: val_loss did not improve from 53076497868430875033600.00000\n",
            "120/120 - 14s - loss: 8.9532e-05 - accuracy: 0.9000 - val_loss: 400054521319896190038679742316544.0000 - val_accuracy: 0.6721 - 14s/epoch - 113ms/step\n",
            "Epoch 89/100\n",
            "\n",
            "Epoch 89: val_loss did not improve from 53076497868430875033600.00000\n",
            "120/120 - 14s - loss: 9.1116e-05 - accuracy: 0.8956 - val_loss: nan - val_accuracy: 0.6654 - 14s/epoch - 113ms/step\n",
            "Epoch 90/100\n",
            "\n",
            "Epoch 90: val_loss did not improve from 53076497868430875033600.00000\n",
            "120/120 - 14s - loss: 8.4776e-05 - accuracy: 0.9105 - val_loss: nan - val_accuracy: 0.7118 - 14s/epoch - 113ms/step\n",
            "Epoch 91/100\n",
            "\n",
            "Epoch 91: val_loss did not improve from 53076497868430875033600.00000\n",
            "120/120 - 14s - loss: 8.5100e-05 - accuracy: 0.9142 - val_loss: nan - val_accuracy: 0.7037 - 14s/epoch - 116ms/step\n",
            "Epoch 92/100\n",
            "\n",
            "Epoch 92: val_loss did not improve from 53076497868430875033600.00000\n",
            "120/120 - 14s - loss: 8.6082e-05 - accuracy: 0.9098 - val_loss: 149558942155844039793967104.0000 - val_accuracy: 0.7096 - 14s/epoch - 118ms/step\n",
            "Epoch 93/100\n",
            "\n",
            "Epoch 93: val_loss did not improve from 53076497868430875033600.00000\n",
            "120/120 - 13s - loss: 8.5284e-05 - accuracy: 0.9076 - val_loss: nan - val_accuracy: 0.7360 - 13s/epoch - 112ms/step\n",
            "Epoch 94/100\n",
            "\n",
            "Epoch 94: val_loss did not improve from 53076497868430875033600.00000\n",
            "120/120 - 12s - loss: 8.6372e-05 - accuracy: 0.9022 - val_loss: nan - val_accuracy: 0.2147 - 12s/epoch - 103ms/step\n",
            "Epoch 95/100\n",
            "\n",
            "Epoch 95: val_loss did not improve from 53076497868430875033600.00000\n",
            "120/120 - 13s - loss: 8.2061e-05 - accuracy: 0.9132 - val_loss: 39289530613746786219272005746688.0000 - val_accuracy: 0.7088 - 13s/epoch - 108ms/step\n",
            "Epoch 96/100\n",
            "\n",
            "Epoch 96: val_loss did not improve from 53076497868430875033600.00000\n",
            "120/120 - 14s - loss: 7.7125e-05 - accuracy: 0.9184 - val_loss: nan - val_accuracy: 0.7404 - 14s/epoch - 113ms/step\n",
            "Epoch 97/100\n",
            "\n",
            "Epoch 97: val_loss did not improve from 53076497868430875033600.00000\n",
            "120/120 - 14s - loss: 8.2570e-05 - accuracy: 0.9100 - val_loss: nan - val_accuracy: 0.5272 - 14s/epoch - 115ms/step\n",
            "Epoch 98/100\n",
            "\n",
            "Epoch 98: val_loss did not improve from 53076497868430875033600.00000\n",
            "120/120 - 14s - loss: 7.5797e-05 - accuracy: 0.9189 - val_loss: nan - val_accuracy: 0.2147 - 14s/epoch - 114ms/step\n",
            "Epoch 99/100\n",
            "\n",
            "Epoch 99: val_loss did not improve from 53076497868430875033600.00000\n",
            "120/120 - 13s - loss: 6.9106e-05 - accuracy: 0.9262 - val_loss: nan - val_accuracy: 0.6941 - 13s/epoch - 109ms/step\n",
            "Epoch 100/100\n",
            "\n",
            "Epoch 100: val_loss did not improve from 53076497868430875033600.00000\n",
            "120/120 - 14s - loss: 7.2682e-05 - accuracy: 0.9248 - val_loss: nan - val_accuracy: 0.6882 - 14s/epoch - 115ms/step\n"
          ]
        }
      ]
    },
    {
      "cell_type": "code",
      "source": [
        "_, accuracy = model.evaluate(X_valid, y_valid, verbose=0)\n",
        "print('Accuracy: {:.2f}%'.format(accuracy * 100))\n"
      ],
      "metadata": {
        "colab": {
          "base_uri": "https://localhost:8080/"
        },
        "id": "bImtuT8cuguQ",
        "outputId": "6bccb17a-1203-4673-fbe0-8e64d134eefd"
      },
      "execution_count": null,
      "outputs": [
        {
          "output_type": "stream",
          "name": "stdout",
          "text": [
            "Accuracy: 74.71%\n"
          ]
        }
      ]
    },
    {
      "cell_type": "code",
      "source": [
        "X_test = np.reshape(test_data_list, (-1, 1, test_data_list.shape[2], test_data_list.shape[3]))\n",
        "\n",
        "\n",
        "# Ensure Y_test has the correct number of samples\n",
        "Y_test = Y_train_valid[:X_test.shape[0]]\n",
        "\n",
        "# Convert to categorical\n",
        "Y_test_cat = to_categorical(Y_test, num_classes=4)\n",
        "\n",
        "# Print shapes for diagnostics\n",
        "print(f\"X_test shape: {X_test.shape}\")\n",
        "print(f\"Y_test shape: {Y_test.shape}\")\n",
        "print(f\"Y_test_cat shape: {Y_test_cat.shape}\")\n",
        "\n",
        "# Get the predicted probabilities for the test set\n",
        "Y_pred_prob = model.predict(X_test)\n",
        "if np.any(np.isnan(Y_pred_prob)):\n",
        "    print(\"Warning: NaN values found in predictions. Investigate model or data.\")\n",
        "    # Handle NaNs (e.g., replace with a default value)\n",
        "    Y_pred_prob = np.nan_to_num(Y_pred_prob)\n",
        "# Ensure Y_pred_prob has the correct shape\n",
        "if Y_pred_prob.shape[1] == 1 and Y_pred_prob.shape[0] == X_test.shape[0]:\n",
        "    # Assuming the model is not outputting the probabilities correctly\n",
        "    # Recalculate or reshape as needed\n",
        "    Y_pred_prob = np.tile(Y_pred_prob, (1, 4))\n",
        "if Y_pred_prob.shape[1] == 2:\n",
        "    Y_pred_prob_temp = np.zeros((Y_pred_prob.shape[0], 4))\n",
        "    Y_pred_prob_temp[:, :2] = Y_pred_prob\n",
        "    Y_pred_prob_temp[:, 2:] = 1 - Y_pred_prob\n",
        "    Y_pred_prob = Y_pred_prob_temp\n",
        "\n",
        "# Print the prediction shape for diagnostics\n",
        "print(f\"Y_pred_prob shape: {Y_pred_prob.shape}\")\n",
        "\n",
        "# Ensure the number of samples match\n",
        "assert X_test.shape[0] == Y_test.shape[0] == Y_pred_prob.shape[0], \"Number of samples must match\"\n",
        "\n",
        "# Initialize plot\n",
        "plt.figure()\n",
        "\n",
        "# Calculate ROC curve and AUC for each class\n",
        "for i in range(4):\n",
        "    fpr, tpr, _ = roc_curve(Y_test_cat[:, i], Y_pred_prob[:, i])\n",
        "    roc_auc = auc(fpr, tpr)\n",
        "    plt.plot(fpr, tpr, lw=2, label=f'Class {i} (AUC = {roc_auc:.2f})')\n",
        "\n",
        "# Plot diagonal line for no-skill classifier\n",
        "plt.plot([0, 1], [0, 1], 'k--', lw=2)\n",
        "\n",
        "# Formatting plot\n",
        "plt.xlim([0.0, 1.0])\n",
        "plt.ylim([0.0, 1.05])\n",
        "plt.xlabel('False Positive Rate')\n",
        "plt.ylabel('True Positive Rate')\n",
        "plt.title('Receiver Operating Characteristic (ROC) Curve')\n",
        "plt.legend(loc='lower right')\n",
        "plt.grid(alpha=0.3)\n",
        "\n",
        "# Show plot\n",
        "plt.show()\n"
      ],
      "metadata": {
        "colab": {
          "base_uri": "https://localhost:8080/"
        },
        "id": "x9OGbTd8h-sq",
        "outputId": "d8b1639f-c4bb-46e3-b6f8-cc503e27326c"
      },
      "execution_count": null,
      "outputs": [
        {
          "output_type": "stream",
          "name": "stdout",
          "text": [
            "X_test shape: (3400, 1, 56, 140)\n",
            "Y_test shape: (3400,)\n",
            "Y_test_cat shape: (3400, 4)\n",
            "107/107 [==============================] - 3s 24ms/step\n",
            "Warning: NaN values found in predictions. Investigate model or data.\n",
            "Y_pred_prob shape: (3400, 4)\n"
          ]
        },
        {
          "output_type": "stream",
          "name": "stderr",
          "text": [
            "/usr/local/lib/python3.10/dist-packages/sklearn/metrics/_ranking.py:1029: UndefinedMetricWarning: No positive samples in y_true, true positive value should be meaningless\n",
            "  warnings.warn(\n",
            "/usr/local/lib/python3.10/dist-packages/sklearn/metrics/_ranking.py:1029: UndefinedMetricWarning: No positive samples in y_true, true positive value should be meaningless\n",
            "  warnings.warn(\n"
          ]
        },
        {
          "output_type": "display_data",
          "data": {
            "text/plain": [
              "<Figure size 640x480 with 1 Axes>"
            ],
            "image/png": "[encoded data removed]"
          },
          "metadata": {}
        }
      ]
    },
    {
      "cell_type": "markdown",
      "source": [
        "# Evaluation complete\n",
        "\n",
        "\n"
      ],
      "metadata": {
        "id": "a5mKA1bn8qMl"
      }
    },
    {
      "cell_type": "code",
      "source": [
        "subj, trial, channel, sample = train_data_list.shape\n",
        "X_train_valid = np.reshape(train_data_list, (-1, 1, channel, sample))\n",
        "X_test = np.reshape(test_data_list, (-1, 1, channel, sample))\n",
        "\n",
        "Y_train_valid = pd.read_csv('/content/drive/MyDrive/TrainLabels.csv')['Prediction'].values\n",
        "split_thres = int(subj * trial * 0.25)\n",
        "X_train, X_valid = X_train_valid[split_thres:, :], X_train_valid[:split_thres, :]\n",
        "Y_train, Y_valid = Y_train_valid[split_thres:], Y_train_valid[:split_thres]\n",
        "\n",
        "print('training data shape: ' + str(X_train.shape))\n",
        "print('validation data shape: ' + str(X_valid.shape))\n",
        "print('testing data shape: ' + str(X_test.shape))\n",
        "print(Y_train.shape, Y_valid.shape)"
      ],
      "metadata": {
        "id": "xUNp_nU7_tSx",
        "colab": {
          "base_uri": "https://localhost:8080/"
        },
        "outputId": "501eddd5-fa2c-49a6-d249-df6a8e39bdfb"
      },
      "execution_count": null,
      "outputs": [
        {
          "output_type": "stream",
          "name": "stdout",
          "text": [
            "training data shape: (4080, 1, 56, 140)\n",
            "validation data shape: (1360, 1, 56, 140)\n",
            "testing data shape: (3400, 1, 56, 140)\n",
            "(4080,) (1360,)\n"
          ]
        }
      ]
    },
    {
      "cell_type": "code",
      "source": [
        "# Assuming your labels are in the range [0, 3] for 4 classes\n",
        "Y_train = to_categorical(Y_train, num_classes=4)\n",
        "Y_valid = to_categorical(Y_valid, num_classes=4)\n",
        "class_weights = {i: 1 / np.sum(Y_train[:, i] == 1) for i in range(4)}\n",
        "model = EEGNet(nb_classes=4, Chans=channel, Samples=sample)\n",
        "\n",
        "model.compile(optimizer=Adam(), loss='categorical_crossentropy', metrics=['accuracy'])\n",
        "\n",
        "checkpointer = ModelCheckpoint(filepath='/tmp/checkpoint.keras', verbose=1, save_best_only=True)\n",
        "\n",
        "fittedModel = model.fit(\n",
        "    X_train, Y_train,\n",
        "    batch_size=32,\n",
        "    epochs=10,\n",
        "    verbose=2,\n",
        "    validation_data=(X_valid, Y_valid),\n",
        "    callbacks=[checkpointer],\n",
        "    class_weight=class_weights\n",
        ")\n"
      ],
      "metadata": {
        "id": "Fa4ogRaEwkVT",
        "colab": {
          "base_uri": "https://localhost:8080/",
          "height": 495
        },
        "outputId": "5ace7d19-3323-45c1-93e2-fd63dc040eb4"
      },
      "execution_count": null,
      "outputs": [
        {
          "output_type": "stream",
          "name": "stderr",
          "text": [
            "<ipython-input-63-a8d389dcf5af>:4: RuntimeWarning: divide by zero encountered in scalar divide\n",
            "  class_weights = {i: 1 / np.sum(Y_train[:, i] == 1) for i in range(4)}\n"
          ]
        },
        {
          "output_type": "error",
          "ename": "ValueError",
          "evalue": "Exception encountered when calling layer \"depthwise_conv2d_7\" (type DepthwiseConv2D).\n\nNegative dimension size caused by subtracting 56 from 1 for '{{node depthwise_conv2d_7/depthwise}} = DepthwiseConv2dNative[T=DT_FLOAT, data_format=\"NHWC\", dilations=[1, 1, 1, 1], explicit_paddings=[], padding=\"VALID\", strides=[1, 1, 1, 1]](Placeholder, depthwise_conv2d_7/depthwise/ReadVariableOp)' with input shapes: [?,1,56,8], [56,1,8,2].\n\nCall arguments received by layer \"depthwise_conv2d_7\" (type DepthwiseConv2D):\n  • inputs=tf.Tensor(shape=(None, 1, 56, 8), dtype=float32)",
          "traceback": [
            "\u001b[0;31m---------------------------------------------------------------------------\u001b[0m",
            "\u001b[0;31mValueError\u001b[0m                                Traceback (most recent call last)",
            "\u001b[0;32m<ipython-input-63-a8d389dcf5af>\u001b[0m in \u001b[0;36m<cell line: 5>\u001b[0;34m()\u001b[0m\n\u001b[1;32m      3\u001b[0m \u001b[0mY_valid\u001b[0m \u001b[0;34m=\u001b[0m \u001b[0mto_categorical\u001b[0m\u001b[0;34m(\u001b[0m\u001b[0mY_valid\u001b[0m\u001b[0;34m,\u001b[0m \u001b[0mnum_classes\u001b[0m\u001b[0;34m=\u001b[0m\u001b[0;36m4\u001b[0m\u001b[0;34m)\u001b[0m\u001b[0;34m\u001b[0m\u001b[0;34m\u001b[0m\u001b[0m\n\u001b[1;32m      4\u001b[0m \u001b[0mclass_weights\u001b[0m \u001b[0;34m=\u001b[0m \u001b[0;34m{\u001b[0m\u001b[0mi\u001b[0m\u001b[0;34m:\u001b[0m \u001b[0;36m1\u001b[0m \u001b[0;34m/\u001b[0m \u001b[0mnp\u001b[0m\u001b[0;34m.\u001b[0m\u001b[0msum\u001b[0m\u001b[0;34m(\u001b[0m\u001b[0mY_train\u001b[0m\u001b[0;34m[\u001b[0m\u001b[0;34m:\u001b[0m\u001b[0;34m,\u001b[0m \u001b[0mi\u001b[0m\u001b[0;34m]\u001b[0m \u001b[0;34m==\u001b[0m \u001b[0;36m1\u001b[0m\u001b[0;34m)\u001b[0m \u001b[0;32mfor\u001b[0m \u001b[0mi\u001b[0m \u001b[0;32min\u001b[0m \u001b[0mrange\u001b[0m\u001b[0;34m(\u001b[0m\u001b[0;36m4\u001b[0m\u001b[0;34m)\u001b[0m\u001b[0;34m}\u001b[0m\u001b[0;34m\u001b[0m\u001b[0;34m\u001b[0m\u001b[0m\n\u001b[0;32m----> 5\u001b[0;31m \u001b[0mmodel\u001b[0m \u001b[0;34m=\u001b[0m \u001b[0mEEGNet\u001b[0m\u001b[0;34m(\u001b[0m\u001b[0mnb_classes\u001b[0m\u001b[0;34m=\u001b[0m\u001b[0;36m4\u001b[0m\u001b[0;34m,\u001b[0m \u001b[0mChans\u001b[0m\u001b[0;34m=\u001b[0m\u001b[0mchannel\u001b[0m\u001b[0;34m,\u001b[0m \u001b[0mSamples\u001b[0m\u001b[0;34m=\u001b[0m\u001b[0msample\u001b[0m\u001b[0;34m)\u001b[0m\u001b[0;34m\u001b[0m\u001b[0;34m\u001b[0m\u001b[0m\n\u001b[0m\u001b[1;32m      6\u001b[0m \u001b[0;34m\u001b[0m\u001b[0m\n\u001b[1;32m      7\u001b[0m \u001b[0mmodel\u001b[0m\u001b[0;34m.\u001b[0m\u001b[0mcompile\u001b[0m\u001b[0;34m(\u001b[0m\u001b[0moptimizer\u001b[0m\u001b[0;34m=\u001b[0m\u001b[0mAdam\u001b[0m\u001b[0;34m(\u001b[0m\u001b[0;34m)\u001b[0m\u001b[0;34m,\u001b[0m \u001b[0mloss\u001b[0m\u001b[0;34m=\u001b[0m\u001b[0;34m'categorical_crossentropy'\u001b[0m\u001b[0;34m,\u001b[0m \u001b[0mmetrics\u001b[0m\u001b[0;34m=\u001b[0m\u001b[0;34m[\u001b[0m\u001b[0;34m'accuracy'\u001b[0m\u001b[0;34m]\u001b[0m\u001b[0;34m)\u001b[0m\u001b[0;34m\u001b[0m\u001b[0;34m\u001b[0m\u001b[0m\n",
            "\u001b[0;32m<ipython-input-57-fd9649b1b637>\u001b[0m in \u001b[0;36mEEGNet\u001b[0;34m(nb_classes, Chans, Samples, dropoutRate, kernLength, F1, D, F2, norm_rate, dropoutType)\u001b[0m\n\u001b[1;32m     15\u001b[0m                                    use_bias = False)(input1)\n\u001b[1;32m     16\u001b[0m     \u001b[0mblock1\u001b[0m       \u001b[0;34m=\u001b[0m \u001b[0mBatchNormalization\u001b[0m\u001b[0;34m(\u001b[0m\u001b[0maxis\u001b[0m \u001b[0;34m=\u001b[0m \u001b[0;36m1\u001b[0m\u001b[0;34m)\u001b[0m\u001b[0;34m(\u001b[0m\u001b[0mblock1\u001b[0m\u001b[0;34m)\u001b[0m\u001b[0;34m\u001b[0m\u001b[0;34m\u001b[0m\u001b[0m\n\u001b[0;32m---> 17\u001b[0;31m     block1       = DepthwiseConv2D((Chans, 1), use_bias = False,\n\u001b[0m\u001b[1;32m     18\u001b[0m                                    \u001b[0mdepth_multiplier\u001b[0m \u001b[0;34m=\u001b[0m \u001b[0mD\u001b[0m\u001b[0;34m,\u001b[0m\u001b[0;34m\u001b[0m\u001b[0;34m\u001b[0m\u001b[0m\n\u001b[1;32m     19\u001b[0m                                    \u001b[0mdepthwise_constraint\u001b[0m \u001b[0;34m=\u001b[0m \u001b[0mmax_norm\u001b[0m\u001b[0;34m(\u001b[0m\u001b[0;36m1.\u001b[0m\u001b[0;34m)\u001b[0m\u001b[0;34m,\u001b[0m\u001b[0;34m\u001b[0m\u001b[0;34m\u001b[0m\u001b[0m\n",
            "\u001b[0;32m/usr/local/lib/python3.10/dist-packages/keras/src/utils/traceback_utils.py\u001b[0m in \u001b[0;36merror_handler\u001b[0;34m(*args, **kwargs)\u001b[0m\n\u001b[1;32m     68\u001b[0m             \u001b[0;31m# To get the full stack trace, call:\u001b[0m\u001b[0;34m\u001b[0m\u001b[0;34m\u001b[0m\u001b[0m\n\u001b[1;32m     69\u001b[0m             \u001b[0;31m# `tf.debugging.disable_traceback_filtering()`\u001b[0m\u001b[0;34m\u001b[0m\u001b[0;34m\u001b[0m\u001b[0m\n\u001b[0;32m---> 70\u001b[0;31m             \u001b[0;32mraise\u001b[0m \u001b[0me\u001b[0m\u001b[0;34m.\u001b[0m\u001b[0mwith_traceback\u001b[0m\u001b[0;34m(\u001b[0m\u001b[0mfiltered_tb\u001b[0m\u001b[0;34m)\u001b[0m \u001b[0;32mfrom\u001b[0m \u001b[0;32mNone\u001b[0m\u001b[0;34m\u001b[0m\u001b[0;34m\u001b[0m\u001b[0m\n\u001b[0m\u001b[1;32m     71\u001b[0m         \u001b[0;32mfinally\u001b[0m\u001b[0;34m:\u001b[0m\u001b[0;34m\u001b[0m\u001b[0;34m\u001b[0m\u001b[0m\n\u001b[1;32m     72\u001b[0m             \u001b[0;32mdel\u001b[0m \u001b[0mfiltered_tb\u001b[0m\u001b[0;34m\u001b[0m\u001b[0;34m\u001b[0m\u001b[0m\n",
            "\u001b[0;32m/usr/local/lib/python3.10/dist-packages/keras/src/backend.py\u001b[0m in \u001b[0;36mdepthwise_conv2d\u001b[0;34m(x, depthwise_kernel, strides, padding, data_format, dilation_rate)\u001b[0m\n\u001b[1;32m   6462\u001b[0m         \u001b[0mstrides\u001b[0m \u001b[0;34m=\u001b[0m \u001b[0;34m(\u001b[0m\u001b[0;36m1\u001b[0m\u001b[0;34m,\u001b[0m \u001b[0;36m1\u001b[0m\u001b[0;34m)\u001b[0m \u001b[0;34m+\u001b[0m \u001b[0mstrides\u001b[0m\u001b[0;34m\u001b[0m\u001b[0;34m\u001b[0m\u001b[0m\n\u001b[1;32m   6463\u001b[0m \u001b[0;34m\u001b[0m\u001b[0m\n\u001b[0;32m-> 6464\u001b[0;31m     x = tf.nn.depthwise_conv2d(\n\u001b[0m\u001b[1;32m   6465\u001b[0m         \u001b[0mx\u001b[0m\u001b[0;34m,\u001b[0m\u001b[0;34m\u001b[0m\u001b[0;34m\u001b[0m\u001b[0m\n\u001b[1;32m   6466\u001b[0m         \u001b[0mdepthwise_kernel\u001b[0m\u001b[0;34m,\u001b[0m\u001b[0;34m\u001b[0m\u001b[0;34m\u001b[0m\u001b[0m\n",
            "\u001b[0;31mValueError\u001b[0m: Exception encountered when calling layer \"depthwise_conv2d_7\" (type DepthwiseConv2D).\n\nNegative dimension size caused by subtracting 56 from 1 for '{{node depthwise_conv2d_7/depthwise}} = DepthwiseConv2dNative[T=DT_FLOAT, data_format=\"NHWC\", dilations=[1, 1, 1, 1], explicit_paddings=[], padding=\"VALID\", strides=[1, 1, 1, 1]](Placeholder, depthwise_conv2d_7/depthwise/ReadVariableOp)' with input shapes: [?,1,56,8], [56,1,8,2].\n\nCall arguments received by layer \"depthwise_conv2d_7\" (type DepthwiseConv2D):\n  • inputs=tf.Tensor(shape=(None, 1, 56, 8), dtype=float32)"
          ]
        }
      ]
    },
    {
      "cell_type": "code",
      "source": [
        "# Ensure data is in correct format (batch_size, channels, height, width)\n",
        "X_train = np.transpose(X_train, (0, 3, 1, 2))  # (batch_size, channels, height, width)\n",
        "X_valid = np.transpose(X_valid, (0, 3, 1, 2))  # (batch_size, channels, height, width)\n",
        "X_test = np.transpose(X_test, (0, 3, 1, 2))    # (batch_size, channels, height, width)\n"
      ],
      "metadata": {
        "id": "Oxf5GXmtAm4z"
      },
      "execution_count": null,
      "outputs": []
    },
    {
      "cell_type": "code",
      "source": [
        "\n",
        "model = EEGNet(nb_classes=4, Chans=channel, Samples=sample)\n",
        "model.compile(optimizer=Adam(), loss='categorical_crossentropy', metrics=['accuracy'])\n",
        "checkpointer = ModelCheckpoint(filepath='/tmp/checkpoint.keras', verbose=1, save_best_only=True)\n"
      ],
      "metadata": {
        "colab": {
          "base_uri": "https://localhost:8080/",
          "height": 425
        },
        "id": "FGDkh4E_9sV1",
        "outputId": "38a0dc2f-d0ba-4347-de0d-74047d73b02b"
      },
      "execution_count": null,
      "outputs": [
        {
          "output_type": "error",
          "ename": "ValueError",
          "evalue": "Exception encountered when calling layer \"depthwise_conv2d_8\" (type DepthwiseConv2D).\n\nNegative dimension size caused by subtracting 56 from 1 for '{{node depthwise_conv2d_8/depthwise}} = DepthwiseConv2dNative[T=DT_FLOAT, data_format=\"NHWC\", dilations=[1, 1, 1, 1], explicit_paddings=[], padding=\"VALID\", strides=[1, 1, 1, 1]](Placeholder, depthwise_conv2d_8/depthwise/ReadVariableOp)' with input shapes: [?,1,56,8], [56,1,8,2].\n\nCall arguments received by layer \"depthwise_conv2d_8\" (type DepthwiseConv2D):\n  • inputs=tf.Tensor(shape=(None, 1, 56, 8), dtype=float32)",
          "traceback": [
            "\u001b[0;31m---------------------------------------------------------------------------\u001b[0m",
            "\u001b[0;31mValueError\u001b[0m                                Traceback (most recent call last)",
            "\u001b[0;32m<ipython-input-64-17c50e0db720>\u001b[0m in \u001b[0;36m<cell line: 1>\u001b[0;34m()\u001b[0m\n\u001b[0;32m----> 1\u001b[0;31m \u001b[0mmodel\u001b[0m \u001b[0;34m=\u001b[0m \u001b[0mEEGNet\u001b[0m\u001b[0;34m(\u001b[0m\u001b[0mnb_classes\u001b[0m\u001b[0;34m=\u001b[0m\u001b[0;36m4\u001b[0m\u001b[0;34m,\u001b[0m \u001b[0mChans\u001b[0m\u001b[0;34m=\u001b[0m\u001b[0mchannel\u001b[0m\u001b[0;34m,\u001b[0m \u001b[0mSamples\u001b[0m\u001b[0;34m=\u001b[0m\u001b[0msample\u001b[0m\u001b[0;34m)\u001b[0m\u001b[0;34m\u001b[0m\u001b[0;34m\u001b[0m\u001b[0m\n\u001b[0m\u001b[1;32m      2\u001b[0m \u001b[0mmodel\u001b[0m\u001b[0;34m.\u001b[0m\u001b[0mcompile\u001b[0m\u001b[0;34m(\u001b[0m\u001b[0moptimizer\u001b[0m\u001b[0;34m=\u001b[0m\u001b[0mAdam\u001b[0m\u001b[0;34m(\u001b[0m\u001b[0;34m)\u001b[0m\u001b[0;34m,\u001b[0m \u001b[0mloss\u001b[0m\u001b[0;34m=\u001b[0m\u001b[0;34m'categorical_crossentropy'\u001b[0m\u001b[0;34m,\u001b[0m \u001b[0mmetrics\u001b[0m\u001b[0;34m=\u001b[0m\u001b[0;34m[\u001b[0m\u001b[0;34m'accuracy'\u001b[0m\u001b[0;34m]\u001b[0m\u001b[0;34m)\u001b[0m\u001b[0;34m\u001b[0m\u001b[0;34m\u001b[0m\u001b[0m\n\u001b[1;32m      3\u001b[0m \u001b[0mcheckpointer\u001b[0m \u001b[0;34m=\u001b[0m \u001b[0mModelCheckpoint\u001b[0m\u001b[0;34m(\u001b[0m\u001b[0mfilepath\u001b[0m\u001b[0;34m=\u001b[0m\u001b[0;34m'/tmp/checkpoint.keras'\u001b[0m\u001b[0;34m,\u001b[0m \u001b[0mverbose\u001b[0m\u001b[0;34m=\u001b[0m\u001b[0;36m1\u001b[0m\u001b[0;34m,\u001b[0m \u001b[0msave_best_only\u001b[0m\u001b[0;34m=\u001b[0m\u001b[0;32mTrue\u001b[0m\u001b[0;34m)\u001b[0m\u001b[0;34m\u001b[0m\u001b[0;34m\u001b[0m\u001b[0m\n",
            "\u001b[0;32m<ipython-input-57-fd9649b1b637>\u001b[0m in \u001b[0;36mEEGNet\u001b[0;34m(nb_classes, Chans, Samples, dropoutRate, kernLength, F1, D, F2, norm_rate, dropoutType)\u001b[0m\n\u001b[1;32m     15\u001b[0m                                    use_bias = False)(input1)\n\u001b[1;32m     16\u001b[0m     \u001b[0mblock1\u001b[0m       \u001b[0;34m=\u001b[0m \u001b[0mBatchNormalization\u001b[0m\u001b[0;34m(\u001b[0m\u001b[0maxis\u001b[0m \u001b[0;34m=\u001b[0m \u001b[0;36m1\u001b[0m\u001b[0;34m)\u001b[0m\u001b[0;34m(\u001b[0m\u001b[0mblock1\u001b[0m\u001b[0;34m)\u001b[0m\u001b[0;34m\u001b[0m\u001b[0;34m\u001b[0m\u001b[0m\n\u001b[0;32m---> 17\u001b[0;31m     block1       = DepthwiseConv2D((Chans, 1), use_bias = False,\n\u001b[0m\u001b[1;32m     18\u001b[0m                                    \u001b[0mdepth_multiplier\u001b[0m \u001b[0;34m=\u001b[0m \u001b[0mD\u001b[0m\u001b[0;34m,\u001b[0m\u001b[0;34m\u001b[0m\u001b[0;34m\u001b[0m\u001b[0m\n\u001b[1;32m     19\u001b[0m                                    \u001b[0mdepthwise_constraint\u001b[0m \u001b[0;34m=\u001b[0m \u001b[0mmax_norm\u001b[0m\u001b[0;34m(\u001b[0m\u001b[0;36m1.\u001b[0m\u001b[0;34m)\u001b[0m\u001b[0;34m,\u001b[0m\u001b[0;34m\u001b[0m\u001b[0;34m\u001b[0m\u001b[0m\n",
            "\u001b[0;32m/usr/local/lib/python3.10/dist-packages/keras/src/utils/traceback_utils.py\u001b[0m in \u001b[0;36merror_handler\u001b[0;34m(*args, **kwargs)\u001b[0m\n\u001b[1;32m     68\u001b[0m             \u001b[0;31m# To get the full stack trace, call:\u001b[0m\u001b[0;34m\u001b[0m\u001b[0;34m\u001b[0m\u001b[0m\n\u001b[1;32m     69\u001b[0m             \u001b[0;31m# `tf.debugging.disable_traceback_filtering()`\u001b[0m\u001b[0;34m\u001b[0m\u001b[0;34m\u001b[0m\u001b[0m\n\u001b[0;32m---> 70\u001b[0;31m             \u001b[0;32mraise\u001b[0m \u001b[0me\u001b[0m\u001b[0;34m.\u001b[0m\u001b[0mwith_traceback\u001b[0m\u001b[0;34m(\u001b[0m\u001b[0mfiltered_tb\u001b[0m\u001b[0;34m)\u001b[0m \u001b[0;32mfrom\u001b[0m \u001b[0;32mNone\u001b[0m\u001b[0;34m\u001b[0m\u001b[0;34m\u001b[0m\u001b[0m\n\u001b[0m\u001b[1;32m     71\u001b[0m         \u001b[0;32mfinally\u001b[0m\u001b[0;34m:\u001b[0m\u001b[0;34m\u001b[0m\u001b[0;34m\u001b[0m\u001b[0m\n\u001b[1;32m     72\u001b[0m             \u001b[0;32mdel\u001b[0m \u001b[0mfiltered_tb\u001b[0m\u001b[0;34m\u001b[0m\u001b[0;34m\u001b[0m\u001b[0m\n",
            "\u001b[0;32m/usr/local/lib/python3.10/dist-packages/keras/src/backend.py\u001b[0m in \u001b[0;36mdepthwise_conv2d\u001b[0;34m(x, depthwise_kernel, strides, padding, data_format, dilation_rate)\u001b[0m\n\u001b[1;32m   6462\u001b[0m         \u001b[0mstrides\u001b[0m \u001b[0;34m=\u001b[0m \u001b[0;34m(\u001b[0m\u001b[0;36m1\u001b[0m\u001b[0;34m,\u001b[0m \u001b[0;36m1\u001b[0m\u001b[0;34m)\u001b[0m \u001b[0;34m+\u001b[0m \u001b[0mstrides\u001b[0m\u001b[0;34m\u001b[0m\u001b[0;34m\u001b[0m\u001b[0m\n\u001b[1;32m   6463\u001b[0m \u001b[0;34m\u001b[0m\u001b[0m\n\u001b[0;32m-> 6464\u001b[0;31m     x = tf.nn.depthwise_conv2d(\n\u001b[0m\u001b[1;32m   6465\u001b[0m         \u001b[0mx\u001b[0m\u001b[0;34m,\u001b[0m\u001b[0;34m\u001b[0m\u001b[0;34m\u001b[0m\u001b[0m\n\u001b[1;32m   6466\u001b[0m         \u001b[0mdepthwise_kernel\u001b[0m\u001b[0;34m,\u001b[0m\u001b[0;34m\u001b[0m\u001b[0;34m\u001b[0m\u001b[0m\n",
            "\u001b[0;31mValueError\u001b[0m: Exception encountered when calling layer \"depthwise_conv2d_8\" (type DepthwiseConv2D).\n\nNegative dimension size caused by subtracting 56 from 1 for '{{node depthwise_conv2d_8/depthwise}} = DepthwiseConv2dNative[T=DT_FLOAT, data_format=\"NHWC\", dilations=[1, 1, 1, 1], explicit_paddings=[], padding=\"VALID\", strides=[1, 1, 1, 1]](Placeholder, depthwise_conv2d_8/depthwise/ReadVariableOp)' with input shapes: [?,1,56,8], [56,1,8,2].\n\nCall arguments received by layer \"depthwise_conv2d_8\" (type DepthwiseConv2D):\n  • inputs=tf.Tensor(shape=(None, 1, 56, 8), dtype=float32)"
          ]
        }
      ]
    },
    {
      "cell_type": "code",
      "source": [
        "print(X_train.shape, X_valid.shape)"
      ],
      "metadata": {
        "colab": {
          "base_uri": "https://localhost:8080/"
        },
        "id": "TXPCMBoH_U70",
        "outputId": "eaab25df-5531-43b2-c07d-eae536287541"
      },
      "execution_count": null,
      "outputs": [
        {
          "output_type": "stream",
          "name": "stdout",
          "text": [
            "(4080, 1, 56, 140) (1360, 1, 56, 140)\n"
          ]
        }
      ]
    },
    {
      "cell_type": "code",
      "source": [
        "from keras.utils import to_categorical\n",
        "\n",
        "# Encode target labels\n",
        "Y_train_cat = to_categorical(Y_train, num_classes=4)\n",
        "Y_valid_cat = to_categorical(Y_valid, num_classes=4)\n",
        "\n",
        "# Ensure the shape of Y_train_cat and Y_valid_cat\n",
        "print('Y_train_cat shape:', Y_train_cat.shape)  # Should be (4080, 4)\n",
        "print('Y_valid_cat shape:', Y_valid_cat.shape)  # Should be (1360, 4)\n"
      ],
      "metadata": {
        "colab": {
          "base_uri": "https://localhost:8080/"
        },
        "id": "RI-OHjuSByn9",
        "outputId": "dff0bd66-bcf1-49b7-dc00-d439bbd371c7"
      },
      "execution_count": null,
      "outputs": [
        {
          "output_type": "stream",
          "name": "stdout",
          "text": [
            "Y_train_cat shape: (4080, 4, 4)\n",
            "Y_valid_cat shape: (1360, 4, 4)\n"
          ]
        }
      ]
    },
    {
      "cell_type": "code",
      "source": [
        "# Ensure data is in correct format (batch_size, height, width, channels)\n",
        "X_train = np.transpose(X_train, (0, 2, 3, 1))  # (batch_size, height, width, channels)\n",
        "X_valid = np.transpose(X_valid, (0, 2, 3, 1))  # (batch_size, height, width, channels)\n",
        "X_test = np.transpose(X_test, (0, 2, 3, 1))    # (batch_size, height, width, channels)\n",
        "\n"
      ],
      "metadata": {
        "id": "R52JRDGeCbFZ"
      },
      "execution_count": null,
      "outputs": []
    },
    {
      "cell_type": "code",
      "source": [
        "print(X_train.shape, X_valid.shape, X_test.shape)"
      ],
      "metadata": {
        "colab": {
          "base_uri": "https://localhost:8080/"
        },
        "id": "eHb0lL8LDEuH",
        "outputId": "8c58117c-cb7e-4743-f903-a2672f8324a6"
      },
      "execution_count": null,
      "outputs": [
        {
          "output_type": "stream",
          "name": "stdout",
          "text": [
            "(4080, 56, 140, 1) (1360, 56, 140, 1) (3400, 56, 140, 1)\n"
          ]
        }
      ]
    },
    {
      "cell_type": "code",
      "source": [
        "fittedModel = model.fit(\n",
        "    X_train, Y_train,\n",
        "    batch_size=32,\n",
        "    epochs=10,\n",
        "    verbose=2,\n",
        "    validation_data=(X_valid, Y_valid),\n",
        "    callbacks=[checkpointer],\n",
        "    class_weight=class_weights\n",
        ")"
      ],
      "metadata": {
        "colab": {
          "base_uri": "https://localhost:8080/",
          "height": 634
        },
        "id": "22Jq6zQZ-wni",
        "outputId": "c38e22c1-8e6d-4ce0-f073-91f5ad991287"
      },
      "execution_count": null,
      "outputs": [
        {
          "output_type": "stream",
          "name": "stdout",
          "text": [
            "Epoch 1/10\n"
          ]
        },
        {
          "output_type": "error",
          "ename": "ValueError",
          "evalue": "in user code:\n\n    File \"/usr/local/lib/python3.10/dist-packages/keras/src/engine/training.py\", line 1401, in train_function  *\n        return step_function(self, iterator)\n    File \"/usr/local/lib/python3.10/dist-packages/keras/src/engine/training.py\", line 1384, in step_function  **\n        outputs = model.distribute_strategy.run(run_step, args=(data,))\n    File \"/usr/local/lib/python3.10/dist-packages/keras/src/engine/training.py\", line 1373, in run_step  **\n        outputs = model.train_step(data)\n    File \"/usr/local/lib/python3.10/dist-packages/keras/src/engine/training.py\", line 1150, in train_step\n        y_pred = self(x, training=True)\n    File \"/usr/local/lib/python3.10/dist-packages/keras/src/utils/traceback_utils.py\", line 70, in error_handler\n        raise e.with_traceback(filtered_tb) from None\n    File \"/usr/local/lib/python3.10/dist-packages/keras/src/engine/input_spec.py\", line 298, in assert_input_compatibility\n        raise ValueError(\n\n    ValueError: Input 0 of layer \"model_3\" is incompatible with the layer: expected shape=(None, 1, 56, 140), found shape=(None, 56, 140, 1)\n",
          "traceback": [
            "\u001b[0;31m---------------------------------------------------------------------------\u001b[0m",
            "\u001b[0;31mValueError\u001b[0m                                Traceback (most recent call last)",
            "\u001b[0;32m<ipython-input-69-2b767a3b8217>\u001b[0m in \u001b[0;36m<cell line: 1>\u001b[0;34m()\u001b[0m\n\u001b[0;32m----> 1\u001b[0;31m fittedModel = model.fit(\n\u001b[0m\u001b[1;32m      2\u001b[0m     \u001b[0mX_train\u001b[0m\u001b[0;34m,\u001b[0m \u001b[0mY_train\u001b[0m\u001b[0;34m,\u001b[0m\u001b[0;34m\u001b[0m\u001b[0;34m\u001b[0m\u001b[0m\n\u001b[1;32m      3\u001b[0m     \u001b[0mbatch_size\u001b[0m\u001b[0;34m=\u001b[0m\u001b[0;36m32\u001b[0m\u001b[0;34m,\u001b[0m\u001b[0;34m\u001b[0m\u001b[0;34m\u001b[0m\u001b[0m\n\u001b[1;32m      4\u001b[0m     \u001b[0mepochs\u001b[0m\u001b[0;34m=\u001b[0m\u001b[0;36m10\u001b[0m\u001b[0;34m,\u001b[0m\u001b[0;34m\u001b[0m\u001b[0;34m\u001b[0m\u001b[0m\n\u001b[1;32m      5\u001b[0m     \u001b[0mverbose\u001b[0m\u001b[0;34m=\u001b[0m\u001b[0;36m2\u001b[0m\u001b[0;34m,\u001b[0m\u001b[0;34m\u001b[0m\u001b[0;34m\u001b[0m\u001b[0m\n",
            "\u001b[0;32m/usr/local/lib/python3.10/dist-packages/keras/src/utils/traceback_utils.py\u001b[0m in \u001b[0;36merror_handler\u001b[0;34m(*args, **kwargs)\u001b[0m\n\u001b[1;32m     68\u001b[0m             \u001b[0;31m# To get the full stack trace, call:\u001b[0m\u001b[0;34m\u001b[0m\u001b[0;34m\u001b[0m\u001b[0m\n\u001b[1;32m     69\u001b[0m             \u001b[0;31m# `tf.debugging.disable_traceback_filtering()`\u001b[0m\u001b[0;34m\u001b[0m\u001b[0;34m\u001b[0m\u001b[0m\n\u001b[0;32m---> 70\u001b[0;31m             \u001b[0;32mraise\u001b[0m \u001b[0me\u001b[0m\u001b[0;34m.\u001b[0m\u001b[0mwith_traceback\u001b[0m\u001b[0;34m(\u001b[0m\u001b[0mfiltered_tb\u001b[0m\u001b[0;34m)\u001b[0m \u001b[0;32mfrom\u001b[0m \u001b[0;32mNone\u001b[0m\u001b[0;34m\u001b[0m\u001b[0;34m\u001b[0m\u001b[0m\n\u001b[0m\u001b[1;32m     71\u001b[0m         \u001b[0;32mfinally\u001b[0m\u001b[0;34m:\u001b[0m\u001b[0;34m\u001b[0m\u001b[0;34m\u001b[0m\u001b[0m\n\u001b[1;32m     72\u001b[0m             \u001b[0;32mdel\u001b[0m \u001b[0mfiltered_tb\u001b[0m\u001b[0;34m\u001b[0m\u001b[0;34m\u001b[0m\u001b[0m\n",
            "\u001b[0;32m/usr/local/lib/python3.10/dist-packages/keras/src/engine/training.py\u001b[0m in \u001b[0;36mtf__train_function\u001b[0;34m(iterator)\u001b[0m\n\u001b[1;32m     13\u001b[0m                 \u001b[0;32mtry\u001b[0m\u001b[0;34m:\u001b[0m\u001b[0;34m\u001b[0m\u001b[0;34m\u001b[0m\u001b[0m\n\u001b[1;32m     14\u001b[0m                     \u001b[0mdo_return\u001b[0m \u001b[0;34m=\u001b[0m \u001b[0;32mTrue\u001b[0m\u001b[0;34m\u001b[0m\u001b[0;34m\u001b[0m\u001b[0m\n\u001b[0;32m---> 15\u001b[0;31m                     \u001b[0mretval_\u001b[0m \u001b[0;34m=\u001b[0m \u001b[0mag__\u001b[0m\u001b[0;34m.\u001b[0m\u001b[0mconverted_call\u001b[0m\u001b[0;34m(\u001b[0m\u001b[0mag__\u001b[0m\u001b[0;34m.\u001b[0m\u001b[0mld\u001b[0m\u001b[0;34m(\u001b[0m\u001b[0mstep_function\u001b[0m\u001b[0;34m)\u001b[0m\u001b[0;34m,\u001b[0m \u001b[0;34m(\u001b[0m\u001b[0mag__\u001b[0m\u001b[0;34m.\u001b[0m\u001b[0mld\u001b[0m\u001b[0;34m(\u001b[0m\u001b[0mself\u001b[0m\u001b[0;34m)\u001b[0m\u001b[0;34m,\u001b[0m \u001b[0mag__\u001b[0m\u001b[0;34m.\u001b[0m\u001b[0mld\u001b[0m\u001b[0;34m(\u001b[0m\u001b[0miterator\u001b[0m\u001b[0;34m)\u001b[0m\u001b[0;34m)\u001b[0m\u001b[0;34m,\u001b[0m \u001b[0;32mNone\u001b[0m\u001b[0;34m,\u001b[0m \u001b[0mfscope\u001b[0m\u001b[0;34m)\u001b[0m\u001b[0;34m\u001b[0m\u001b[0;34m\u001b[0m\u001b[0m\n\u001b[0m\u001b[1;32m     16\u001b[0m                 \u001b[0;32mexcept\u001b[0m\u001b[0;34m:\u001b[0m\u001b[0;34m\u001b[0m\u001b[0;34m\u001b[0m\u001b[0m\n\u001b[1;32m     17\u001b[0m                     \u001b[0mdo_return\u001b[0m \u001b[0;34m=\u001b[0m \u001b[0;32mFalse\u001b[0m\u001b[0;34m\u001b[0m\u001b[0;34m\u001b[0m\u001b[0m\n",
            "\u001b[0;31mValueError\u001b[0m: in user code:\n\n    File \"/usr/local/lib/python3.10/dist-packages/keras/src/engine/training.py\", line 1401, in train_function  *\n        return step_function(self, iterator)\n    File \"/usr/local/lib/python3.10/dist-packages/keras/src/engine/training.py\", line 1384, in step_function  **\n        outputs = model.distribute_strategy.run(run_step, args=(data,))\n    File \"/usr/local/lib/python3.10/dist-packages/keras/src/engine/training.py\", line 1373, in run_step  **\n        outputs = model.train_step(data)\n    File \"/usr/local/lib/python3.10/dist-packages/keras/src/engine/training.py\", line 1150, in train_step\n        y_pred = self(x, training=True)\n    File \"/usr/local/lib/python3.10/dist-packages/keras/src/utils/traceback_utils.py\", line 70, in error_handler\n        raise e.with_traceback(filtered_tb) from None\n    File \"/usr/local/lib/python3.10/dist-packages/keras/src/engine/input_spec.py\", line 298, in assert_input_compatibility\n        raise ValueError(\n\n    ValueError: Input 0 of layer \"model_3\" is incompatible with the layer: expected shape=(None, 1, 56, 140), found shape=(None, 56, 140, 1)\n"
          ]
        }
      ]
    },
    {
      "cell_type": "code",
      "source": [
        "import numpy as np\n",
        "from tensorflow.keras.utils import to_categorical\n",
        "from tensorflow.keras.optimizers import Adam\n",
        "from tensorflow.keras.callbacks import ModelCheckpoint\n",
        "from tensorflow.keras import backend as K\n",
        "\n",
        "# Ensure data is in NHWC format\n",
        "#X_train = np.transpose(X_train, (0, 2, 3, 1))\n",
        "#X_valid = np.transpose(X_valid, (0, 2, 3, 1))\n",
        "#X_test = np.transpose(X_test, (0, 2, 3, 1))\n",
        "\n",
        "# One-Hot Encode Your Labels\n",
        "Y_train = to_categorical(Y_train, num_classes=4)\n",
        "Y_valid = to_categorical(Y_valid, num_classes=4)\n",
        "\n",
        "# Adjust Class Weights\n",
        "class_weights = {}\n",
        "for i in range(4):\n",
        "    count = np.sum(Y_train[:, i] == 1)\n",
        "    if count > 0:\n",
        "        class_weights[i] = 1 / count\n",
        "    else:\n",
        "        class_weights[i] = 1.0\n",
        "\n",
        "# Define and Compile the Model\n",
        "model = EEGNet(nb_classes=4, Chans=channel, Samples=sample)\n",
        "model.compile(optimizer=Adam(), loss='categorical_crossentropy', metrics=['accuracy'])\n",
        "\n",
        "# Define ModelCheckpoint Callback\n",
        "checkpointer = ModelCheckpoint(filepath='/tmp/checkpoint.keras', verbose=1, save_best_only=True)\n",
        "\n",
        "# Train the Model\n",
        "fittedModel = model.fit(\n",
        "    X_train, Y_train,\n",
        "    batch_size=32,\n",
        "    epochs=10,\n",
        "    verbose=2,\n",
        "    validation_data=(X_valid, Y_valid),\n",
        "    callbacks=[checkpointer],\n",
        "    class_weight=class_weights\n",
        ")\n"
      ],
      "metadata": {
        "id": "Ljf50cvz8mgR"
      },
      "execution_count": null,
      "outputs": []
    },
    {
      "cell_type": "code",
      "source": [
        "\n",
        "\n",
        "Y_train_cat = to_categorical(Y_train, num_classes=4)\n",
        "Y_valid_cat = to_categorical(Y_valid, num_classes=4)\n",
        "\n",
        "# Flatten the training data for StratifiedKFold\n",
        "n_samples = X_train.shape[0]\n",
        "X_train_flat = X_train.reshape(n_samples, -1)\n",
        "\n",
        "# Initialize StratifiedKFold\n",
        "n_splits = 2\n",
        "skf = StratifiedKFold(n_splits=n_splits, shuffle=True, random_state=42)\n",
        "\n",
        "# Placeholder for storing fold results\n",
        "fold_accuracies = []\n",
        "\n",
        "for fold, (train_index, valid_index) in enumerate(skf.split(X_train_flat, Y_train)):\n",
        "    print(f\"Training fold {fold + 1}/{n_splits}...\")\n",
        "\n",
        "    # Split data\n",
        "    X_train_fold, X_valid_fold = X_train[train_index], X_train[valid_index]\n",
        "    Y_train_fold, Y_valid_fold = Y_train_cat[train_index], Y_train_cat[valid_index]\n",
        "    X_train_fold = np.transpose(X_train_fold, (0, 3, 1, 2))\n",
        "    X_valid_fold = np.transpose(X_valid_fold, (0, 3, 1, 2))\n",
        "\n",
        "    # Define the EEGNet model\n",
        "    model = EEGNet(nb_classes=4, Chans=channel, Samples=sample)\n",
        "\n",
        "    # Compile the model\n",
        "    model.compile(optimizer=Adam(), loss='categorical_crossentropy', metrics=['accuracy'])\n",
        "\n",
        "    # Define the ModelCheckpoint callback\n",
        "    checkpointer = ModelCheckpoint(filepath=f'/tmp/checkpoint_fold{fold+1}.keras', verbose=1, save_best_only=True)\n",
        "\n",
        "    # Calculate class weights\n",
        "    class_weights = {i: 1 / np.sum(Y_train == i) for i in range(4)}\n",
        "\n",
        "    # Fit the model\n",
        "    history = model.fit(\n",
        "        X_train_fold, Y_train_fold,\n",
        "        batch_size=32,\n",
        "        epochs=1,\n",
        "        verbose=2,\n",
        "        validation_data=(X_valid_fold, Y_valid_fold),\n",
        "        callbacks=[checkpointer],\n",
        "        class_weight=class_weights\n",
        "    )\n",
        "\n",
        "    # Evaluate the model on the validation set\n",
        "    accuracy = model.evaluate(X_valid_fold, Y_valid_fold, verbose=0)\n",
        "    print(f\"Fold {fold + 1} Accuracy: {accuracy}\")\n",
        "    fold_accuracies.append(accuracy)\n",
        "\n",
        "# Calculate average accuracy across all folds\n",
        "average_accuracy = np.mean(fold_accuracies)\n",
        "print(f\"Average Accuracy across {n_splits} folds: {average_accuracy}\")\n",
        "\n",
        "# Evaluate the model on the test set\n",
        "Y_test_cat = to_categorical(Y_test, num_classes=4)\n",
        "test_loss, test_accuracy = model.evaluate(X_test, Y_test_cat, verbose=0)\n",
        "print(f\"Test Accuracy: {test_accuracy}\")\n",
        "\n",
        "# Optionally, print summary of the model\n",
        "model.summary()\n"
      ],
      "metadata": {
        "id": "sU4JTwE-8uRS"
      },
      "execution_count": null,
      "outputs": []
    }
  ]
}